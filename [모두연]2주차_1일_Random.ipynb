{
  "nbformat": 4,
  "nbformat_minor": 0,
  "metadata": {
    "colab": {
      "provenance": []
    },
    "kernelspec": {
      "name": "python3",
      "display_name": "Python 3"
    },
    "language_info": {
      "name": "python"
    }
  },
  "cells": [
    {
      "cell_type": "markdown",
      "source": [
        "#1. Randrange() 함수\n",
        "\n"
      ],
      "metadata": {
        "id": "oN0-PwIw0zhv"
      }
    },
    {
      "cell_type": "code",
      "execution_count": null,
      "metadata": {
        "id": "PhWAir0A0tRt"
      },
      "outputs": [],
      "source": [
        "import random"
      ]
    },
    {
      "cell_type": "code",
      "source": [
        "num = random.randrange(10)\n",
        "\n",
        "print(num)"
      ],
      "metadata": {
        "colab": {
          "base_uri": "https://localhost:8080/"
        },
        "id": "Dkr-qt-e1PuO",
        "outputId": "fd6df336-bdcf-483e-9148-1e932c3ca089"
      },
      "execution_count": null,
      "outputs": [
        {
          "output_type": "stream",
          "name": "stdout",
          "text": [
            "4\n"
          ]
        }
      ]
    },
    {
      "cell_type": "code",
      "source": [
        "elements = ['사과', '바나나', ' 체리']"
      ],
      "metadata": {
        "id": "nox5LUbA77fD"
      },
      "execution_count": null,
      "outputs": []
    },
    {
      "cell_type": "code",
      "source": [
        "print(elements)"
      ],
      "metadata": {
        "colab": {
          "base_uri": "https://localhost:8080/"
        },
        "id": "waaUi1Jx8AIL",
        "outputId": "c7741cb4-3ec4-419d-8408-b1ff76d94d03"
      },
      "execution_count": null,
      "outputs": [
        {
          "output_type": "stream",
          "name": "stdout",
          "text": [
            "['사과', '바나나', ' 체리']\n"
          ]
        }
      ]
    },
    {
      "cell_type": "code",
      "source": [
        "과일=random.choice(elements)\n",
        "print(과일)"
      ],
      "metadata": {
        "colab": {
          "base_uri": "https://localhost:8080/"
        },
        "id": "tP6yr36L8CyU",
        "outputId": "a09c8993-4591-4d15-ffc0-0d4d248987b5"
      },
      "execution_count": null,
      "outputs": [
        {
          "output_type": "stream",
          "name": "stdout",
          "text": [
            "사과\n"
          ]
        }
      ]
    },
    {
      "cell_type": "code",
      "source": [
        "# 이 코드는 Random 라이브러리를 사용한 예시입니다.\n",
        "import random  # random 라이브러리를 사용하기 위한 코드\n",
        "\n",
        "\n",
        "random_number1 = random.randint(1, 10)  # 1과 10 사이의 숫자를 랜덤으로 받아옴\n",
        "random_number2 = random.randint(1, 10)  # 1과 10 사이의 숫자를 랜덤으로 받아옴\n",
        "\n",
        "\n",
        "sum_of_numbers = random_number1 + random_number2 # 위에서 숫자\n",
        "\n",
        "\n",
        "print(f\"첫 번째 생성된 숫자: {random_number1}\")  # 첫번째 숫자를 출력\n",
        "print(f\"두 번째 생성된 숫자: {random_number2}\")  # 두번째 숫자를 출력\n",
        "print(f\"두 숫자의 합: {sum_of_numbers}\")  # 임의의 두 숫자의 합"
      ],
      "metadata": {
        "id": "aWe_iyDX_ihK"
      },
      "execution_count": null,
      "outputs": []
    },
    {
      "cell_type": "code",
      "source": [
        "# 주사위\n",
        "\n",
        "\n",
        "dice1 = random.randrange(1,7)\n",
        "\n",
        "dice2 = random.randrange(1,7)\n",
        "\n",
        "print(dice1,dice2, sep='+')\n",
        "\n",
        "print(f\"주사위 결과는 {dice1+dice2} 입니다\")\n"
      ],
      "metadata": {
        "colab": {
          "base_uri": "https://localhost:8080/"
        },
        "id": "p1hwvWOGB42j",
        "outputId": "d88eac5a-22a5-4452-edd0-5f7ea4237423"
      },
      "execution_count": null,
      "outputs": [
        {
          "output_type": "stream",
          "name": "stdout",
          "text": [
            "6+4\n",
            "주사위 결과는 10 입니다\n"
          ]
        }
      ]
    },
    {
      "cell_type": "markdown",
      "source": [
        "# 윳놀이"
      ],
      "metadata": {
        "id": "XLMzQxfsErO5"
      }
    },
    {
      "cell_type": "code",
      "source": [
        "import random\n",
        "\n",
        "# 0 = 앞 1 = 뒤\n",
        "# total 의 합이 -1이면 빽도 , 0 이면 윳 , 4 이면 모\n",
        "\n",
        "stick1 = random.randrange(-1,2) # 하나의 스틱에 빽도 표시 -1\n",
        "\n",
        "stick2 = random.randrange(0,2)\n",
        "\n",
        "stick3 = random.randrange(0,2)\n",
        "\n",
        "stick4 = random.randrange(0,2)\n",
        "\n",
        "total = stick1 + stick2 + stick3 + stick4\n",
        "\n",
        "\n",
        "\n",
        "print(stick1, stick2, stick3, stick4)\n",
        "\n",
        "\n",
        "print(total)\n",
        "\n"
      ],
      "metadata": {
        "colab": {
          "base_uri": "https://localhost:8080/"
        },
        "id": "xl5BapY4EtLh",
        "outputId": "d4803a2e-1c6d-4b46-c1de-1435ba4949a8"
      },
      "execution_count": null,
      "outputs": [
        {
          "output_type": "stream",
          "name": "stdout",
          "text": [
            "-1 1 1 1\n",
            "2\n"
          ]
        }
      ]
    },
    {
      "cell_type": "code",
      "source": [
        "stick1 = random.choice([0,1])\n",
        "stick2 = random.choice([0,1])\n",
        "stick3 = random.choice([0,1])\n",
        "stick4 = random.choice([0,1])\n",
        "\n",
        "total = stick1+stick2+stick3+stick4\n",
        "\n",
        "print(total)\n",
        "\n",
        "result = ['모','도','개','걸','윳']\n",
        "\n",
        "print(result[total])\n"
      ],
      "metadata": {
        "colab": {
          "base_uri": "https://localhost:8080/"
        },
        "id": "keCdp367PKTG",
        "outputId": "6969199b-82f6-4424-dacd-7d8fd11631da"
      },
      "execution_count": null,
      "outputs": [
        {
          "output_type": "stream",
          "name": "stdout",
          "text": [
            "0\n",
            "모\n"
          ]
        }
      ]
    }
  ]
}