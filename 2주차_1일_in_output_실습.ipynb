{
  "nbformat": 4,
  "nbformat_minor": 0,
  "metadata": {
    "colab": {
      "provenance": []
    },
    "kernelspec": {
      "name": "python3",
      "display_name": "Python 3"
    },
    "language_info": {
      "name": "python"
    }
  },
  "cells": [
    {
      "cell_type": "markdown",
      "source": [],
      "metadata": {
        "id": "rlV1PAZBlTJF"
      }
    },
    {
      "cell_type": "code",
      "source": [
        "# 2024 계획적기\n",
        "'''\n",
        "1. 2024년에 한달에 책 한권 읽기\n",
        "\n",
        "2. 매일 코딩하는 습관 들이기\n",
        "\n",
        "3. 주 4회 운동하기\n",
        "\n",
        "\n",
        "'''"
      ],
      "metadata": {
        "colab": {
          "base_uri": "https://localhost:8080/",
          "height": 35
        },
        "id": "ytbFBDAGlnGE",
        "outputId": "88319826-4ca8-4c7a-fcdf-fbb87106315d"
      },
      "execution_count": null,
      "outputs": [
        {
          "output_type": "execute_result",
          "data": {
            "text/plain": [
              "'\\n1. 한달에 책 한권 읽기\\n\\n2. 매일 코딩하는 습관 들이기\\n\\n3. 다이어트 하기\\n\\n4. 운동하기\\n'"
            ],
            "application/vnd.google.colaboratory.intrinsic+json": {
              "type": "string"
            }
          },
          "metadata": {},
          "execution_count": 3
        }
      ]
    },
    {
      "cell_type": "code",
      "execution_count": null,
      "metadata": {
        "colab": {
          "base_uri": "https://localhost:8080/"
        },
        "id": "hM236UVGlGaM",
        "outputId": "76aff96e-d55f-4388-81be-a3850d6496b2"
      },
      "outputs": [
        {
          "name": "stdout",
          "output_type": "stream",
          "text": [
            "나는 새해에 책을 ___권 읽겠다\n",
            "3\n"
          ]
        }
      ],
      "source": [
        "sentence1 = input(\"나는 새해에 책을 ___권 읽겠다\\n\")\n",
        "\n"
      ]
    },
    {
      "cell_type": "code",
      "source": [
        "print(f\"나는 새해에 책을 {sentence1} 권 읽기로 했다\")"
      ],
      "metadata": {
        "colab": {
          "base_uri": "https://localhost:8080/"
        },
        "id": "ggi9smMRnF2E",
        "outputId": "6ee124e5-9f60-425c-e153-3608081d5d30"
      },
      "execution_count": null,
      "outputs": [
        {
          "output_type": "stream",
          "name": "stdout",
          "text": [
            "나는 새해에 책을 3 권 읽기로 했다\n"
          ]
        }
      ]
    },
    {
      "cell_type": "code",
      "source": [
        "sentence_2 = input(\"나는 이번해에 __와___는 꼭 하려고 한다(한칸 띄어써주세요)\")"
      ],
      "metadata": {
        "colab": {
          "base_uri": "https://localhost:8080/"
        },
        "id": "Lz9cJQa4ngw7",
        "outputId": "79387562-a24b-4ebd-c113-3b0430758683"
      },
      "execution_count": null,
      "outputs": [
        {
          "name": "stdout",
          "output_type": "stream",
          "text": [
            "나는 이번해에 __와___는 꼭 하려고 한다(한칸 띄어써주세요)공부 코딩\n"
          ]
        }
      ]
    },
    {
      "cell_type": "code",
      "source": [
        "word1, word2 = sentence_2.split()"
      ],
      "metadata": {
        "id": "KOcyGISVntUD"
      },
      "execution_count": null,
      "outputs": []
    },
    {
      "cell_type": "code",
      "source": [
        "print(f\"나는 이번해에 {word1}와{word2}을 꼭 하려고한다\")"
      ],
      "metadata": {
        "colab": {
          "base_uri": "https://localhost:8080/"
        },
        "id": "onopM0vlnzFD",
        "outputId": "d143c1ed-bc64-42cc-9c42-693a29c8382e"
      },
      "execution_count": null,
      "outputs": [
        {
          "output_type": "stream",
          "name": "stdout",
          "text": [
            "나는 이번해에 공부와코딩을 꼭 하려고한다\n"
          ]
        }
      ]
    },
    {
      "cell_type": "markdown",
      "source": [
        "# 2. 두가지 값을 입력 받는법"
      ],
      "metadata": {
        "id": "885WWsiMuK1S"
      }
    },
    {
      "cell_type": "code",
      "source": [
        "word1 = input(\"올해는 ___와\")\n",
        "word2 = input(\"___에 집중 하려고 한다\")\n",
        "\n",
        "# print(f\"올해는 {word1}와\",end =\" \")\n",
        "# print(f\"{word2}에 집중하려고 한다\")"
      ],
      "metadata": {
        "colab": {
          "base_uri": "https://localhost:8080/"
        },
        "id": "yVuUkjBhuKCY",
        "outputId": "1abaa545-1a51-4344-b803-72cc1193899e"
      },
      "execution_count": null,
      "outputs": [
        {
          "output_type": "stream",
          "name": "stdout",
          "text": [
            "올해는 ___와축구\n",
            "___에 집중 하려고 한다농구\n",
            "올해는 축구와 농구에 집중하려고 한다\n"
          ]
        }
      ]
    },
    {
      "cell_type": "code",
      "source": [
        "\n",
        "print(f\"올해는 {word1}와\",end =\" \")\n",
        "print(f\"{word2}에 집중하려고 한다\")"
      ],
      "metadata": {
        "colab": {
          "base_uri": "https://localhost:8080/"
        },
        "id": "zQM0Xeh7vuLY",
        "outputId": "8c36643c-141f-4908-b687-df237556f75c"
      },
      "execution_count": null,
      "outputs": [
        {
          "output_type": "stream",
          "name": "stdout",
          "text": [
            "올해는 축구와 농구에 집중하려고 한다\n"
          ]
        }
      ]
    },
    {
      "cell_type": "code",
      "source": [
        "\n",
        "print(f\"올해는 {word1+word2}에 집중하려고 한다\",end =\" \")"
      ],
      "metadata": {
        "colab": {
          "base_uri": "https://localhost:8080/"
        },
        "id": "EBSbeIO6vTZB",
        "outputId": "041136d6-28f9-481b-bdf0-61f2db046b86"
      },
      "execution_count": null,
      "outputs": [
        {
          "output_type": "stream",
          "name": "stdout",
          "text": [
            "올해는 축구농구와 "
          ]
        }
      ]
    }
  ]
}