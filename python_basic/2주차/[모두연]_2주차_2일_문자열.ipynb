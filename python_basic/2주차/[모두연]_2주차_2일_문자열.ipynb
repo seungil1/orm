{
  "nbformat": 4,
  "nbformat_minor": 0,
  "metadata": {
    "colab": {
      "provenance": []
    },
    "kernelspec": {
      "name": "python3",
      "display_name": "Python 3"
    },
    "language_info": {
      "name": "python"
    }
  },
  "cells": [
    {
      "cell_type": "markdown",
      "source": [
        "# 1. 문자열"
      ],
      "metadata": {
        "id": "GMVcqymvyLOD"
      }
    },
    {
      "cell_type": "code",
      "execution_count": 4,
      "metadata": {
        "id": "_qwoJSwUyB69"
      },
      "outputs": [],
      "source": [
        "# 문자열 기초\n",
        "\n",
        "x = 'hello'\n",
        "y = \"python\""
      ]
    },
    {
      "cell_type": "code",
      "source": [
        "print(x,y)"
      ],
      "metadata": {
        "colab": {
          "base_uri": "https://localhost:8080/"
        },
        "id": "SvOnRndRyS5M",
        "outputId": "c8630f1a-d699-4f72-95bb-59ad41f0b8b9"
      },
      "execution_count": 5,
      "outputs": [
        {
          "output_type": "stream",
          "name": "stdout",
          "text": [
            "hello python\n"
          ]
        }
      ]
    },
    {
      "cell_type": "code",
      "source": [
        "i = ''' 안녕하세요\n",
        "저는 주니어 백앤드 개발자입니다'''\n",
        "\n",
        "j = \"\"\"안녕하세요\n",
        "저는 주니어 백앤드 개발자입니다\"\"\"\n",
        "\n"
      ],
      "metadata": {
        "id": "tZeKer4fycy9"
      },
      "execution_count": 10,
      "outputs": []
    },
    {
      "cell_type": "code",
      "source": [
        "i"
      ],
      "metadata": {
        "colab": {
          "base_uri": "https://localhost:8080/",
          "height": 35
        },
        "id": "AdeU1YfZypLC",
        "outputId": "36a7f2da-8369-4303-fa1f-0a4a9ae9493d"
      },
      "execution_count": 9,
      "outputs": [
        {
          "output_type": "execute_result",
          "data": {
            "text/plain": [
              "' 안녕하세요\\n저는 주니어 백앤드 개발자입니다'"
            ],
            "application/vnd.google.colaboratory.intrinsic+json": {
              "type": "string"
            }
          },
          "metadata": {},
          "execution_count": 9
        }
      ]
    },
    {
      "cell_type": "code",
      "source": [
        "j"
      ],
      "metadata": {
        "colab": {
          "base_uri": "https://localhost:8080/",
          "height": 35
        },
        "id": "Mp8wyD1eyumS",
        "outputId": "f42e8d55-bef6-49eb-e282-640030e136cb"
      },
      "execution_count": 11,
      "outputs": [
        {
          "output_type": "execute_result",
          "data": {
            "text/plain": [
              "'안녕하세요\\n저는 주니어 백앤드 개발자입니다'"
            ],
            "application/vnd.google.colaboratory.intrinsic+json": {
              "type": "string"
            }
          },
          "metadata": {},
          "execution_count": 11
        }
      ]
    },
    {
      "cell_type": "code",
      "source": [
        "print(i)"
      ],
      "metadata": {
        "colab": {
          "base_uri": "https://localhost:8080/"
        },
        "id": "TR71pDhoyj9q",
        "outputId": "48bcea45-90ec-4dde-c0be-fac116372799"
      },
      "execution_count": 8,
      "outputs": [
        {
          "output_type": "stream",
          "name": "stdout",
          "text": [
            " 안녕하세요\n",
            "저는 주니어 백앤드 개발자입니다\n"
          ]
        }
      ]
    },
    {
      "cell_type": "code",
      "source": [
        "print(j)"
      ],
      "metadata": {
        "colab": {
          "base_uri": "https://localhost:8080/"
        },
        "id": "G2TMWzPCywVC",
        "outputId": "9b1c11ff-af27-4215-db2c-23754e86eb8e"
      },
      "execution_count": 12,
      "outputs": [
        {
          "output_type": "stream",
          "name": "stdout",
          "text": [
            "안녕하세요\n",
            "저는 주니어 백앤드 개발자입니다\n"
          ]
        }
      ]
    },
    {
      "cell_type": "code",
      "source": [
        "# 문자열 덧셈, 곱셈\n",
        "\n",
        "\n",
        "\n",
        "x = 'hello'\n",
        "y = 'world'\n",
        "\n",
        "print(x + y)\n",
        "\n",
        "x = '10'\n",
        "y =' 20'\n",
        "print(x + y)\n",
        "\n",
        "# 문자열의 곱셈\n",
        "\n",
        "print(x*5)"
      ],
      "metadata": {
        "colab": {
          "base_uri": "https://localhost:8080/"
        },
        "id": "VQRLLs7a2I9D",
        "outputId": "6ed3ce55-1d23-4a75-8a7a-c6b21fc6b0af"
      },
      "execution_count": 17,
      "outputs": [
        {
          "output_type": "stream",
          "name": "stdout",
          "text": [
            "helloworld\n",
            "10 20\n",
            "1010101010\n"
          ]
        }
      ]
    },
    {
      "cell_type": "code",
      "source": [
        "# 문자열 인덱싱\n",
        "\n",
        "s = '위니브 월드!'\n",
        "\n",
        "print(s[0])\n",
        "print(s[-1]) # 맨 마지막 문자 출력"
      ],
      "metadata": {
        "colab": {
          "base_uri": "https://localhost:8080/"
        },
        "id": "sXlth-es2h8S",
        "outputId": "2894e646-b359-4e9b-a10d-37702f58c98c"
      },
      "execution_count": 39,
      "outputs": [
        {
          "output_type": "stream",
          "name": "stdout",
          "text": [
            "!\n"
          ]
        }
      ]
    },
    {
      "cell_type": "code",
      "source": [
        "# 범위 벗어나면 오류\n",
        "print(s[7])"
      ],
      "metadata": {
        "colab": {
          "base_uri": "https://localhost:8080/",
          "height": 184
        },
        "id": "NScR-ITz3JTo",
        "outputId": "9df52c51-7c18-4f2e-d947-fab50f77a564"
      },
      "execution_count": 40,
      "outputs": [
        {
          "output_type": "error",
          "ename": "IndexError",
          "evalue": "ignored",
          "traceback": [
            "\u001b[0;31m---------------------------------------------------------------------------\u001b[0m",
            "\u001b[0;31mIndexError\u001b[0m                                Traceback (most recent call last)",
            "\u001b[0;32m<ipython-input-40-2ea561dd801a>\u001b[0m in \u001b[0;36m<cell line: 1>\u001b[0;34m()\u001b[0m\n\u001b[0;32m----> 1\u001b[0;31m \u001b[0mprint\u001b[0m\u001b[0;34m(\u001b[0m\u001b[0ms\u001b[0m\u001b[0;34m[\u001b[0m\u001b[0;36m7\u001b[0m\u001b[0;34m]\u001b[0m\u001b[0;34m)\u001b[0m\u001b[0;34m\u001b[0m\u001b[0;34m\u001b[0m\u001b[0m\n\u001b[0m",
            "\u001b[0;31mIndexError\u001b[0m: string index out of range"
          ]
        }
      ]
    },
    {
      "cell_type": "code",
      "source": [
        "s = 'weniv CEO licat'\n",
        "\n",
        "# 시작점을 끝으로 전체출력\n",
        "print(s[6:])\n",
        "# 전부다 출력\n",
        "print((s[:]))\n",
        "# 거꾸로 출력\n",
        "print(s[::-1])\n",
        "# 두칸씩 출력\n",
        "print(s[::2])"
      ],
      "metadata": {
        "colab": {
          "base_uri": "https://localhost:8080/"
        },
        "id": "Yb7D57ev3RtY",
        "outputId": "4bcd9520-f58b-496b-cb34-0be2cfece47f"
      },
      "execution_count": 44,
      "outputs": [
        {
          "output_type": "stream",
          "name": "stdout",
          "text": [
            "CEO licat\n",
            "weniv CEO licat\n",
            "tacil OEC vinew\n",
            "wnvCOlct\n"
          ]
        }
      ]
    },
    {
      "cell_type": "code",
      "source": [
        "s = 'weniv_licat.png'\n",
        "\n",
        "print(s[12:])\n",
        "print(s[-3:])"
      ],
      "metadata": {
        "colab": {
          "base_uri": "https://localhost:8080/"
        },
        "id": "tWGe2peE6T_Y",
        "outputId": "59346d67-1b0f-49c5-e979-ff9a3cdbae4d"
      },
      "execution_count": 49,
      "outputs": [
        {
          "output_type": "stream",
          "name": "stdout",
          "text": [
            "png\n",
            "png\n"
          ]
        }
      ]
    },
    {
      "cell_type": "code",
      "source": [
        "s = 'weniv CEO licat'\n",
        "\n",
        "s.find('CEO')\n"
      ],
      "metadata": {
        "colab": {
          "base_uri": "https://localhost:8080/"
        },
        "id": "LlyKxGcq87j_",
        "outputId": "dc9d6b5f-d630-4c41-81ef-1a4b19292d0c"
      },
      "execution_count": 53,
      "outputs": [
        {
          "output_type": "execute_result",
          "data": {
            "text/plain": [
              "6"
            ]
          },
          "metadata": {},
          "execution_count": 53
        }
      ]
    },
    {
      "cell_type": "code",
      "source": [
        "s.index('CEO')"
      ],
      "metadata": {
        "colab": {
          "base_uri": "https://localhost:8080/"
        },
        "id": "hq3GxziB9Phw",
        "outputId": "0b5462c8-df7d-45b5-c0c0-df788c0fb08d"
      },
      "execution_count": 54,
      "outputs": [
        {
          "output_type": "execute_result",
          "data": {
            "text/plain": [
              "6"
            ]
          },
          "metadata": {},
          "execution_count": 54
        }
      ]
    },
    {
      "cell_type": "code",
      "source": [
        "s = 'weniv CEO licat'\n",
        "\n",
        "s.count('i')"
      ],
      "metadata": {
        "colab": {
          "base_uri": "https://localhost:8080/"
        },
        "id": "bGmjohby9tL2",
        "outputId": "f058d03a-b4ee-4ae5-ca83-5530ac177353"
      },
      "execution_count": 58,
      "outputs": [
        {
          "output_type": "execute_result",
          "data": {
            "text/plain": [
              "2"
            ]
          },
          "metadata": {},
          "execution_count": 58
        }
      ]
    },
    {
      "cell_type": "code",
      "source": [
        "s.count(' ') # 공백도 찾아줌, 대소문자 구분"
      ],
      "metadata": {
        "colab": {
          "base_uri": "https://localhost:8080/"
        },
        "id": "rfkgXFdb99qt",
        "outputId": "b08c1fc8-1636-4871-ec85-4cb22b74e686"
      },
      "execution_count": 59,
      "outputs": [
        {
          "output_type": "execute_result",
          "data": {
            "text/plain": [
              "2"
            ]
          },
          "metadata": {},
          "execution_count": 59
        }
      ]
    },
    {
      "cell_type": "code",
      "source": [
        "# strip() / excel = trim()\n",
        "# 문자열 양쪽에 있는 공백을 제거하는 method\n",
        "\n",
        "s = '      weniv CEO licat      '\n",
        "\n",
        "s.strip() # 간혹가다 strip 으로 제거가 안되는 경우가 있음 너무 신뢰 하지 않는게 좋음"
      ],
      "metadata": {
        "colab": {
          "base_uri": "https://localhost:8080/",
          "height": 35
        },
        "id": "GB_Tp8jA-D4G",
        "outputId": "dd7f2a95-4f96-4a83-a2cc-d8314a17f843"
      },
      "execution_count": 61,
      "outputs": [
        {
          "output_type": "execute_result",
          "data": {
            "text/plain": [
              "'weniv CEO licat'"
            ],
            "application/vnd.google.colaboratory.intrinsic+json": {
              "type": "string"
            }
          },
          "metadata": {},
          "execution_count": 61
        }
      ]
    },
    {
      "cell_type": "code",
      "source": [
        "'           ,!!  hello world         '.strip(' ,!')"
      ],
      "metadata": {
        "colab": {
          "base_uri": "https://localhost:8080/",
          "height": 35
        },
        "id": "oYOG05R0-htN",
        "outputId": "6032f689-0b02-4684-c49b-4ce123e2f011"
      },
      "execution_count": 63,
      "outputs": [
        {
          "output_type": "execute_result",
          "data": {
            "text/plain": [
              "'hello world'"
            ],
            "application/vnd.google.colaboratory.intrinsic+json": {
              "type": "string"
            }
          },
          "metadata": {},
          "execution_count": 63
        }
      ]
    },
    {
      "cell_type": "code",
      "source": [
        "s = 'weniv CEO licat'\n",
        "\n",
        "s.replace('CEO', 'CTO') # 원하는 문자열을 다른 문자열로 대체 할때 사용 , 대소문자를 구분함 , 백엔드하려면 정규표현식을 알아야함\n",
        "\n",
        "# 새로운 변수에 할당을 해야 변경된 사항이 저장 됌\n"
      ],
      "metadata": {
        "colab": {
          "base_uri": "https://localhost:8080/",
          "height": 35
        },
        "id": "faKNSkNX--zG",
        "outputId": "3820e13f-d9b0-4a56-a11e-8b2ffc0564e8"
      },
      "execution_count": 65,
      "outputs": [
        {
          "output_type": "execute_result",
          "data": {
            "text/plain": [
              "'weniv CTO licat'"
            ],
            "application/vnd.google.colaboratory.intrinsic+json": {
              "type": "string"
            }
          },
          "metadata": {},
          "execution_count": 65
        }
      ]
    },
    {
      "cell_type": "code",
      "source": [
        "# split() / join()\n",
        "# split은 리스트 형태로 담김\n",
        "\n",
        "s = 'weniv CEO licat'\n",
        "\n",
        "s.split(' ') # 공백 기준 문자열 나누기\n",
        "\n",
        "\n"
      ],
      "metadata": {
        "colab": {
          "base_uri": "https://localhost:8080/"
        },
        "id": "7Izi4pzo_7wW",
        "outputId": "67e7fc23-129e-4c60-a0f3-88df7d814bea"
      },
      "execution_count": 69,
      "outputs": [
        {
          "output_type": "execute_result",
          "data": {
            "text/plain": [
              "['weniv', 'CEO', 'licat']"
            ]
          },
          "metadata": {},
          "execution_count": 69
        }
      ]
    },
    {
      "cell_type": "code",
      "source": [
        "s = 'weniv- CEO- licat'\n",
        "\n",
        "s.split('-')"
      ],
      "metadata": {
        "colab": {
          "base_uri": "https://localhost:8080/"
        },
        "id": "4gST716FEUTE",
        "outputId": "825693d7-e61e-4c23-aa8e-6f8c292c125b"
      },
      "execution_count": 70,
      "outputs": [
        {
          "output_type": "execute_result",
          "data": {
            "text/plain": [
              "['weniv', ' CEO', ' licat']"
            ]
          },
          "metadata": {},
          "execution_count": 70
        }
      ]
    },
    {
      "cell_type": "code",
      "source": [
        "s = ['weniv', 'ceo', 'licat']\n",
        "\n",
        "'-'.join(s) #리스트를 하나의 문자열로 합치기\n",
        "\n",
        "' '.join(s)"
      ],
      "metadata": {
        "colab": {
          "base_uri": "https://localhost:8080/",
          "height": 35
        },
        "id": "HOw99fqhEmnN",
        "outputId": "a7058dc4-f5f2-4429-dfe0-e482e515145b"
      },
      "execution_count": 73,
      "outputs": [
        {
          "output_type": "execute_result",
          "data": {
            "text/plain": [
              "'weniv ceo licat'"
            ],
            "application/vnd.google.colaboratory.intrinsic+json": {
              "type": "string"
            }
          },
          "metadata": {},
          "execution_count": 73
        }
      ]
    },
    {
      "cell_type": "code",
      "source": [
        "s = '010 2999 5555'\n",
        "\n",
        "'-'.join(s.split(' '))"
      ],
      "metadata": {
        "colab": {
          "base_uri": "https://localhost:8080/",
          "height": 35
        },
        "id": "Iws6lppcFKDr",
        "outputId": "883fda31-7490-4e62-9b36-45931704fd55"
      },
      "execution_count": 76,
      "outputs": [
        {
          "output_type": "execute_result",
          "data": {
            "text/plain": [
              "'010-2999-5555'"
            ],
            "application/vnd.google.colaboratory.intrinsic+json": {
              "type": "string"
            }
          },
          "metadata": {},
          "execution_count": 76
        }
      ]
    },
    {
      "cell_type": "code",
      "source": [
        "# isdigit() # 문자열이 숫자로만 이루어져있는지 확인\n",
        "\n",
        "s = '123412412'\n",
        "\n",
        "s.isdigit() # 숫자말고 다른게 있으면 FALSE 반환"
      ],
      "metadata": {
        "colab": {
          "base_uri": "https://localhost:8080/"
        },
        "id": "doPIegOXHbpb",
        "outputId": "363b12e3-5bab-4c16-dd5a-575b54a52e51"
      },
      "execution_count": 79,
      "outputs": [
        {
          "output_type": "execute_result",
          "data": {
            "text/plain": [
              "True"
            ]
          },
          "metadata": {},
          "execution_count": 79
        }
      ]
    },
    {
      "cell_type": "code",
      "source": [
        "# isalpha() 문자열이 알파벳으로만 이루어져있나 확인\n",
        "\n"
      ],
      "metadata": {
        "id": "meKrRcuCIaSM"
      },
      "execution_count": null,
      "outputs": []
    },
    {
      "cell_type": "code",
      "source": [
        "#rjust() 문자열을 지정한 길이로 맞추고 왼쪽을 채우는 메서드\n",
        "\n",
        "s = 'licat'\n",
        "\n",
        "s.rjust(10,'*')"
      ],
      "metadata": {
        "colab": {
          "base_uri": "https://localhost:8080/",
          "height": 35
        },
        "id": "5jfBTQlVJF_F",
        "outputId": "93354117-0ecb-462c-a580-e12f7f59f0cb"
      },
      "execution_count": 80,
      "outputs": [
        {
          "output_type": "execute_result",
          "data": {
            "text/plain": [
              "'*****licat'"
            ],
            "application/vnd.google.colaboratory.intrinsic+json": {
              "type": "string"
            }
          },
          "metadata": {},
          "execution_count": 80
        }
      ]
    },
    {
      "cell_type": "code",
      "source": [
        "s.ljust(10,'*')"
      ],
      "metadata": {
        "colab": {
          "base_uri": "https://localhost:8080/",
          "height": 35
        },
        "id": "P25pHILLJTma",
        "outputId": "254ae31b-9fa7-4f7d-82ff-d1ef6bb74d7e"
      },
      "execution_count": 81,
      "outputs": [
        {
          "output_type": "execute_result",
          "data": {
            "text/plain": [
              "'licat*****'"
            ],
            "application/vnd.google.colaboratory.intrinsic+json": {
              "type": "string"
            }
          },
          "metadata": {},
          "execution_count": 81
        }
      ]
    },
    {
      "cell_type": "code",
      "source": [
        "s = '940718-1'\n",
        "\n",
        "s.ljust(14,'*')"
      ],
      "metadata": {
        "colab": {
          "base_uri": "https://localhost:8080/",
          "height": 35
        },
        "id": "aK5IDP8pKHMC",
        "outputId": "17e5fa2c-ab68-41ff-a91f-f15483c63863"
      },
      "execution_count": 83,
      "outputs": [
        {
          "output_type": "execute_result",
          "data": {
            "text/plain": [
              "'940718-1******'"
            ],
            "application/vnd.google.colaboratory.intrinsic+json": {
              "type": "string"
            }
          },
          "metadata": {},
          "execution_count": 83
        }
      ]
    },
    {
      "cell_type": "code",
      "source": [
        "# center() 문자열을 지정한 길이로 맞추고 양쪽으로\n",
        "\n",
        "s = 'licat'\n",
        "\n",
        "s.center(13,'*')"
      ],
      "metadata": {
        "colab": {
          "base_uri": "https://localhost:8080/",
          "height": 35
        },
        "id": "SBm0RUccMVkh",
        "outputId": "8e203396-3239-47e2-e0b4-e2db8b23825c"
      },
      "execution_count": 87,
      "outputs": [
        {
          "output_type": "execute_result",
          "data": {
            "text/plain": [
              "'****licat****'"
            ],
            "application/vnd.google.colaboratory.intrinsic+json": {
              "type": "string"
            }
          },
          "metadata": {},
          "execution_count": 87
        }
      ]
    },
    {
      "cell_type": "code",
      "source": [
        "# zfill( ) 매서드는 주어진 길이만큼 문자열의 앞쪽을 '0'으로 채워서 반환\n",
        "\n",
        "\n",
        "x = \"42\"\n",
        "\n",
        "result = x.zfill(5) # 여기서 5는 문자열의 전체길이를 의미함\n",
        "print(result)"
      ],
      "metadata": {
        "colab": {
          "base_uri": "https://localhost:8080/"
        },
        "id": "u3Zo7-rVM2ui",
        "outputId": "0887b5a1-bd78-4b25-fd89-1057e6c2f7f9"
      },
      "execution_count": 88,
      "outputs": [
        {
          "output_type": "stream",
          "name": "stdout",
          "text": [
            "00042\n"
          ]
        }
      ]
    },
    {
      "cell_type": "code",
      "source": [
        "# 변환 테이블 생성\n",
        "table = str.maketrans(\"abc\",\"123\")\n",
        "\n",
        "text = 'abcde'\n",
        "result = text.translate(table)\n",
        "print(result)"
      ],
      "metadata": {
        "colab": {
          "base_uri": "https://localhost:8080/"
        },
        "id": "HTYWU3JvRHiq",
        "outputId": "620179ea-fee6-49f8-fdb7-2aefb682a16e"
      },
      "execution_count": 91,
      "outputs": [
        {
          "output_type": "stream",
          "name": "stdout",
          "text": [
            "123de\n"
          ]
        }
      ]
    },
    {
      "cell_type": "code",
      "source": [
        "print(\"Hello\\nworld\")\n",
        "print(\"hello\\tworld!\")\n",
        "print(\"she said, \\\"hello world!\\\"\")\n",
        "print('she said, \\'hello world!\\'')\n",
        "print(\"backslash:\\\\\")"
      ],
      "metadata": {
        "colab": {
          "base_uri": "https://localhost:8080/"
        },
        "id": "OkSLwKPPTsiA",
        "outputId": "2fa1df39-3ded-4fc3-b147-80e1ea1925dc"
      },
      "execution_count": 99,
      "outputs": [
        {
          "output_type": "stream",
          "name": "stdout",
          "text": [
            "Hello\n",
            "world\n",
            "hello\tworld!\n",
            "she said, \"hello world!\"\n",
            "she said, 'hello world!'\n",
            "backslash:\\\n"
          ]
        }
      ]
    },
    {
      "cell_type": "code",
      "source": [
        "# 진위파악\n",
        "\n",
        "# 데이터가 총 3개가 있는데 몇개가 일치하는가 ?  -> 3 개\n",
        "\n",
        "# A 데이터                       B데이터\n",
        "\n",
        "# 김진환 20                     김진환 20          = True\n",
        "# 이호준 30                     이호준 30          = True\n",
        "# 김혜원 40                     김혜원 40          = True"
      ],
      "metadata": {
        "id": "i3Q8u3zeX8FN"
      },
      "execution_count": null,
      "outputs": []
    },
    {
      "cell_type": "code",
      "source": [
        "''.join('010-1000-2000'.split('-')).replace('0','x')"
      ],
      "metadata": {
        "colab": {
          "base_uri": "https://localhost:8080/",
          "height": 35
        },
        "id": "IKiw-5y8bAoV",
        "outputId": "2c27a6c8-51d1-4fcb-8d13-34dd783bdf97"
      },
      "execution_count": 101,
      "outputs": [
        {
          "output_type": "execute_result",
          "data": {
            "text/plain": [
              "'x1x1xxx2xxx'"
            ],
            "application/vnd.google.colaboratory.intrinsic+json": {
              "type": "string"
            }
          },
          "metadata": {},
          "execution_count": 101
        }
      ]
    }
  ]
}