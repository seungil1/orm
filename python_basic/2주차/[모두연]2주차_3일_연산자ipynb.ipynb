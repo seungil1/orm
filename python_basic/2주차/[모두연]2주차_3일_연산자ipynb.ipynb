{
  "nbformat": 4,
  "nbformat_minor": 0,
  "metadata": {
    "colab": {
      "provenance": []
    },
    "kernelspec": {
      "name": "python3",
      "display_name": "Python 3"
    },
    "language_info": {
      "name": "python"
    }
  },
  "cells": [
    {
      "cell_type": "markdown",
      "source": [
        "# 1. 논리연산"
      ],
      "metadata": {
        "id": "l8ENB9aMAvrY"
      }
    },
    {
      "cell_type": "code",
      "execution_count": 1,
      "metadata": {
        "colab": {
          "base_uri": "https://localhost:8080/"
        },
        "id": "Cd2JlLRGzZvr",
        "outputId": "60896115-531e-440d-f35d-900cea87b4ef"
      },
      "outputs": [
        {
          "output_type": "stream",
          "name": "stdout",
          "text": [
            "True\n"
          ]
        }
      ],
      "source": [
        "num = 15\n",
        "\n",
        "result = num > 10 and num <20\n",
        "\n",
        "print(result)"
      ]
    },
    {
      "cell_type": "code",
      "source": [
        "num = 15\n",
        "\n",
        "result = num > 10 and num < 15\n",
        "\n",
        "print(result)"
      ],
      "metadata": {
        "colab": {
          "base_uri": "https://localhost:8080/"
        },
        "id": "V-DBccee8Zje",
        "outputId": "54ca1106-e8a2-434e-f605-120e2cf6ba44"
      },
      "execution_count": 3,
      "outputs": [
        {
          "output_type": "stream",
          "name": "stdout",
          "text": [
            "False\n"
          ]
        }
      ]
    },
    {
      "cell_type": "code",
      "source": [],
      "metadata": {
        "colab": {
          "base_uri": "https://localhost:8080/"
        },
        "id": "2zLEomPxD2t6",
        "outputId": "8463dd22-cbac-423c-a475-ca29d55b1c3c"
      },
      "execution_count": 4,
      "outputs": [
        {
          "output_type": "execute_result",
          "data": {
            "text/plain": [
              "0"
            ]
          },
          "metadata": {},
          "execution_count": 4
        }
      ]
    },
    {
      "cell_type": "markdown",
      "source": [
        "# 2. 할당 연산자"
      ],
      "metadata": {
        "id": "yitK0zldErDX"
      }
    },
    {
      "cell_type": "code",
      "source": [
        "x = 5\n",
        "y = 2\n",
        "z = 10\n",
        "\n",
        "x1 = y * z\n",
        "x2 = x +y * z\n",
        "x += y * z  # 값을 더한 뒤에 할당\n",
        "print(x1)\n",
        "print(x2)\n",
        "print(x)"
      ],
      "metadata": {
        "colab": {
          "base_uri": "https://localhost:8080/"
        },
        "id": "AbHBMO-TEuGO",
        "outputId": "22726cd0-b28e-42e2-e918-78893693236d"
      },
      "execution_count": 11,
      "outputs": [
        {
          "output_type": "stream",
          "name": "stdout",
          "text": [
            "20\n",
            "25\n",
            "25\n"
          ]
        }
      ]
    },
    {
      "cell_type": "markdown",
      "source": [
        "# 3 . 식별연산자\n"
      ],
      "metadata": {
        "id": "7Srt1xXoITf1"
      }
    },
    {
      "cell_type": "code",
      "source": [
        "coffee_employee = \"Brand\"\n",
        "orange_employee = \"Brand\"\n",
        "\n",
        "print(coffee_employee is orange_employee)\n",
        "print(coffee_employee == orange_employee)"
      ],
      "metadata": {
        "colab": {
          "base_uri": "https://localhost:8080/"
        },
        "id": "IQ8JWNGIIV8P",
        "outputId": "6482261a-a05b-4ae2-95db-7bf934ea6374"
      },
      "execution_count": 12,
      "outputs": [
        {
          "output_type": "stream",
          "name": "stdout",
          "text": [
            "True\n",
            "True\n"
          ]
        }
      ]
    },
    {
      "cell_type": "code",
      "source": [
        "coffee_employee = -6\n",
        "orange_employee = -6\n",
        "\n",
        "print(coffee_employee is orange_employee)\n",
        "print(coffee_employee == orange_employee)"
      ],
      "metadata": {
        "colab": {
          "base_uri": "https://localhost:8080/"
        },
        "id": "Xyq7s_PbIrim",
        "outputId": "16d78415-2f3e-49d8-b401-2dbe0b978793"
      },
      "execution_count": 13,
      "outputs": [
        {
          "output_type": "stream",
          "name": "stdout",
          "text": [
            "False\n",
            "True\n"
          ]
        }
      ]
    },
    {
      "cell_type": "code",
      "source": [
        "a = [1, 2, 3]\n",
        "b = [1, 2, 3]\n",
        "c = a\n",
        "\n",
        "# 값은 True 지만 주소는 다르다\n",
        "print('a == b', a == b)\n",
        "print('a == c', a == c)\n",
        "print('a is b', a is b)\n",
        "print('a is c', a is c)"
      ],
      "metadata": {
        "colab": {
          "base_uri": "https://localhost:8080/"
        },
        "id": "EeY_ZBCnJjMk",
        "outputId": "1b1f55b2-4ba2-48a2-f8a3-baa27b0716b6"
      },
      "execution_count": 14,
      "outputs": [
        {
          "output_type": "stream",
          "name": "stdout",
          "text": [
            "a == b True\n",
            "a == c True\n",
            "a is b False\n",
            "a is c True\n"
          ]
        }
      ]
    },
    {
      "cell_type": "code",
      "source": [
        "money = int(input(\"금액을 입력하세요\"))\n",
        "\n",
        "money5000 = money // 5000\n",
        "money -= money5000 * money\n",
        "print(f\"5천원권은 {money5000} 장.\")"
      ],
      "metadata": {
        "colab": {
          "base_uri": "https://localhost:8080/"
        },
        "id": "uMQRvDXuKFSO",
        "outputId": "f44ed5bb-2e5d-42d3-8cbc-16bb3e1dd3e5"
      },
      "execution_count": 26,
      "outputs": [
        {
          "output_type": "stream",
          "name": "stdout",
          "text": [
            "금액을 입력하세요10000\n",
            "5천원권은 2 장.\n"
          ]
        }
      ]
    },
    {
      "cell_type": "markdown",
      "source": [
        "# 3. 멤버연산"
      ],
      "metadata": {
        "id": "5Ff69I9eP09a"
      }
    },
    {
      "cell_type": "code",
      "source": [
        "fruits = [\"사과\", \"바나나\", \"포도\"]\n",
        "\n",
        "print(\"사과\" in fruits)\n",
        "print(\"오렌지\" not in fruits)\n",
        "print(\"키위\" in fruits)\n",
        "print(\"키위\" not in fruits)"
      ],
      "metadata": {
        "colab": {
          "base_uri": "https://localhost:8080/"
        },
        "id": "PuPLnIWLP5LK",
        "outputId": "563c97b0-eb85-488b-e1e9-f2d0188e24d5"
      },
      "execution_count": 23,
      "outputs": [
        {
          "output_type": "stream",
          "name": "stdout",
          "text": [
            "True\n",
            "True\n",
            "False\n",
            "True\n"
          ]
        }
      ]
    },
    {
      "cell_type": "code",
      "source": [
        "b = 25\n",
        "\n",
        "(b % 2 == 0) and (b % 5 == 0)"
      ],
      "metadata": {
        "colab": {
          "base_uri": "https://localhost:8080/"
        },
        "id": "kQwo068MXK9R",
        "outputId": "0c858831-89bc-4b58-b0ea-6a4f994afe6c"
      },
      "execution_count": 27,
      "outputs": [
        {
          "output_type": "execute_result",
          "data": {
            "text/plain": [
              "False"
            ]
          },
          "metadata": {},
          "execution_count": 27
        }
      ]
    },
    {
      "cell_type": "code",
      "source": [
        "c = 1000\n",
        "\n",
        "c /= 100\n",
        "\n",
        "print(f\"결과 값은 {int(c)} 입니다\")"
      ],
      "metadata": {
        "colab": {
          "base_uri": "https://localhost:8080/"
        },
        "id": "kgWamSKsXaq3",
        "outputId": "8e8ad5eb-a8d7-4844-b91e-5a1eb1a4999a"
      },
      "execution_count": 35,
      "outputs": [
        {
          "output_type": "stream",
          "name": "stdout",
          "text": [
            "결과 값은 10 입니다\n"
          ]
        }
      ]
    },
    {
      "cell_type": "code",
      "source": [
        "money = int(input(\"금액을 입력해주세요\"))\n",
        "\n",
        "m_5000 = money // 5000\n",
        "\n",
        "money = money - (m_5000 * 5000)\n",
        "print(m_5000,money)"
      ],
      "metadata": {
        "colab": {
          "base_uri": "https://localhost:8080/"
        },
        "id": "svTnb0PFcJW1",
        "outputId": "9f943eb3-80fb-4648-e4e1-837767c943a7"
      },
      "execution_count": 45,
      "outputs": [
        {
          "output_type": "stream",
          "name": "stdout",
          "text": [
            "금액을 입력해주세요12000\n",
            "2 2000\n"
          ]
        }
      ]
    },
    {
      "cell_type": "code",
      "source": [
        "money = int(input(\"교환할 금액을 입력하세요: \"))\n",
        "\n",
        "# 5000원 지폐 개수 계산\n",
        "num_5000 = money // 5000\n",
        "money = money - num_5000 * 5000\n",
        "\n",
        "# 1000원 지폐 개수 계산\n",
        "num_1000 = money // 1000\n",
        "money = money - num_1000 * 1000\n",
        "\n",
        "# 500원 동전 개수 계산\n",
        "num_500 = money // 500\n",
        "money = money - num_500 * 500\n",
        "\n",
        "# 100원 동전 개수 계산\n",
        "num_100 = money // 100\n",
        "\n",
        "# 결과 출력\n",
        "print(\"5000원 지폐 개수:\", num_5000)\n",
        "print(\"1000원 지폐 개수:\", num_1000)\n",
        "print(\"500원 동전 개수:\", num_500)\n",
        "print(\"100원 동전 개수:\", num_100)"
      ],
      "metadata": {
        "colab": {
          "base_uri": "https://localhost:8080/"
        },
        "id": "QlS5xxSBdAvX",
        "outputId": "5ae4f66d-59b9-4a9d-df59-3850c89f33c5"
      },
      "execution_count": 49,
      "outputs": [
        {
          "output_type": "stream",
          "name": "stdout",
          "text": [
            "교환할 금액을 입력하세요: 12341\n",
            "5000원 지폐 개수: 2\n",
            "1000원 지폐 개수: 2\n",
            "500원 동전 개수: 0\n",
            "100원 동전 개수: 3\n"
          ]
        }
      ]
    },
    {
      "cell_type": "code",
      "source": [
        "ori_price = float(input(\"제품의 가격을 입력해주세요\"))\n",
        "discount_rate = float(input(\"할인율을 입력해주세요\"))\n",
        "\n",
        "\n",
        "discounted_price = ori_price - (ori_price * discount_rate / 100 )\n",
        "\n",
        "print(f\"제품의 가격은 {int(discounted_price)} 입니다\")"
      ],
      "metadata": {
        "colab": {
          "base_uri": "https://localhost:8080/"
        },
        "id": "LaBuxYiOeu-w",
        "outputId": "b6c253c6-02cb-4fae-d732-e1a8cd31bd18"
      },
      "execution_count": 54,
      "outputs": [
        {
          "output_type": "stream",
          "name": "stdout",
          "text": [
            "제품의 가격을 입력해주세요10000\n",
            "할인율을 입력해주세요10\n",
            "제품의 가격은 9000 입니다\n"
          ]
        }
      ]
    },
    {
      "cell_type": "code",
      "source": [
        "name = input(\"성함을 입력해주세요\")"
      ],
      "metadata": {
        "colab": {
          "base_uri": "https://localhost:8080/"
        },
        "id": "U494MUX8grvN",
        "outputId": "29505b3d-8f9a-401b-f92a-991cefab01ad"
      },
      "execution_count": 60,
      "outputs": [
        {
          "name": "stdout",
          "output_type": "stream",
          "text": [
            "성함을 입력해주세요한승일\n"
          ]
        }
      ]
    },
    {
      "cell_type": "code",
      "source": [
        "age = int(input(\"나이를 입력해주세요\"))"
      ],
      "metadata": {
        "id": "pTaMkK71hATV"
      },
      "execution_count": null,
      "outputs": []
    },
    {
      "cell_type": "code",
      "source": [
        "age +=1"
      ],
      "metadata": {
        "id": "kUuPVSlvhH2k"
      },
      "execution_count": null,
      "outputs": []
    },
    {
      "cell_type": "code",
      "source": [
        "name_len = len(name)"
      ],
      "metadata": {
        "id": "4wrBPtHjhNmd"
      },
      "execution_count": null,
      "outputs": []
    },
    {
      "cell_type": "code",
      "source": [
        "age >= 18 == True"
      ],
      "metadata": {
        "id": "J3WnvMjyhbvN"
      },
      "execution_count": null,
      "outputs": []
    },
    {
      "cell_type": "code",
      "source": [
        "name = input(\"성함을 입력해주세요\")\n",
        "age = int(input(\"나이를 입력해주세요\"))\n",
        "age +=1\n",
        "name_len = len(name)\n",
        "adult = age > 17\n",
        "\n",
        "print(f\"내년 나이는{age} 이고 이름의 길이는 {name_len}, 성인여부는 {adult} 입니다 \")"
      ],
      "metadata": {
        "colab": {
          "base_uri": "https://localhost:8080/"
        },
        "id": "PfvO5huIhrgu",
        "outputId": "eda14aaa-b747-42b2-ebd1-f105cfe26378"
      },
      "execution_count": 69,
      "outputs": [
        {
          "output_type": "stream",
          "name": "stdout",
          "text": [
            "성함을 입력해주세요ㅁㄴㅇ\n",
            "나이를 입력해주세요16\n",
            "나이는17 이고 이름의 길이는 3, 성인여부는 False 입니다 \n"
          ]
        }
      ]
    },
    {
      "cell_type": "code",
      "source": [],
      "metadata": {
        "colab": {
          "base_uri": "https://localhost:8080/"
        },
        "id": "mSjhN3Zslbs3",
        "outputId": "16a3ab69-49ef-4840-af27-4fb072630442"
      },
      "execution_count": 71,
      "outputs": [
        {
          "output_type": "stream",
          "name": "stdout",
          "text": [
            "성함을 입력해주세요한승일\n",
            "나이를 입력해주세요18\n",
            "성인입니다\n"
          ]
        }
      ]
    }
  ]
}