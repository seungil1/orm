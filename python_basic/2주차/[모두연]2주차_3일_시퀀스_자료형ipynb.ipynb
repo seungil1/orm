{
  "nbformat": 4,
  "nbformat_minor": 0,
  "metadata": {
    "colab": {
      "provenance": []
    },
    "kernelspec": {
      "name": "python3",
      "display_name": "Python 3"
    },
    "language_info": {
      "name": "python"
    }
  },
  "cells": [
    {
      "cell_type": "markdown",
      "source": [
        "# 1. 시퀀스 자료형"
      ],
      "metadata": {
        "id": "ceJu5Qe87O25"
      }
    },
    {
      "cell_type": "code",
      "execution_count": 8,
      "metadata": {
        "colab": {
          "base_uri": "https://localhost:8080/"
        },
        "id": "UwOV4ege3ZRJ",
        "outputId": "5d6a7671-836f-45e0-e0ce-a88ca2dfd1aa"
      },
      "outputs": [
        {
          "output_type": "stream",
          "name": "stdout",
          "text": [
            "a\n",
            "cde\n",
            "cd\n"
          ]
        }
      ],
      "source": [
        "#1.1 인덱싱\n",
        "\n",
        "\n",
        "example = 'abcde'\n",
        "print(example[0])\n",
        "print(example[-3::])\n",
        "print(example[-3:-1])"
      ]
    },
    {
      "cell_type": "code",
      "source": [
        "# 특정 항목 포함여부\n",
        "\n",
        "example = 'abcde'\n",
        "print('a' in example) # 출력: True\n",
        "print('z' in example) # 출력: False"
      ],
      "metadata": {
        "colab": {
          "base_uri": "https://localhost:8080/"
        },
        "id": "LlyZIhSD8D7I",
        "outputId": "8d98f135-ef2d-4f34-baf8-1e79f4f98097"
      },
      "execution_count": 12,
      "outputs": [
        {
          "output_type": "stream",
          "name": "stdout",
          "text": [
            "True\n",
            "False\n"
          ]
        }
      ]
    },
    {
      "cell_type": "code",
      "source": [
        "print('a' not in example) # 출력: True\n",
        "print('z' not in example) # 출력: False"
      ],
      "metadata": {
        "colab": {
          "base_uri": "https://localhost:8080/"
        },
        "id": "wvVfKxFX84Mh",
        "outputId": "87f73530-3f55-4419-de9f-2b9379ff4305"
      },
      "execution_count": 13,
      "outputs": [
        {
          "output_type": "stream",
          "name": "stdout",
          "text": [
            "False\n",
            "True\n"
          ]
        }
      ]
    },
    {
      "cell_type": "code",
      "source": [
        "example = 'abcdef'\n",
        "print(len(example))  # 출력: 6\n",
        "print(min(example))  # 출력: a\n",
        "print(max(example))  # 출력: f"
      ],
      "metadata": {
        "colab": {
          "base_uri": "https://localhost:8080/"
        },
        "id": "Qo5bFjWL9c6g",
        "outputId": "0a4f2d33-14f2-4964-ebc5-7be7715a88cf"
      },
      "execution_count": 15,
      "outputs": [
        {
          "output_type": "stream",
          "name": "stdout",
          "text": [
            "6\n",
            "a\n",
            "f\n"
          ]
        }
      ]
    },
    {
      "cell_type": "markdown",
      "source": [
        "# 1. 패킹 (Packing)"
      ],
      "metadata": {
        "id": "elBkLAFr9k1I"
      }
    },
    {
      "cell_type": "code",
      "source": [
        "# 튜플 패킹\n",
        "\n",
        "packed_tuple = 1, 2, 3, 4, 5\n",
        "print(type(packed_tuple))\n",
        "print(packed_tuple)"
      ],
      "metadata": {
        "colab": {
          "base_uri": "https://localhost:8080/"
        },
        "id": "pIimgC1Q9tPn",
        "outputId": "326053a0-429a-420d-c552-cfc4b2be5808"
      },
      "execution_count": 23,
      "outputs": [
        {
          "output_type": "stream",
          "name": "stdout",
          "text": [
            "<class 'tuple'>\n",
            "(1, 2, 3, 4, 5)\n"
          ]
        }
      ]
    },
    {
      "cell_type": "code",
      "source": [
        "# 튜플 언패킹\n",
        "a, b, c, d, e = packed_tuple\n",
        "print(a)  # 출력: 1\n",
        "print(e)  # 출력: 5\n",
        "\n",
        "print(type(a))"
      ],
      "metadata": {
        "colab": {
          "base_uri": "https://localhost:8080/"
        },
        "id": "QBqyRzgc98Cv",
        "outputId": "87f71627-62e8-4f85-e184-43b9b205881d"
      },
      "execution_count": 25,
      "outputs": [
        {
          "output_type": "stream",
          "name": "stdout",
          "text": [
            "1\n",
            "5\n",
            "<class 'int'>\n"
          ]
        }
      ]
    },
    {
      "cell_type": "code",
      "source": [
        "print(range(3))\n",
        "\n",
        "a,b,c = range(3)\n",
        "print(a, b, c)"
      ],
      "metadata": {
        "colab": {
          "base_uri": "https://localhost:8080/"
        },
        "id": "iRjmUvad_X_q",
        "outputId": "df6de403-3f6d-4c0d-ea40-c0b162b4ada1"
      },
      "execution_count": 28,
      "outputs": [
        {
          "output_type": "stream",
          "name": "stdout",
          "text": [
            "range(0, 3)\n",
            "0 1 2\n"
          ]
        }
      ]
    },
    {
      "cell_type": "code",
      "source": [
        "a,b,c = 'dog'\n",
        "\n",
        "print(a)\n",
        "print(b)\n",
        "print(c)"
      ],
      "metadata": {
        "colab": {
          "base_uri": "https://localhost:8080/"
        },
        "id": "ZE6WiEtK_vIn",
        "outputId": "7ba7f67b-242b-4055-c5d9-020d68b66a0f"
      },
      "execution_count": 30,
      "outputs": [
        {
          "output_type": "stream",
          "name": "stdout",
          "text": [
            "d\n",
            "o\n",
            "g\n"
          ]
        }
      ]
    },
    {
      "cell_type": "code",
      "source": [
        "user_num = int(input(\"숫자를 입력해주세요\"))\n",
        "\n",
        "total = 0\n",
        "\n",
        "for i in range(user_num+1):\n",
        "  total+=i\n",
        "\n",
        "\n",
        "print(total)"
      ],
      "metadata": {
        "colab": {
          "base_uri": "https://localhost:8080/"
        },
        "id": "nryhn5SYAgHH",
        "outputId": "1f3b8439-0272-4703-99c5-d617db3cbacb"
      },
      "execution_count": 35,
      "outputs": [
        {
          "output_type": "stream",
          "name": "stdout",
          "text": [
            "숫자를 입력해주세요100\n",
            "5050\n"
          ]
        }
      ]
    },
    {
      "cell_type": "code",
      "source": [
        "# 별표를 이용한 언패킹\n",
        "\n",
        "# 언패킹이 먼저 할당\n",
        "\n",
        "first, *middle, last = [1,2,3,4,5]\n",
        "\n",
        "print(first)\n",
        "print(middle)\n",
        "print(last)"
      ],
      "metadata": {
        "colab": {
          "base_uri": "https://localhost:8080/"
        },
        "id": "3_QHGw4cArFe",
        "outputId": "def58014-204d-43fb-86cd-579e3c4f6675"
      },
      "execution_count": 32,
      "outputs": [
        {
          "output_type": "stream",
          "name": "stdout",
          "text": [
            "1\n",
            "[2, 3, 4]\n",
            "5\n"
          ]
        }
      ]
    },
    {
      "cell_type": "markdown",
      "source": [
        "#2. 리스트"
      ],
      "metadata": {
        "id": "ptElwRzoEv81"
      }
    },
    {
      "cell_type": "code",
      "source": [
        "x = [1, 2, 3, 4, 5]\n",
        "\n",
        "print(len(x))\n",
        "\n"
      ],
      "metadata": {
        "colab": {
          "base_uri": "https://localhost:8080/"
        },
        "id": "fYy0BKhDEySt",
        "outputId": "e9efad9a-e8ca-47b3-d581-b2bf8577796d"
      },
      "execution_count": 38,
      "outputs": [
        {
          "output_type": "stream",
          "name": "stdout",
          "text": [
            "5\n"
          ]
        }
      ]
    },
    {
      "cell_type": "code",
      "source": [
        "# 리스트의 항목 변경\n",
        "a = [1, 2, 3, 4, 5]\n",
        "a[0]= 1004\n",
        "\n",
        "print(a)"
      ],
      "metadata": {
        "colab": {
          "base_uri": "https://localhost:8080/"
        },
        "id": "RBVg60opGIc0",
        "outputId": "ec3296d8-fec5-411c-c7c8-2b2f872a1ae7"
      },
      "execution_count": 41,
      "outputs": [
        {
          "output_type": "stream",
          "name": "stdout",
          "text": [
            "[1004, 2, 3, 4, 5]\n"
          ]
        }
      ]
    },
    {
      "cell_type": "code",
      "source": [
        "# 슬라이싱\n",
        "\n",
        "l = [1, 2, 3, 4, 5]\n",
        "print(l[:])     # 출력: [1, 2, 3, 4, 5]\n",
        "print(l[::-1])  # 출력: [5, 4, 3, 2, 1]\n",
        "print(l[::2])   # 출력: [1, 3, 5]\n",
        "print(l[0:4][::-1]) # 출력: [3, 2, 1]"
      ],
      "metadata": {
        "id": "iaONBl0LK4Gk"
      },
      "execution_count": null,
      "outputs": []
    },
    {
      "cell_type": "code",
      "source": [
        "l = [1, 2, 3, 4, 5]\n",
        "print(l)\n",
        "print(l[::-1])\n",
        "print(l[::2])\n",
        "print((l[0:4][::-1]))"
      ],
      "metadata": {
        "colab": {
          "base_uri": "https://localhost:8080/"
        },
        "id": "pPx6P5C0K6Ct",
        "outputId": "41847035-d8e3-4b19-f20c-8c0606eb61c3"
      },
      "execution_count": 46,
      "outputs": [
        {
          "output_type": "stream",
          "name": "stdout",
          "text": [
            "[1, 2, 3, 4, 5]\n",
            "[5, 4, 3, 2, 1]\n",
            "[1, 3, 5]\n",
            "[4, 3, 2, 1]\n"
          ]
        }
      ]
    },
    {
      "cell_type": "code",
      "source": [
        "# 데이터가 크다. 내가 원하는대로 데이터를 추출하고 싶다.\n",
        "\n",
        "# 1. 샘플링 -> 1억개 데이터 -> 천개추출! -> 리스트 슬라이싱! 메서드! -> 1억개 데이터에 적용"
      ],
      "metadata": {
        "id": "lXX3Hj7MLgU7"
      },
      "execution_count": null,
      "outputs": []
    }
  ]
}