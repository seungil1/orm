{
  "nbformat": 4,
  "nbformat_minor": 0,
  "metadata": {
    "colab": {
      "provenance": []
    },
    "kernelspec": {
      "name": "python3",
      "display_name": "Python 3"
    },
    "language_info": {
      "name": "python"
    }
  },
  "cells": [
    {
      "cell_type": "code",
      "source": [
        "https://colab.research.google.com/drive/17NnZyroWloeSDDYPGb7WBQwMUmxCkU9H?usp=sharing"
      ],
      "metadata": {
        "id": "sJFXrB1LdFMb"
      },
      "execution_count": null,
      "outputs": []
    },
    {
      "cell_type": "code",
      "source": [
        "def solution(data):\n",
        "    l = [0,0]\n",
        "    for i in data:\n",
        "        if i % 2 == 0:\n",
        "            l[0] +=1\n",
        "\n",
        "        else:\n",
        "            l[1] +=1\n",
        "    return l\n",
        "\n"
      ],
      "metadata": {
        "id": "KIaJGjY_MuGf"
      },
      "execution_count": 6,
      "outputs": []
    },
    {
      "cell_type": "code",
      "execution_count": 7,
      "metadata": {
        "colab": {
          "base_uri": "https://localhost:8080/"
        },
        "id": "XnvOjjzVCBKb",
        "outputId": "2de2c589-ace0-45f2-c690-39f3539fd6e6"
      },
      "outputs": [
        {
          "output_type": "execute_result",
          "data": {
            "text/plain": [
              "[2, 3]"
            ]
          },
          "metadata": {},
          "execution_count": 7
        }
      ],
      "source": [
        "solution([1, 2, 3, 4, 5])"
      ]
    },
    {
      "cell_type": "code",
      "source": [
        "def solution(data):\n",
        "    l = [0,0]\n",
        "    return list(filter(lambda x : x % 2 == 0 , data))"
      ],
      "metadata": {
        "id": "soHszwAgNPxv"
      },
      "execution_count": 12,
      "outputs": []
    },
    {
      "cell_type": "code",
      "source": [
        "solution([1, 2, 3, 4, 5])"
      ],
      "metadata": {
        "colab": {
          "base_uri": "https://localhost:8080/"
        },
        "id": "PCyvyFrBN2KH",
        "outputId": "2ba174de-935a-4416-d020-4580b364b8f2"
      },
      "execution_count": 13,
      "outputs": [
        {
          "output_type": "execute_result",
          "data": {
            "text/plain": [
              "[2, 4]"
            ]
          },
          "metadata": {},
          "execution_count": 13
        }
      ]
    },
    {
      "cell_type": "code",
      "source": [
        "def solution(array, height):\n",
        "\n",
        "    return list(filter(lambda x : x > height,array))"
      ],
      "metadata": {
        "id": "duudsd7HTdys"
      },
      "execution_count": 18,
      "outputs": []
    },
    {
      "cell_type": "code",
      "source": [
        "solution([149, 180, 192, 170],167)"
      ],
      "metadata": {
        "colab": {
          "base_uri": "https://localhost:8080/"
        },
        "id": "aSWroywrTlbH",
        "outputId": "01b4d67b-e4ac-4551-c970-6b96d5bfe87f"
      },
      "execution_count": 19,
      "outputs": [
        {
          "output_type": "execute_result",
          "data": {
            "text/plain": [
              "[180, 192, 170]"
            ]
          },
          "metadata": {},
          "execution_count": 19
        }
      ]
    },
    {
      "cell_type": "code",
      "source": [
        "머쓱이는 친구들과 369게임을 하고 있습니다. 369게임은 1부터 숫자를 하나씩 대며 3, 6, 9가 들어가는 숫자는 숫자 대신 3, 6, 9의 개수만큼 박수를 치는 게임입니다. 머쓱이가 말해야하는 숫자 order가 매개변수로 주어질 때, 머쓱이가 쳐야할 박수 횟수를 return 하도록 solution 함수를 완성해보세요."
      ],
      "metadata": {
        "id": "3D3-0pOkjIud"
      },
      "execution_count": null,
      "outputs": []
    },
    {
      "cell_type": "markdown",
      "source": [
        "머쓱이는 친구들과 369게임을 하고 있습니다. 369게임은 1부터 숫자를 하나씩 대며 3, 6, 9가 들어가는 숫자는 숫자 대신 3, 6, 9의 개수만큼 박수를 치는 게임입니다. 머쓱이가 말해야하는 숫자 order가 매개변수로 주어질 때, 머쓱이가 쳐야할 박수 횟수를 return 하도록 solution 함수를 완성해보세요."
      ],
      "metadata": {
        "id": "uGJQmjjRjLTS"
      }
    },
    {
      "cell_type": "code",
      "source": [
        "\n",
        "\n",
        "\n",
        "\n",
        ""
      ],
      "metadata": {
        "id": "eEI4rQ-pjME5"
      },
      "execution_count": 21,
      "outputs": []
    },
    {
      "cell_type": "markdown",
      "source": [
        "def solution(before, after):\n",
        "    answer = 0\n",
        "    return answer"
      ],
      "metadata": {
        "id": "secW6fNQnPcZ"
      }
    },
    {
      "cell_type": "code",
      "source": [
        "def solution(before, after):\n",
        "    a = sorted(before)\n",
        "    b = sorted(after)\n",
        "    if a == b:\n",
        "        return 1\n",
        "    else:\n",
        "        return 0\n",
        "\n",
        ""
      ],
      "metadata": {
        "id": "HguFBLTQnTZy"
      },
      "execution_count": 28,
      "outputs": []
    },
    {
      "cell_type": "code",
      "source": [
        "solution(\"olleh\", \"hello\")"
      ],
      "metadata": {
        "colab": {
          "base_uri": "https://localhost:8080/"
        },
        "id": "5GXJompcnSqq",
        "outputId": "4e87c5b2-5210-4f8a-9825-e80ca26db562"
      },
      "execution_count": 29,
      "outputs": [
        {
          "output_type": "execute_result",
          "data": {
            "text/plain": [
              "1"
            ]
          },
          "metadata": {},
          "execution_count": 29
        }
      ]
    },
    {
      "cell_type": "code",
      "source": [
        "def solution(n):\n",
        "    l = []\n",
        "    for i in range(n):\n",
        "        if i % 3 != 0 and '3' not in str(i):\n",
        "            l.append(i)\n",
        "    return l"
      ],
      "metadata": {
        "id": "vSkNW-1q3h47"
      },
      "execution_count": 59,
      "outputs": []
    },
    {
      "cell_type": "code",
      "source": [
        "solution(40)"
      ],
      "metadata": {
        "colab": {
          "base_uri": "https://localhost:8080/"
        },
        "id": "s3wNpujP3yAL",
        "outputId": "62e505fe-0ebd-4f56-98d6-3b651e3fc60b"
      },
      "execution_count": 60,
      "outputs": [
        {
          "output_type": "execute_result",
          "data": {
            "text/plain": [
              "[1, 2, 4, 5, 7, 8, 10, 11, 14, 16, 17, 19, 20, 22, 25, 26, 28, 29]"
            ]
          },
          "metadata": {},
          "execution_count": 60
        }
      ]
    },
    {
      "cell_type": "code",
      "source": [
        "def solution(emergency):\n",
        "    return [sorted(emergency,reverse=True). index(i)+1 for i in emergency]\n",
        "\n"
      ],
      "metadata": {
        "id": "_OA20ewFIEbo"
      },
      "execution_count": 87,
      "outputs": []
    },
    {
      "cell_type": "code",
      "source": [
        "solution([3, 76, 24]) # 3 1 2"
      ],
      "metadata": {
        "colab": {
          "base_uri": "https://localhost:8080/"
        },
        "id": "AYxKnELJIHSN",
        "outputId": "1303e754-47b4-4543-c5b0-d5dc4f8fab75"
      },
      "execution_count": 88,
      "outputs": [
        {
          "output_type": "execute_result",
          "data": {
            "text/plain": [
              "[3, 1, 2]"
            ]
          },
          "metadata": {},
          "execution_count": 88
        }
      ]
    },
    {
      "cell_type": "code",
      "source": [
        "def solution(data):\n",
        "\n",
        "    for i in data\n",
        "\n",
        "    sorted_data = sorted(data,reverse=True)\n",
        "\n",
        "    return"
      ],
      "metadata": {
        "id": "-DqxdvoxKWqO"
      },
      "execution_count": 90,
      "outputs": []
    },
    {
      "cell_type": "code",
      "source": [
        "solution([3, 76, 24]) # 3 1 2"
      ],
      "metadata": {
        "id": "Z9x3zm1pKkcX"
      },
      "execution_count": null,
      "outputs": []
    },
    {
      "cell_type": "code",
      "source": [
        "def solution(data):\n",
        "    result = []  # 결과를 저장할 빈 리스트 생성\n",
        "\n",
        "    for i in data:\n",
        "        sorted_data = sorted(data, reverse=True)  # 각 요소마다 내림차순으로 정렬\n",
        "        index_in_sorted = sorted_data.index(i)  # 정렬된 리스트에서 현재 요소의 인덱스 찾기\n",
        "        rank = index_in_sorted + 1  # 인덱스는 0부터 시작하므로 실제 순위는 인덱스 + 1\n",
        "        result.append(rank)  # 결과 리스트에 현재 요소의 순위 추가\n",
        "\n",
        "    return result"
      ],
      "metadata": {
        "id": "DDAha0sIK_XW"
      },
      "execution_count": null,
      "outputs": []
    },
    {
      "cell_type": "code",
      "source": [],
      "metadata": {
        "id": "Y-gAEmwKMZ03"
      },
      "execution_count": null,
      "outputs": []
    },
    {
      "cell_type": "code",
      "source": [
        "소수 = [True] * 120\n",
        "소수[0] = 소수[1] = False\n",
        "\n",
        "for i in range(4, 120, 2):\n",
        "    소수[i] = False\n",
        "\n",
        "for i in range(6, 120, 3):\n",
        "    소수[i] = False"
      ],
      "metadata": {
        "id": "oNwy5VOfMh-t"
      },
      "execution_count": 106,
      "outputs": []
    },
    {
      "cell_type": "code",
      "source": [
        "# 문제1\n",
        "\n",
        "def solution(data):\n",
        "\n",
        "\n",
        "    return sorted([sum(x[1:]) > 350 for x in data],key=lambda x : x[0])"
      ],
      "metadata": {
        "id": "0WaYGi8VJTHd"
      },
      "execution_count": 62,
      "outputs": []
    },
    {
      "cell_type": "code",
      "source": [
        "solution([['Licat', 98, 92, 85, 97], ['Mura', 95, 32, 51, 30], ['Binky', 98, 98, 51, 32]])"
      ],
      "metadata": {
        "id": "sZwAGItqJZij"
      },
      "execution_count": null,
      "outputs": []
    },
    {
      "cell_type": "code",
      "source": [
        "result = sorted([name for name, *scores in data if sum(scores) > 350])\n",
        "print(result)"
      ],
      "metadata": {
        "id": "aH2th9O0N3yG"
      },
      "execution_count": null,
      "outputs": []
    },
    {
      "cell_type": "code",
      "source": [
        "# 문제 1\n",
        "def solution(data):\n",
        "\n",
        "    return sorted([name for name, *scores in data if sum(scores) > 350])"
      ],
      "metadata": {
        "id": "ZozW58OUMglV"
      },
      "execution_count": 161,
      "outputs": []
    },
    {
      "cell_type": "code",
      "source": [
        "solution([['Licat', 98, 92, 85, 97], ['Mura', 95, 32, 51, 30], ['Binky', 98, 98, 51, 32]])"
      ],
      "metadata": {
        "colab": {
          "base_uri": "https://localhost:8080/"
        },
        "id": "AdUspa4WM9YN",
        "outputId": "451b5aa6-9e50-45db-d42c-484243211fdf"
      },
      "execution_count": 69,
      "outputs": [
        {
          "output_type": "execute_result",
          "data": {
            "text/plain": [
              "['Licat']"
            ]
          },
          "metadata": {},
          "execution_count": 69
        }
      ]
    },
    {
      "cell_type": "code",
      "source": [
        "list_a =  {'A동': 63007, 'B동': 63010, 'C동': 63002}\n",
        "\n",
        "list_a['A동']"
      ],
      "metadata": {
        "colab": {
          "base_uri": "https://localhost:8080/"
        },
        "id": "1dG3rVvSxlmz",
        "outputId": "7a445dd0-40ae-443e-ded2-5f97a159dfa3"
      },
      "execution_count": 132,
      "outputs": [
        {
          "output_type": "execute_result",
          "data": {
            "text/plain": [
              "63007"
            ]
          },
          "metadata": {},
          "execution_count": 132
        }
      ]
    },
    {
      "cell_type": "code",
      "source": [
        "# 문제2\n",
        "def solution(data):\n",
        "\n",
        "    return sorted(data[0], key = lambda x : data[1][x.split(' ')[1]])\n",
        "\n",
        "\n"
      ],
      "metadata": {
        "id": "UG-KFPD0OzkF"
      },
      "execution_count": 158,
      "outputs": []
    },
    {
      "cell_type": "code",
      "source": [
        "solution([['제주시 A동 한라산길 61', '제주시 B동 백록담길 63', '제주시 C동 사라봉길 31'], {'A동': 63007, 'B동': 63010, 'C동': 63002}])"
      ],
      "metadata": {
        "colab": {
          "base_uri": "https://localhost:8080/"
        },
        "id": "AaNXOiOYPtrF",
        "outputId": "c143e2b1-7691-496c-dee0-79bd17cd9b5d"
      },
      "execution_count": 159,
      "outputs": [
        {
          "output_type": "execute_result",
          "data": {
            "text/plain": [
              "['제주시 C동 사라봉길 31', '제주시 A동 한라산길 61', '제주시 B동 백록담길 63']"
            ]
          },
          "metadata": {},
          "execution_count": 159
        }
      ]
    },
    {
      "cell_type": "code",
      "source": [
        "#문제3\n",
        "def solution(data):\n",
        "    return sorted(data[0], key=lambda x: data[1][x])\n",
        "\n",
        ""
      ],
      "metadata": {
        "id": "mVJm0kvgoVWw"
      },
      "execution_count": 160,
      "outputs": []
    },
    {
      "cell_type": "code",
      "source": [
        "solution([['Moby Dick', 'To Kill a Mockingbird', '1984'], {'Moby Dick': 1851, 'To Kill a Mockingbird': 1960, '1984': 1949}])"
      ],
      "metadata": {
        "colab": {
          "base_uri": "https://localhost:8080/"
        },
        "id": "k7lfytaHobKI",
        "outputId": "a45cf8e7-e5b7-4005-bd54-29df27a10057"
      },
      "execution_count": 138,
      "outputs": [
        {
          "output_type": "execute_result",
          "data": {
            "text/plain": [
              "['Moby Dick', '1984', 'To Kill a Mockingbird']"
            ]
          },
          "metadata": {},
          "execution_count": 138
        }
      ]
    },
    {
      "cell_type": "code",
      "source": [
        "a = ['Moby Dick', 'To Kill a Mockingbird', '1984']"
      ],
      "metadata": {
        "id": "uFpBdEnkzQmq"
      },
      "execution_count": 140,
      "outputs": []
    },
    {
      "cell_type": "code",
      "source": [
        "b = {'Moby Dick': 1851, 'To Kill a Mockingbird': 1960, '1984': 1949}"
      ],
      "metadata": {
        "id": "DDcZ20UtzToK"
      },
      "execution_count": 143,
      "outputs": []
    },
    {
      "cell_type": "code",
      "source": [
        "b['Moby Dick']"
      ],
      "metadata": {
        "colab": {
          "base_uri": "https://localhost:8080/"
        },
        "id": "p6gn0-dDzU_R",
        "outputId": "67435113-4e7f-4a83-e283-1a66d77ac2fb"
      },
      "execution_count": 144,
      "outputs": [
        {
          "output_type": "execute_result",
          "data": {
            "text/plain": [
              "1851"
            ]
          },
          "metadata": {},
          "execution_count": 144
        }
      ]
    }
  ]
}