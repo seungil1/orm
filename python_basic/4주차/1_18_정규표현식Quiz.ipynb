{
  "nbformat": 4,
  "nbformat_minor": 0,
  "metadata": {
    "colab": {
      "provenance": []
    },
    "kernelspec": {
      "name": "python3",
      "display_name": "Python 3"
    },
    "language_info": {
      "name": "python"
    }
  },
  "cells": [
    {
      "cell_type": "markdown",
      "source": [
        "문제 1: 이메일 주소 변경하기 (sub 사용)\n",
        "문제: 주어진 문자열에서 모든 이메일 주소를 user@weniv.co.kr으로 변경하시오.\n",
        "\n",
        "예시 입력: \"저의 이메일 주소는 kim123@gmail.com입니다. 친구의 이메일 주소는 lee456@gmail.com입니다.\"\n",
        "예시 출력: \"저의 이메일 주소는 user@weniv.co.kr입니다. 친구의 이메일 주소는 user@weniv.co.kr입니다.\"\n",
        "\n",
        "힌트: 이메일 주소를 찾기 위한 정규표현식은 \\b[A-Za-z0-9._%+-]+@[A-Za-z0-9.-]+\\.[A-Z|a-z]{2,}\\b를 사용할 수 있습니다.\n"
      ],
      "metadata": {
        "id": "w0_Pznp8IOmi"
      }
    },
    {
      "cell_type": "code",
      "source": [
        "import re\n",
        "\n",
        "adress = \"저의 이메일 주소는 kim123@gmail.com입니다. 친구의 이메일 주소는 lee456@gmail.com입니다.\"\n",
        "\n",
        "re.sub(r\" \\b[A-Za-z0-9._%+-]+@[A-Za-z0-9.-]+.[A-Z|a-z]{2,}\\b\",'user@weniv.co.kr',adress)\n",
        "\n",
        "\n"
      ],
      "metadata": {
        "colab": {
          "base_uri": "https://localhost:8080/",
          "height": 35
        },
        "id": "Wju91hS5KLyK",
        "outputId": "b4bfaed5-2372-44f0-a334-99ab448fb25b"
      },
      "execution_count": 35,
      "outputs": [
        {
          "output_type": "execute_result",
          "data": {
            "text/plain": [
              "'저의 이메일 주소는user@weniv.co.kr.com입니다. 친구의 이메일 주소는user@weniv.co.kr.com입니다.'"
            ],
            "application/vnd.google.colaboratory.intrinsic+json": {
              "type": "string"
            }
          },
          "metadata": {},
          "execution_count": 35
        }
      ]
    },
    {
      "cell_type": "code",
      "source": [
        "# 하나씩은 변경이 되는데 저렇게 한번에 입력한거를 바꿀수는없을까\n",
        "\n",
        "def solution(email_adress):\n",
        "    user_id = email_adress.split('@')[0]\n",
        "    return re.sub(r'\\b[A-Za-z0-9._%+-]+@[A-Za-z0-9.-]+.[A-Z|a-z]{2,}\\b',f'{user_id}@weniv.co.kr',email_adress)\n",
        "\n",
        "\n",
        "solution(email_adress = input(\"이메일을 입력해주세요\"))"
      ],
      "metadata": {
        "colab": {
          "base_uri": "https://localhost:8080/",
          "height": 54
        },
        "id": "ikpqVApPQDX6",
        "outputId": "d893365b-73c2-4a8d-ef1e-f5cd3c6cba07"
      },
      "execution_count": 37,
      "outputs": [
        {
          "name": "stdout",
          "output_type": "stream",
          "text": [
            "이메일을 입력해주세요kim123@gmail.com\n"
          ]
        },
        {
          "output_type": "execute_result",
          "data": {
            "text/plain": [
              "'kim123@weniv.co.kr'"
            ],
            "application/vnd.google.colaboratory.intrinsic+json": {
              "type": "string"
            }
          },
          "metadata": {},
          "execution_count": 37
        }
      ]
    },
    {
      "cell_type": "code",
      "source": [
        "# 문제 2: HTML 태그 제거하기 (sub 사용)\n",
        "# 문제: 주어진 HTML 문자열에서 모든 HTML 태그를 제거하고 텍스트만 남기시오.\n",
        "\n",
        "# 예시 입력: \"<p>이것은 <b>예시</b> 문장입니다.</p>\"\n",
        "# 예시 출력: \"이것은 예시 문장입니다.\"\n",
        "\n",
        "# 힌트: HTML 태그를 찾기 위한 정규표현식은 <[^>]+>를 사용할 수 있습니다."
      ],
      "metadata": {
        "id": "7ujAPb0WS0aq"
      },
      "execution_count": null,
      "outputs": []
    },
    {
      "cell_type": "code",
      "source": [
        "sample_sentence = \"<p>이것은 <b>예시</b> 문장입니다.</p>\"\n",
        "\n",
        "re.sub(r'<[^>]+>', '', sample_sentence)"
      ],
      "metadata": {
        "colab": {
          "base_uri": "https://localhost:8080/",
          "height": 35
        },
        "id": "0gNrXFmTS1pC",
        "outputId": "10069005-cc53-42f8-9f76-a6c7841f361f"
      },
      "execution_count": 43,
      "outputs": [
        {
          "output_type": "execute_result",
          "data": {
            "text/plain": [
              "'이것은 예시 문장입니다.'"
            ],
            "application/vnd.google.colaboratory.intrinsic+json": {
              "type": "string"
            }
          },
          "metadata": {},
          "execution_count": 43
        }
      ]
    }
  ]
}