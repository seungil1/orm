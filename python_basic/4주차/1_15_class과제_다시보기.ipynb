{
  "nbformat": 4,
  "nbformat_minor": 0,
  "metadata": {
    "colab": {
      "provenance": []
    },
    "kernelspec": {
      "name": "python3",
      "display_name": "Python 3"
    },
    "language_info": {
      "name": "python"
    }
  },
  "cells": [
    {
      "cell_type": "markdown",
      "source": [
        "## class Commnet를 작성해주세요.\n",
        "\n",
        "요구사항\n",
        "* 각 댓글은 고유한 ID, 작성자 이름, 댓글 내용, 작성 시간을 가져야 합니다.\n",
        "* 댓글은 하나 이상의 대댓글을 가질 수 있어야 합니다.\n",
        "* 대댓글도 Comment 클래스의 인스턴스로 생성되며, 원 댓글에 종속됩니다.\n",
        "* 시간은 '년-월-일 시:분' 형식으로 표시되어야 합니다.\n",
        "* (선택 과제) 댓글 출력 기능 - 계층적 출력을 해보세요.\n",
        "* (선택 과제)댓글에 대한 좋아요 기능을 추가할 수 있습니다."
      ],
      "metadata": {
        "id": "yKrmSg3T8O1p"
      }
    },
    {
      "cell_type": "code",
      "source": [
        "from datetime import datetime"
      ],
      "metadata": {
        "id": "8FIrw8NW9fdx"
      },
      "execution_count": 21,
      "outputs": []
    },
    {
      "cell_type": "code",
      "source": [
        "class comment:\n",
        "    def __init__(self, author, user_comment):\n",
        "        self.author = author\n",
        "        self.user_comment = user_comment\n",
        "        self.time = datetime.now().strftime('%Y-%m-%d %H:%M')\n",
        "        self.replies = []\n",
        "\n",
        "\n",
        "    def add_reply(self, comment):\n",
        "        self.replies.append(comment)\n",
        "\n",
        "\n",
        "    def display(self, depth = 0):\n",
        "        blank = ' ' * depth*4\n",
        "\n",
        "\n",
        "\n",
        "        print(f'{blank} author:{self.author} 입니다')\n",
        "        print(f'{blank} user_comment:{self.user_comment}')\n",
        "        print(f'{blank} time:{self.time}')\n",
        "        for i in self.replies:\n",
        "            i.display(depth+1)\n",
        "\n",
        "\n",
        "\n",
        "\n",
        "\n",
        "\n",
        "\n",
        "\n",
        "comment1= comment('김선길', '클래스 너무 어려워요')\n",
        "comment2= comment('신짱구', '계속 반복하면 나아질수있을거에요')\n",
        "comment1.time   # comment 1 자체가 셀프가 들어가 있는건데 self를 또 넣을필요가 없었네\n",
        "reply1 = comment1.add_reply(comment2)\n",
        "comment1.display()\n"
      ],
      "metadata": {
        "colab": {
          "base_uri": "https://localhost:8080/"
        },
        "id": "yQ5nhW8-38YS",
        "outputId": "1034a01f-8e52-416a-f99c-d17455abb3fe"
      },
      "execution_count": 42,
      "outputs": [
        {
          "output_type": "stream",
          "name": "stdout",
          "text": [
            " author:김선길 입니다\n",
            " user_comment:클래스 너무 어려워요\n",
            " time:2024-01-16 10:53\n",
            "     author:신짱구 입니다\n",
            "     user_comment:계속 반복하면 나아질수있을거에요\n",
            "     time:2024-01-16 10:53\n"
          ]
        }
      ]
    },
    {
      "cell_type": "code",
      "source": [
        "from datetime import datetime\n",
        "\n",
        "class Comment:\n",
        "    def __init__(self, comment_id, author, content, parent=None, timestamp=None):\n",
        "        self.comment_id = comment_id\n",
        "        self.author = author\n",
        "        self.content = content\n",
        "        self.parent = parent\n",
        "        self.timestamp = timestamp or datetime.now()\n",
        "\n",
        "        self.replies = []  # 대댓글을 저장할 리스트\n",
        "\n",
        "    def add_reply(self, reply):\n",
        "        self.replies.append(reply)\n",
        "\n",
        "    def display(self, depth=0):\n",
        "        blank = \"  \" * depth # 주 댓글 공백을 띄워주는 출력기능\n",
        "        print(f\"{blank}ID: {self.comment_id}\")\n",
        "        print(f\"{blank}Author: {self.author}\")\n",
        "        print(f\"{blank}Content: {self.content}\")\n",
        "        print(f\"{blank}Timestamp: {self.timestamp.strftime('%Y-%m-%d %H:%M')}\")\n",
        "\n",
        "        for reply in self.replies:\n",
        "            reply.display(depth + 1)\n",
        "\n",
        "# 예제 사용:\n",
        "if __name__ == \"__main__\":\n",
        "    # 루트 댓글 생성\n",
        "    root_comment = Comment(1, \"기준하\", \"이것은 주 댓글입니다.\")\n",
        "\n",
        "    # 루트 댓글에 대댓글 추가\n",
        "    reply1 = Comment(2, \"홍길동\", \"주 댓글에 대한 첫 번째 대댓글입니다.\", parent=root_comment)\n",
        "    root_comment.add_reply(reply1)\n",
        "\n",
        "    reply2 = Comment(3, \"이순신\", \"주 댓글에 대한 두 번째 대댓글입니다.\", parent=root_comment)\n",
        "    root_comment.add_reply(reply2)\n",
        "\n",
        "    # 대댓글에 대한 댓글 추가\n",
        "    reply3 = Comment(4, \"세종\", \"첫 번째 대댓글에 대한 댓글입니다.\", parent=reply1)\n",
        "    reply1.add_reply(reply3)\n",
        "\n",
        "    # 댓글을 계층적으로 출력\n",
        "    root_comment.display()"
      ],
      "metadata": {
        "colab": {
          "base_uri": "https://localhost:8080/"
        },
        "id": "61aJJvBOFArj",
        "outputId": "a14e6b9f-398e-4445-d054-e5d39ee26ec8"
      },
      "execution_count": 41,
      "outputs": [
        {
          "output_type": "stream",
          "name": "stdout",
          "text": [
            "ID: 1\n",
            "Author: 기준하\n",
            "Content: 이것은 주 댓글입니다.\n",
            "Timestamp: 2024-01-16 10:52\n",
            "  ID: 2\n",
            "  Author: 홍길동\n",
            "  Content: 주 댓글에 대한 첫 번째 대댓글입니다.\n",
            "  Timestamp: 2024-01-16 10:52\n",
            "    ID: 4\n",
            "    Author: 세종\n",
            "    Content: 첫 번째 대댓글에 대한 댓글입니다.\n",
            "    Timestamp: 2024-01-16 10:52\n",
            "  ID: 3\n",
            "  Author: 이순신\n",
            "  Content: 주 댓글에 대한 두 번째 대댓글입니다.\n",
            "  Timestamp: 2024-01-16 10:52\n"
          ]
        }
      ]
    },
    {
      "cell_type": "code",
      "source": [
        "from datetime import datetime\n",
        "\n",
        "comment_list = []\n",
        "\n",
        "class Comment:\n",
        "    def __init__(self, id, name, comment):\n",
        "        self.id = id\n",
        "        self.name = name\n",
        "        self.comment = comment\n",
        "        self.create_date = datetime.now().strftime('%Y-%m-%d %H:%M')\n",
        "        self.comment_reply_list = []\n",
        "\n",
        "    def display(self):\n",
        "        print(f\"ID: {self.id}\")\n",
        "        print(f\"이름: {self.name}\")\n",
        "        print(f\"댓글: {self.comment}\")\n",
        "        print(f\"시간: {self.create_date}\")\n",
        "\n",
        "    def add_comment(self, comment):\n",
        "        self.comment_reply_list.append(comment)\n",
        "\n",
        "\n",
        "# main 댓글 작성\n",
        "main_comment1 = Comment('test1', '홍길동', '테스트1입니다.')\n",
        "comment_list.append(main_comment1)\n",
        "\n",
        "main_comment2 = Comment('test2', '이몽룡', '테스트2입니다.')\n",
        "comment_list.append(main_comment2)\n",
        "\n",
        "# 대댓글 작성\n",
        "sub_comment1 = Comment('test3', '개똥이', '테스트3입니다')\n",
        "main_comment1.add_comment(sub)\n",
        "\n",
        "cnt = 1\n",
        "\n",
        "for i in comment_list:\n",
        "    print(f'[댓글{cnt}]--------------')\n",
        "    i.display()\n",
        "    cnt+=1"
      ],
      "metadata": {
        "id": "4vGAbQUVGQAi"
      },
      "execution_count": null,
      "outputs": []
    },
    {
      "cell_type": "markdown",
      "source": [
        "## 1/ 16 과제"
      ],
      "metadata": {
        "id": "2zMqTMRn2SmW"
      }
    },
    {
      "cell_type": "code",
      "source": [
        "# 문제 1: 함수를 인자로 받는 고차함수\n",
        "# 주어진 리스트와 함수를 인자로 받아, 리스트의 각 요소에 해당 함수를 적용한 결과를 반환하는 고차함수 apply_function을 작성해주세요.\n",
        "\n",
        "def apply_function(lst, func):\n",
        "    result = []\n",
        "\n",
        "    for i, _ in enumerate(lst):\n",
        "        result.append(func(lst[i]))\n",
        "\n",
        "\n",
        "    return result\n",
        "\n",
        "\n",
        "# 예제 사용\n",
        "result = apply_function([1, 2, 3, 4], lambda x: x * 2)\n",
        "print(result)  # [2, 4, 6, 8]이 출력되어야 함"
      ],
      "metadata": {
        "colab": {
          "base_uri": "https://localhost:8080/"
        },
        "id": "Zjn9iZKXgH17",
        "outputId": "41c099a7-38d1-4d5f-b406-be2be29f7c26"
      },
      "execution_count": 15,
      "outputs": [
        {
          "output_type": "stream",
          "name": "stdout",
          "text": [
            "[2, 4, 6, 8]\n"
          ]
        }
      ]
    },
    {
      "cell_type": "code",
      "source": [
        "# 문제 2: 함수를 반환하는 고차함수\n",
        "# 정수 n을 인자로 받아, 다른 정수 x에 n을 곱하는 함수를 반환하는 고차함수 multiply_by_n을 작성해주세요. 힌트를 드리자면 반환 값은 lambda여야 합니다.\n",
        "\n",
        "def multiply_by_n(n):\n",
        "\n",
        "    return lambda x : int(x) * n\n",
        "\n",
        "# 예제 사용\n",
        "multiplier = multiply_by_n(5)\n",
        "print(multiplier(3))  # 15가 출력되어야 함"
      ],
      "metadata": {
        "colab": {
          "base_uri": "https://localhost:8080/"
        },
        "id": "DhHOZtKVgJmD",
        "outputId": "68c9f256-a416-48dc-f8b9-245a0463c6ed"
      },
      "execution_count": 19,
      "outputs": [
        {
          "output_type": "stream",
          "name": "stdout",
          "text": [
            "15\n"
          ]
        }
      ]
    }
  ]
}