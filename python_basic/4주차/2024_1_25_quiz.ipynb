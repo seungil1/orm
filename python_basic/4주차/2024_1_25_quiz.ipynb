{
  "nbformat": 4,
  "nbformat_minor": 0,
  "metadata": {
    "colab": {
      "provenance": []
    },
    "kernelspec": {
      "name": "python3",
      "display_name": "Python 3"
    },
    "language_info": {
      "name": "python"
    }
  },
  "cells": [
    {
      "cell_type": "markdown",
      "source": [
        "# `class Commnet`를 작성해주세요.\n",
        "\n",
        "요구사항\n",
        "* 각 댓글은 고유한 ID, 작성자 이름, 댓글 내용, 작성 시간을 가져야 합니다.\n",
        "* 댓글은 하나 이상의 대댓글을 가질 수 있어야 합니다.\n",
        "* 대댓글도 Comment 클래스의 인스턴스로 생성되며, 원 댓글에 종속됩니다.\n",
        "* 시간은 '년-월-일 시:분' 형식으로 표시되어야 합니다.\n",
        "* (선택 과제) 댓글 출력 기능 - 계층적 출력을 해보세요.\n",
        "* (선택 과제)댓글에 대한 좋아요 기능을 추가할 수 있습니다."
      ],
      "metadata": {
        "id": "pdjU9NmaT3Iq"
      }
    },
    {
      "cell_type": "code",
      "source": [
        "from datetime import datetime\n",
        "import pytz\n",
        "\n",
        "korea_timezone = pytz.timezone('Asia/Seoul')\n",
        "\n",
        "\n",
        "class Comment:\n",
        "    def __init__(self, id, author, comment):\n",
        "        self.id = id\n",
        "        self.author = author\n",
        "        self.comment = comment\n",
        "        self.time = datetime.now(korea_timezone).strftime('%Y-%m-%d %H:%M')\n",
        "        self.replies = []\n",
        "        self.likes = 0\n",
        "\n",
        "    def add_reply(self, reply):\n",
        "        self.replies.append(reply)\n",
        "\n",
        "    def display(self, indent=0):\n",
        "        print('  ' * indent + f'{self.author}, {self.comment} {self.time}')\n",
        "        for reply in self.replies:\n",
        "            reply.display(indent + 1)\n",
        "\n",
        "    def __str__(self):\n",
        "        return f'{self.author}, {self.comment} {self.time} '\n",
        "\n",
        "    def __repr__(self):\n",
        "        return f'{self.author}, {self.comment} {self.time}'\n",
        "\n",
        "\n",
        "# 댓글 생성\n",
        "comment1 = Comment('ggman123', '김철수', '안녕하세요~')\n",
        "comment2 = Comment('ksk123', '김길수', '반갑습니다!')\n",
        "\n",
        "reply1 = Comment('abc123', '김짱구', '철수님 안녕하세요')\n",
        "reply2 = Comment('def456', '김또치', '안녕하세요~')\n",
        "\n",
        "reply1.add_reply(reply2)\n",
        "comment1.add_reply(reply1)\n",
        "\n",
        "comment1.display()"
      ],
      "metadata": {
        "colab": {
          "base_uri": "https://localhost:8080/"
        },
        "id": "q0KuGARJNopj",
        "outputId": "f14add87-fe56-41b7-d60b-c31e5b5f5557"
      },
      "execution_count": 41,
      "outputs": [
        {
          "output_type": "stream",
          "name": "stdout",
          "text": [
            "김철수, 안녕하세요~ 2024-01-16 02:41\n",
            "  김짱구, 철수님 안녕하세요 2024-01-16 02:41\n",
            "    김또치, 안녕하세요~ 2024-01-16 02:41\n"
          ]
        }
      ]
    },
    {
      "cell_type": "code",
      "source": [],
      "metadata": {
        "id": "-4IYEp1Vc66O"
      },
      "execution_count": null,
      "outputs": []
    }
  ]
}