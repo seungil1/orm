{
  "nbformat": 4,
  "nbformat_minor": 0,
  "metadata": {
    "colab": {
      "provenance": []
    },
    "kernelspec": {
      "name": "python3",
      "display_name": "Python 3"
    },
    "language_info": {
      "name": "python"
    }
  },
  "cells": [
    {
      "cell_type": "markdown",
      "source": [
        "#While 문"
      ],
      "metadata": {
        "id": "1SxQy84hvJxU"
      }
    },
    {
      "cell_type": "code",
      "execution_count": 9,
      "metadata": {
        "colab": {
          "base_uri": "https://localhost:8080/"
        },
        "id": "AQrJwjYhq86p",
        "outputId": "887954ca-b950-4e70-8a45-8ec00d1ff9e8"
      },
      "outputs": [
        {
          "output_type": "stream",
          "name": "stdout",
          "text": [
            "[32, 8, 5, 7, 43, 9]\n"
          ]
        }
      ],
      "source": [
        "a = 1\n",
        "\n",
        "# while 문은 조건이 참이면 무한으로 돌아감\n",
        "\n",
        "# while a < 10 :\n",
        "#     print(a)\n",
        "#     a += 1 #(무한루프에 빠질수 있기 때문에) -> 연산자를 계산해서 조건문을 강제로 false로 만드는 구문이 있다.\n",
        "\n",
        "\n",
        "# 어떨때 쓰일까?\n",
        "\n",
        "# 1. 로또번호 - 6개 까지 추첨하면 끝!\n",
        "\n",
        "# 2. 이벤트 -> 100명이 당첨되면 끝!\n",
        "\n",
        "# 3. 제한된 마케팅 / 고객 모집 /조건 !\n",
        "\n",
        "import random\n",
        "lotto = []\n",
        "\n",
        "while len(lotto) < 6:\n",
        "\n",
        "    lotto.append(random.randrange(1,45))\n",
        "\n",
        "\n",
        "\n"
      ]
    },
    {
      "cell_type": "code",
      "source": [
        "import os\n",
        "\n",
        "while True:\n",
        "    userinput = input('>')\n",
        "    if userinput == 'pwd':\n",
        "        # print('현재 위치 출력')\n",
        "        # print('\\\\'.join(__file__.split('\\\\')[:-1]))\n",
        "        print(os.getcwd())\n",
        "    elif userinput == 'dir' or userinput == 'ls':\n",
        "        # print('현재 폴더에 폴더와 파일명 출력')\n",
        "        print(os.listdir(os.getcwd()))\n",
        "    elif userinput == 'exit':\n",
        "        print('안녕히가세요.')\n",
        "        break"
      ],
      "metadata": {
        "id": "lpJ6GpEExWge"
      },
      "execution_count": null,
      "outputs": []
    },
    {
      "cell_type": "code",
      "source": [
        "import os\n",
        "\n",
        "while True:\n",
        "    userinput = input('>')\n",
        "\n",
        "    if userinput == 'pwd':\n",
        "\n",
        "        print(os.getcwd())\n",
        "\n",
        "    elif userinput == 'dir' or userinput == 'is':\n",
        "        print(os.listdir(os.getcwd()))\n",
        "\n",
        "    elif userinput == 'exit' :\n",
        "        print('안녕히가세요')\n",
        "        break"
      ],
      "metadata": {
        "colab": {
          "base_uri": "https://localhost:8080/"
        },
        "id": "dneRwyJcxw92",
        "outputId": "23cbaa7b-c141-4401-81ab-0c7883d59d0c"
      },
      "execution_count": 22,
      "outputs": [
        {
          "output_type": "stream",
          "name": "stdout",
          "text": [
            ">exit\n",
            "안녕히가세요\n"
          ]
        }
      ]
    },
    {
      "cell_type": "markdown",
      "source": [
        "# 2. break / continue\n",
        "\n",
        "* break는 조건 만족시 STOP\n",
        "* continue는 조건을 만족한 특정값을 제외하고 진행"
      ],
      "metadata": {
        "id": "9vxMB6b_ygL7"
      }
    },
    {
      "cell_type": "code",
      "source": [
        "# break가 있었을 경우\n",
        "\n",
        "for i in range(10):\n",
        "    print(i)\n",
        "    if i == 5 :\n",
        "        print(i)\n",
        "        break\n",
        ""
      ],
      "metadata": {
        "colab": {
          "base_uri": "https://localhost:8080/"
        },
        "id": "JxrF4usqyjLj",
        "outputId": "8894e8c6-0ba5-4b53-904f-028ecf3d4028"
      },
      "execution_count": 28,
      "outputs": [
        {
          "output_type": "stream",
          "name": "stdout",
          "text": [
            "0\n",
            "1\n",
            "2\n",
            "3\n",
            "4\n",
            "5\n",
            "5\n"
          ]
        }
      ]
    },
    {
      "cell_type": "code",
      "source": [
        "for i in range(10):\n",
        "    if i == 5 :\n",
        "\n",
        "        continue\n",
        "    print(i)\n",
        ""
      ],
      "metadata": {
        "colab": {
          "base_uri": "https://localhost:8080/"
        },
        "id": "5I6gZW-pzKuD",
        "outputId": "1da21c2c-9c71-4a96-8f33-ae19c0e3f428"
      },
      "execution_count": 29,
      "outputs": [
        {
          "output_type": "stream",
          "name": "stdout",
          "text": [
            "0\n",
            "1\n",
            "2\n",
            "3\n",
            "4\n",
            "6\n",
            "7\n",
            "8\n",
            "9\n"
          ]
        }
      ]
    },
    {
      "cell_type": "code",
      "source": [
        "i = 2\n",
        "\n",
        "\n",
        "while i < 10 :\n",
        "    j = 1\n",
        "    while j < 10:\n",
        "        print(f'{i} x {j} = {i * j}')\n",
        "        j += 1\n",
        "        i += 1"
      ],
      "metadata": {
        "colab": {
          "base_uri": "https://localhost:8080/"
        },
        "id": "opCCb53P8kZA",
        "outputId": "4a527930-640b-4f3b-afab-42880e08c1c2"
      },
      "execution_count": 33,
      "outputs": [
        {
          "output_type": "stream",
          "name": "stdout",
          "text": [
            "2 x 1 = 2\n",
            "3 x 2 = 6\n",
            "4 x 3 = 12\n",
            "5 x 4 = 20\n",
            "6 x 5 = 30\n",
            "7 x 6 = 42\n",
            "8 x 7 = 56\n",
            "9 x 8 = 72\n",
            "10 x 9 = 90\n"
          ]
        }
      ]
    },
    {
      "cell_type": "code",
      "source": [
        "switch = 0\n",
        "for i in range(5):\n",
        "    if switch == 1:\n",
        "        break\n",
        "    for j in range(5):\n",
        "        if j == 3:\n",
        "            switch = 1\n",
        "            break\n",
        "        print(f'{i}, {j}')\n",
        ""
      ],
      "metadata": {
        "colab": {
          "base_uri": "https://localhost:8080/"
        },
        "id": "4PFvBs6y_1-9",
        "outputId": "a6e01231-87cd-4925-9525-97e9def8e355"
      },
      "execution_count": 44,
      "outputs": [
        {
          "output_type": "stream",
          "name": "stdout",
          "text": [
            "0, 0\n",
            "0, 1\n",
            "0, 2\n"
          ]
        }
      ]
    },
    {
      "cell_type": "code",
      "source": [
        "# https://peps.python.org/pep-3136/\n",
        "\n",
        "try:\n",
        "    for i in range(2, 10):\n",
        "        for j in range(1, 10):\n",
        "            if j == 3:\n",
        "                raise StopIteration\n",
        "            print(f'{i} X {j} = {i*j}')\n",
        "except StopIteration:\n",
        "    print(\"Done\")"
      ],
      "metadata": {
        "colab": {
          "base_uri": "https://localhost:8080/"
        },
        "id": "Qxh8VHh5BCIg",
        "outputId": "08e39864-c597-403e-e953-a9c3106484e2"
      },
      "execution_count": 45,
      "outputs": [
        {
          "output_type": "stream",
          "name": "stdout",
          "text": [
            "2 X 1 = 2\n",
            "2 X 2 = 4\n",
            "Done\n"
          ]
        }
      ]
    },
    {
      "cell_type": "code",
      "source": [
        "# Step 1: 할 일 목록 초기화 및 표시 함수\n",
        "# 목표: 사용자의 할 일 목록을 관리합니다.\n",
        "\n",
        "\n",
        "# 내용:\n",
        "# 할 일 목록을 저장할 리스트를 초기화합니다.\n",
        "# 할 일 목록을 표시하는 함수를 정의합니다.\n",
        "\n",
        "\n",
        "# Step 2: 할 일 추가 및 삭제 기능\n",
        "# 목표: 할 일을 추가하고 삭제하는 기능을 구현합니다.\n",
        "# 내용:\n",
        "# 할 일을 추가하는 함수를 정의합니다.\n",
        "# 할 일을 삭제하는 함수를 정의합니다.\n",
        "\n",
        "# Step 3: 사용자 입력 처리\n",
        "# 목표: 사용자 입력에 따라 프로그램이 반응하도록 합니다.\n",
        "# 내용:\n",
        "# 사용자로부터 입력을 받아 추가, 삭제, 표시 기능을 수행합니다."
      ],
      "metadata": {
        "id": "H7_z5Ds8HLir"
      },
      "execution_count": null,
      "outputs": []
    },
    {
      "cell_type": "code",
      "source": [
        "# 내가 해본것\n",
        "\n",
        "\n",
        "day_work= []\n",
        "\n",
        "\n",
        "def dis_worklist():\n",
        "\n",
        "    if len(day_work) == 0:\n",
        "        print('--------------')\n",
        "        print(\"오늘 할 일 없음\")\n",
        "        print('--------------')\n",
        "    print()\n",
        "    print()\n",
        "\n",
        "\n",
        "\n",
        "    print(\"할 일 목록\")\n",
        "\n",
        "    for idx, i in enumerate(day_work,1):\n",
        "        print(f\"{idx} 번재 할일은 {i}\")\n",
        "\n",
        "    print()\n",
        "    print()\n",
        "\n",
        "\n",
        "\n",
        "while True:\n",
        "    print(\"1. 할 일 추가\")\n",
        "    print(\"2. 할 일 삭제\")\n",
        "    print(\"3. 할 일 목룍 표시\")\n",
        "    print(\"4. 종료\")\n",
        "    choice = input(\"원하는 작업을 선택하세요(숫자로 입력)\")\n",
        "\n",
        "    if choice == '1':\n",
        "\n",
        "        i = input(\"추가 할 할일을 입력하세요\\n\")\n",
        "        day_work.append(i)\n",
        "        print('--------------')\n",
        "\n",
        "        print(f\"{i} 가 할 일에 추가 되었습니다\")\n",
        "\n",
        "        print('--------------')\n",
        "\n",
        "\n",
        "    elif choice == '2':\n",
        "        work_num = int(input(\"삭제할 할 일을 골라주세요\"))\n",
        "        del(day_work[work_num-1])\n",
        "\n",
        "        # 제거할때 remove를 써도 됌\n",
        "\n",
        "\n",
        "    elif choice == '3' :\n",
        "\n",
        "        dis_worklist()\n",
        "\n",
        "\n",
        "    elif choice == '4' :\n",
        "\n",
        "        print(\"종료합니다\")\n",
        "        break\n",
        "\n",
        "    else:\n",
        "        print(\"잘못된 입력입니다\")\n",
        "\n",
        ""
      ],
      "metadata": {
        "colab": {
          "base_uri": "https://localhost:8080/"
        },
        "id": "TUbCcMK_JsQq",
        "outputId": "ed76e568-4625-422b-f381-3208286609fe"
      },
      "execution_count": 71,
      "outputs": [
        {
          "output_type": "stream",
          "name": "stdout",
          "text": [
            "1. 할 일 추가\n",
            "2. 할 일 삭제\n",
            "3. 할 일 목룍 표시\n",
            "4. 종료\n",
            "원하는 작업을 선택하세요(숫자로 입력)4\n",
            "종료합니다\n"
          ]
        }
      ]
    },
    {
      "cell_type": "code",
      "source": [
        "# 조원과제\n",
        "\n",
        "# 할 일 목록을 저장할 리스트\n",
        "todo_list = []\n",
        "\n",
        "# 할 일 목록을 표시하는 함수\n",
        "def display_todo_list():\n",
        "    \"\"\"\n",
        "    할 일 목록을 화면에 표시합니다.\n",
        "    \"\"\"\n",
        "    if len(todo_list) == 0:\n",
        "        print(\"할 일 목록이 비어있습니다.\")\n",
        "    else:\n",
        "        for idx, item in enumerate(todo_list):\n",
        "            print(f\"{idx + 1}. {item}\")\n",
        "\n",
        "# 할 일을 추가하는 함수\n",
        "def add_todo_item(item):\n",
        "    \"\"\"\n",
        "    할 일 목록에 새로운 항목을 추가합니다.\n",
        "\n",
        "    Args:\n",
        "    item (str): 할 일 목록에 추가할 항목\n",
        "    \"\"\"\n",
        "    todo_list.append(item)\n",
        "    print(f\"'{item}'이(가) 할 일 목록에 추가되었습니다.\")\n",
        "\n",
        "# 할 일을 삭제하는 함수\n",
        "def delete_todo_item(index):\n",
        "    \"\"\"\n",
        "    할 일 목록에서 특정 항목을 삭제합니다.\n",
        "\n",
        "    Args:\n",
        "    index (int): 삭제할 항목의 인덱스 (1부터 시작)\n",
        "    \"\"\"\n",
        "    if 0 < index <= len(todo_list):\n",
        "        item = todo_list.pop(index - 1)\n",
        "        print(f\"'{item}'이(가) 할 일 목록에서 삭제되었습니다.\")\n",
        "    else:\n",
        "        print(\"잘못된 인덱스입니다.\")\n",
        "\n",
        "# 할 일을 모두 삭제하는 함수\n",
        "def delete_todo_item_all():\n",
        "    if len(todo_list) > 0:\n",
        "        todo_list.clear()\n",
        "        print(\"전부 삭제!\")\n",
        "    else:\n",
        "        print(\"할일이 없습니다!\")\n",
        "\n",
        "# 사용자 입력 처리 함수\n",
        "def handle_user_input():\n",
        "    \"\"\"\n",
        "    사용자 입력을 처리합니다.\n",
        "    \"\"\"\n",
        "    while True:\n",
        "        print(\"\\n할 일 목록 관리 프로그램\")\n",
        "        print(\"1. 할 일 표시하기\")\n",
        "        print(\"2. 할 일 추가하기\")\n",
        "        print(\"3. 할 일 삭제하기\")\n",
        "        print(\"4. 모든 일 삭제하기\")\n",
        "        print(\"5. 프로그램 종료하기\")\n",
        "        choice = input(\"원하는 작업을 선택하세요: \")\n",
        "\n",
        "        if choice == '1':\n",
        "            display_todo_list()\n",
        "        elif choice == '2':\n",
        "            item = input(\"추가할 할 일: \")\n",
        "            add_todo_item(item)\n",
        "        elif choice == '3':\n",
        "            index = int(input(\"삭제할 할 일의 번호: \"))\n",
        "            delete_todo_item(index)\n",
        "        elif choice == '4':\n",
        "            delete_todo_item_all()\n",
        "        elif choice == '5':\n",
        "            print(\"프로그램을 종료합니다.\")\n",
        "            break\n",
        "        else:\n",
        "            print(\"잘못된 선택입니다. 다시 시도해주세요.\")\n",
        "\n",
        "\n",
        "\n",
        "\n",
        "# 프로그램 실행\n",
        "handle_user_input()"
      ],
      "metadata": {
        "id": "oPmcCEw8V2hd"
      },
      "execution_count": null,
      "outputs": []
    },
    {
      "cell_type": "markdown",
      "source": [
        "# Class"
      ],
      "metadata": {
        "id": "fKzOE26uXQtO"
      }
    },
    {
      "cell_type": "code",
      "source": [
        "class Car:\n",
        "    max_speed = 300\n",
        "    max_people = 5\n",
        "    car_gear = ['P', 'D', 'R', 'N']\n",
        "\n",
        "    def start(self):\n",
        "        print('차가 출발합니다!')\n",
        "\n",
        "\n",
        "    def stop(self):\n",
        "        print('차가 멈췄습니다')\n",
        "\n",
        "\n",
        "# 공장에서 생산된 자동차 model\n",
        "\n",
        "\n",
        "modelx = Car() # 인스턴스 = 클래스()\n",
        "modely = Car()\n",
        "models = Car()\n",
        "\n",
        "print(models.car_gear[1]) # 도서관에서 책 찾는것 처럼 -> 문학 ->한국문학 -> 비문학\n",
        "\n",
        "models.start()\n",
        "models.stop()\n",
        "models.max_speed\n",
        "models.max_people"
      ],
      "metadata": {
        "colab": {
          "base_uri": "https://localhost:8080/"
        },
        "id": "LBV4jYAzXT1f",
        "outputId": "10259119-76c5-4c11-9e40-a4d08bfb3b7e"
      },
      "execution_count": 86,
      "outputs": [
        {
          "output_type": "stream",
          "name": "stdout",
          "text": [
            "D\n",
            "차가 출발합니다!\n",
            "차가 멈췄습니다\n"
          ]
        },
        {
          "output_type": "execute_result",
          "data": {
            "text/plain": [
              "5"
            ]
          },
          "metadata": {},
          "execution_count": 86
        }
      ]
    },
    {
      "cell_type": "code",
      "source": [
        "# self는 무시된다 함수를 가져올땐 ()를 꼭 입력해줘야함\n",
        "\n",
        "\n",
        "models.start()\n",
        "models.stop()"
      ],
      "metadata": {
        "id": "IE6NlV5saX8N"
      },
      "execution_count": null,
      "outputs": []
    },
    {
      "cell_type": "code",
      "source": [
        "models.max_speed = 500\n",
        "\n",
        "models.max_speed"
      ],
      "metadata": {
        "colab": {
          "base_uri": "https://localhost:8080/"
        },
        "id": "n4uBzhvAazLU",
        "outputId": "1869aa68-734c-4d4f-ddf4-36c9af221c90"
      },
      "execution_count": 89,
      "outputs": [
        {
          "output_type": "execute_result",
          "data": {
            "text/plain": [
              "500"
            ]
          },
          "metadata": {},
          "execution_count": 89
        }
      ]
    },
    {
      "cell_type": "code",
      "source": [
        "# x = int(3) 여기서 넣었던 3이라는 값이 어떻게 처리되는지 확인\n",
        "class Car:\n",
        "\n",
        "    # 클래스에서 __init__은 붕어빵 틀 중에서 가장 기본틀\n",
        "    # self는 인수로 전달 받지도 전달하지도 않음 - > Car 클래스 그 자체\n",
        "    # 꼭 self 를 붙여야 self를 사용해서 self.name처럼 사용이 가능하다\n",
        "\n",
        "    def __init__(self, name,CEO): # 클래스로 인스턴스를 만들 때 호출!\n",
        "        self.name = name  #   = Car.name = name 이거랑 같은 애기임\n",
        "        self.CEO = CEO     #  =Car.CEO\n",
        "\n",
        "\n",
        "modelx = Car(\"테슬라\",\"일레기\") # x = int(3) 여기서 넣었던 3이 __init__ 메직메서드에서 처리!\n",
        "modelx.name\n",
        "modelx.CEO"
      ],
      "metadata": {
        "colab": {
          "base_uri": "https://localhost:8080/",
          "height": 35
        },
        "id": "T2U0BPWLcmYU",
        "outputId": "171e785f-1e20-4d4b-f3f2-c7ad31707509"
      },
      "execution_count": 98,
      "outputs": [
        {
          "output_type": "execute_result",
          "data": {
            "text/plain": [
              "'일레기'"
            ],
            "application/vnd.google.colaboratory.intrinsic+json": {
              "type": "string"
            }
          },
          "metadata": {},
          "execution_count": 98
        }
      ]
    },
    {
      "cell_type": "code",
      "source": [
        "class Car:\n",
        "\n",
        "    # 클래스에서 __init__은 붕어빵 틀 중에서 가장 기본틀\n",
        "    # self는 인수로 전달 받지도 전달하지도 않음 - > Car 클래스 그 자체\n",
        "    # 꼭 self 를 붙여야 self를 사용해서 self.name처럼 사용이 가능하다\n",
        "\n",
        "    def __init__(self, name): # 클래스로 인스턴스를 만들 때 호출!\n",
        "        self.name = x+y  #   = Car.name = name 이거랑 같은 애기임\n",
        "\n",
        "\n",
        "\n",
        "modelx = Car(5,6) # x = int(3) 여기서 넣었던 3이 __init__ 메직메서드에서 처리!\n",
        "modelx.name\n",
        "modelx.CEO"
      ],
      "metadata": {
        "colab": {
          "base_uri": "https://localhost:8080/",
          "height": 258
        },
        "id": "78I2edACfcZC",
        "outputId": "7f565fe9-19b8-417a-89b7-fabf7539265f"
      },
      "execution_count": 99,
      "outputs": [
        {
          "output_type": "error",
          "ename": "TypeError",
          "evalue": "Car.__init__() takes 2 positional arguments but 3 were given",
          "traceback": [
            "\u001b[0;31m---------------------------------------------------------------------------\u001b[0m",
            "\u001b[0;31mTypeError\u001b[0m                                 Traceback (most recent call last)",
            "\u001b[0;32m<ipython-input-99-a5be69fe6c22>\u001b[0m in \u001b[0;36m<cell line: 12>\u001b[0;34m()\u001b[0m\n\u001b[1;32m     10\u001b[0m \u001b[0;34m\u001b[0m\u001b[0m\n\u001b[1;32m     11\u001b[0m \u001b[0;34m\u001b[0m\u001b[0m\n\u001b[0;32m---> 12\u001b[0;31m \u001b[0mmodelx\u001b[0m \u001b[0;34m=\u001b[0m \u001b[0mCar\u001b[0m\u001b[0;34m(\u001b[0m\u001b[0;36m5\u001b[0m\u001b[0;34m,\u001b[0m\u001b[0;36m6\u001b[0m\u001b[0;34m)\u001b[0m \u001b[0;31m# x = int(3) 여기서 넣었던 3이 __init__ 메직메서드에서 처리!\u001b[0m\u001b[0;34m\u001b[0m\u001b[0;34m\u001b[0m\u001b[0m\n\u001b[0m\u001b[1;32m     13\u001b[0m \u001b[0mmodelx\u001b[0m\u001b[0;34m.\u001b[0m\u001b[0mname\u001b[0m\u001b[0;34m\u001b[0m\u001b[0;34m\u001b[0m\u001b[0m\n\u001b[1;32m     14\u001b[0m \u001b[0mmodelx\u001b[0m\u001b[0;34m.\u001b[0m\u001b[0mCEO\u001b[0m\u001b[0;34m\u001b[0m\u001b[0;34m\u001b[0m\u001b[0m\n",
            "\u001b[0;31mTypeError\u001b[0m: Car.__init__() takes 2 positional arguments but 3 were given"
          ]
        }
      ]
    },
    {
      "cell_type": "code",
      "source": [
        "class Car:\n",
        "    kinds = []\n",
        "    speed = 300\n",
        "\n",
        "    def add_kinds(self,name):\n",
        "        self.kinds.append(name)\n",
        "\n",
        "    def change_speed(self, speed):\n",
        "        self.speed = speed\n",
        "\n",
        "\n",
        "modelx = Car()\n",
        "modely = Car()\n",
        "\n",
        "modelx.add_kinds('x')\n",
        "modely.add_kinds('y')\n",
        "\n",
        "Car.speed = 100\n",
        "\n",
        "modelx.speed =500\n",
        "\n",
        "modelx.speed"
      ],
      "metadata": {
        "colab": {
          "base_uri": "https://localhost:8080/"
        },
        "id": "XNOhFjdixIzY",
        "outputId": "3637f0b8-ed61-4457-9cb6-a2e60c80b7f7"
      },
      "execution_count": 109,
      "outputs": [
        {
          "output_type": "execute_result",
          "data": {
            "text/plain": [
              "500"
            ]
          },
          "metadata": {},
          "execution_count": 109
        }
      ]
    },
    {
      "cell_type": "code",
      "source": [
        "class Car:\n",
        "    kinds = []\n",
        "    speed = 300\n",
        "\n",
        "    def add_kinds(self, name):\n",
        "        self.kinds.append(name)\n",
        "\n",
        "    def change_speed(self, speed):\n",
        "        self.speed = speed\n",
        "\n",
        "modelx = Car()\n",
        "modely = Car()\n",
        "\n",
        "modelx.add_kinds('x')\n",
        "modely.add_kinds('y')\n",
        "\n",
        "Car.speed = 100\n",
        "\n",
        "modelx.change_speed(500)\n",
        "modely.change_speed(250)\n",
        "\n",
        "print(f'modelx.kinds: {modelx.kinds}')\n",
        "print(f'modely.kinds: {modely.kinds}')\n",
        "print(f'modelx.speed: {modelx.speed}')\n",
        "print(f'modely.speed: {modely.speed}')"
      ],
      "metadata": {
        "colab": {
          "base_uri": "https://localhost:8080/"
        },
        "id": "4fzXt-gTzSUT",
        "outputId": "99594075-9829-408b-e63f-9569e5132c03"
      },
      "execution_count": 111,
      "outputs": [
        {
          "output_type": "stream",
          "name": "stdout",
          "text": [
            "modelx.kinds: ['x', 'y']\n",
            "modely.kinds: ['x', 'y']\n",
            "modelx.speed: 500\n",
            "modely.speed: 250\n"
          ]
        }
      ]
    },
    {
      "cell_type": "code",
      "source": [
        "modely.add_kinds('y')\n",
        "modelx.add_kinds('x')"
      ],
      "metadata": {
        "id": "hXxCl66C0B5c"
      },
      "execution_count": 123,
      "outputs": []
    },
    {
      "cell_type": "code",
      "source": [
        "modely.kinds"
      ],
      "metadata": {
        "colab": {
          "base_uri": "https://localhost:8080/"
        },
        "id": "P923kr2f0Shm",
        "outputId": "546d7133-8c16-4e5c-b6e8-8316b7216a43"
      },
      "execution_count": 126,
      "outputs": [
        {
          "output_type": "execute_result",
          "data": {
            "text/plain": [
              "['x', 'y', 'y', 'y', 'y', 'x']"
            ]
          },
          "metadata": {},
          "execution_count": 126
        }
      ]
    },
    {
      "cell_type": "markdown",
      "source": [
        "# 2. 예외처리"
      ],
      "metadata": {
        "id": "-hpyvdpFEyup"
      }
    },
    {
      "cell_type": "code",
      "source": [
        "try:\n",
        "    s = 1/0\n",
        "    print(s)\n",
        "\n",
        "except:\n",
        "    print(\"error가 발생되었습니다!\")"
      ],
      "metadata": {
        "colab": {
          "base_uri": "https://localhost:8080/"
        },
        "id": "GV1lwxi0E0q9",
        "outputId": "9cc6824b-4307-4f90-ba93-520d8443f1ff"
      },
      "execution_count": 129,
      "outputs": [
        {
          "output_type": "stream",
          "name": "stdout",
          "text": [
            "error가 발생되었습니다!\n"
          ]
        }
      ]
    },
    {
      "cell_type": "code",
      "source": [
        "try:\n",
        "    s = 1/1 # 0에서 1로 값을 바꾸었습니다.\n",
        "    print(s)\n",
        "    l = [1, 2, 3]\n",
        "    print(l[3])\n",
        "except ZeroDivisionError:\n",
        "    print('0으로 나누어졌습니다!')\n",
        "except:\n",
        "    print('오류가 났습니다!')"
      ],
      "metadata": {
        "colab": {
          "base_uri": "https://localhost:8080/"
        },
        "id": "FdzPIQFPFs6e",
        "outputId": "5f4e7d4c-9cf9-4135-857b-fc6d2df2c467"
      },
      "execution_count": 130,
      "outputs": [
        {
          "output_type": "stream",
          "name": "stdout",
          "text": [
            "1.0\n",
            "오류가 났습니다!\n"
          ]
        }
      ]
    }
  ]
}