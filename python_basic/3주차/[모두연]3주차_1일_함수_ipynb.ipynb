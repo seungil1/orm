{
  "nbformat": 4,
  "nbformat_minor": 0,
  "metadata": {
    "colab": {
      "provenance": []
    },
    "kernelspec": {
      "name": "python3",
      "display_name": "Python 3"
    },
    "language_info": {
      "name": "python"
    }
  },
  "cells": [
    {
      "cell_type": "markdown",
      "source": [
        "# 함수와 인사하기"
      ],
      "metadata": {
        "id": "idvjsy0Aqwcd"
      }
    },
    {
      "cell_type": "code",
      "execution_count": null,
      "metadata": {
        "colab": {
          "base_uri": "https://localhost:8080/",
          "height": 35
        },
        "id": "DJ2gtQKUXUn1",
        "outputId": "1ec0df0d-b041-4fbc-ff75-9db411052c93"
      },
      "outputs": [
        {
          "output_type": "execute_result",
          "data": {
            "text/plain": [
              "'where are you from?'"
            ],
            "application/vnd.google.colaboratory.intrinsic+json": {
              "type": "string"
            }
          },
          "metadata": {},
          "execution_count": 16
        }
      ],
      "source": [
        "# 1. 함수 만들어보기\n",
        "\n",
        "def seungil():"
      ]
    },
    {
      "cell_type": "code",
      "source": [
        "#2. 들여쓰기\n",
        "def my_function():\n",
        "    print(\"1\")\n",
        "    print(\"2\")\n",
        "print(\"3\")\n",
        "\n",
        "\n",
        "my_function()"
      ],
      "metadata": {
        "colab": {
          "base_uri": "https://localhost:8080/"
        },
        "id": "NyYSZ-xOqdF9",
        "outputId": "638b2d7a-8b8d-47b9-c430-c02722223734"
      },
      "execution_count": null,
      "outputs": [
        {
          "output_type": "stream",
          "name": "stdout",
          "text": [
            "3\n",
            "1\n",
            "2\n"
          ]
        }
      ]
    },
    {
      "cell_type": "code",
      "source": [
        "import random\n",
        "\n",
        "x = random.randint(0,4)\n",
        "def hungry():\n",
        "    if x == 1:\n",
        "        return \"부대찌개\"\n",
        "\n",
        "    elif x == 0:\n",
        "        return \"컵라면\"\n",
        "\n",
        "    elif x == 2:\n",
        "        return \"국밥\"\n",
        "    elif x == 3:\n",
        "        return \"삼각김밥\"\n",
        "\n",
        "\n",
        "    else:\n",
        "        return \"내가 먹고 싶은거로\"\n",
        "\n",
        "\n",
        "lunch = hungry()\n",
        "print(f\"오늘 점심 메뉴는 {lunch} 입니다.\")"
      ],
      "metadata": {
        "colab": {
          "base_uri": "https://localhost:8080/"
        },
        "id": "-LNGAb9r1WDZ",
        "outputId": "9c8a89c7-a033-439a-92d2-d1dfcd29c6b3"
      },
      "execution_count": null,
      "outputs": [
        {
          "output_type": "stream",
          "name": "stdout",
          "text": [
            "오늘 점심 메뉴는 내가 먹고 싶은거로 입니다.\n"
          ]
        }
      ]
    },
    {
      "cell_type": "code",
      "source": [
        "# - **선언**: **`def`**\n",
        "\n",
        "#     함수는 **`def`** 키워드를 사용하여 선언됩니다.\n",
        "\n",
        "# - **이름**: **`function_name`**\n",
        "\n",
        "#     함수의 이름은 함수를 식별하는 데 사용되며, 일반 변수의 이름을 지정하는 규칙에 따릅니다. 이 이름을 사용하여 함수를 나중에 호출할 수 있습니다.\n",
        "\n",
        "# - **입력**:  **`x, y`**는 **`function_name`**에서 사용할 변수, 매개변수(파라미터, parameter)\n",
        "\n",
        "#     함수는 파라미터(parameter, 매개변수, 인자)를 통해 외부에서 들어온 아규먼트(argument, 인수)를 입력 받습니다.\n",
        "#     이 파라미터는 함수 호출 시에 함께 전달한 10, 9를 각각 x, y로 받아들입니다. 모든 함수가 파라미터를 필요로 하는 것은 아닙니다.\n",
        "#     파라미터가 없는 함수도 있으며, 이러한 함수는 괄호 안에 어떤 값도 받지 않습니다.\n",
        "\n",
        "#     이 책에서는 매개변수와 인수라는 용어 대신 파라미터와 아규먼트로 원문 그대로 읽도록 하겠습니다.\n",
        "\n",
        "# - **기능과 연산**: **`z = x + y`**는 **`function`**의 내부에서 수행되는 연산\n",
        "\n",
        "#     함수 본문에서는 다양한 연산과 처리 과정을 수행할 수 있습니다. 이 부분에서 변수에 값을 할당하거나, 데이터 구조를 조작하는 등의 작업을 수행합니다.\n",
        "\n",
        "#     함수의 범위는 4칸 들여쓰기 된 곳까지 입니다. 만약 4칸 들여쓰기가 되어있지 않다면 해당 코드는 함수 바깥에 있는 코드입니다.\n",
        "#     반드시 한 줄은 명시를 해야 합니다.\n",
        "#     아무 코드를 넣지 않은 경우에는 `pass` 키워드를 넣어 애러가 나지 않게 합니다.\n",
        "#     보통 함수의 골격을 잡을 때 `pass` 키워드를 사용합니다."
      ],
      "metadata": {
        "id": "jTBEgOrd2rRZ"
      },
      "execution_count": null,
      "outputs": []
    },
    {
      "cell_type": "code",
      "source": [
        "def function_name(num1, num2):\n",
        "    z = num1+ num2\n",
        "    return z\n",
        "print(f'function_name(10, 9) = {function_name(10, 9)}')"
      ],
      "metadata": {
        "colab": {
          "base_uri": "https://localhost:8080/"
        },
        "id": "VjmlDcgE2XH4",
        "outputId": "be602fe6-b831-413b-8e72-344d0f26a0d6"
      },
      "execution_count": null,
      "outputs": [
        {
          "output_type": "stream",
          "name": "stdout",
          "text": [
            "function_name(10, 9) = 19\n"
          ]
        }
      ]
    },
    {
      "cell_type": "code",
      "source": [
        "# 리턴이 없을때\n",
        "\n",
        "def function(x, y):\n",
        "    z = x * y\n",
        "\n",
        "\n",
        "\n",
        "\n",
        "print(f\"{function(1,2) = }\") # none이 출력 됌"
      ],
      "metadata": {
        "colab": {
          "base_uri": "https://localhost:8080/"
        },
        "id": "S-03WOWH7PRP",
        "outputId": "22d0fe9e-2b74-491c-8b30-c0c427abc7b0"
      },
      "execution_count": null,
      "outputs": [
        {
          "output_type": "stream",
          "name": "stdout",
          "text": [
            "function(1,2) = None\n"
          ]
        }
      ]
    },
    {
      "cell_type": "code",
      "source": [
        "def function(x, y):\n",
        "    z = x * y\n",
        "    return z  # 리턴이 중요하다!, 리턴이 없으면 반환값이 없다?\n",
        "\n",
        "\n",
        "\n",
        "print(f\"{function(1,2) = }\")"
      ],
      "metadata": {
        "colab": {
          "base_uri": "https://localhost:8080/"
        },
        "id": "fBAJ5Q5-3gwY",
        "outputId": "952a978f-fce9-492d-a886-d161058aaf8b"
      },
      "execution_count": null,
      "outputs": [
        {
          "output_type": "stream",
          "name": "stdout",
          "text": [
            "function(1,2) = 2\n"
          ]
        }
      ]
    },
    {
      "cell_type": "code",
      "source": [
        "def function(x, y):\n",
        "    z = x * y\n",
        "    return z  # 리턴이 중요하다!, 리턴이 없으면 반환값이 없다?\n",
        "\n",
        "\n",
        "\n",
        "print(f\"{function(1,2) = }\") # 아규먼트(1, 2) 를 함수의 파라미터로 전달"
      ],
      "metadata": {
        "id": "fN1e9KkV8KG3"
      },
      "execution_count": null,
      "outputs": []
    },
    {
      "cell_type": "code",
      "source": [
        "def test_bot():\n",
        "\n",
        "    pass # 임시로 값을 넣어두는 기능 !\n",
        "\n",
        "\n",
        "test_bot()"
      ],
      "metadata": {
        "id": "izWjJMDf41Eo"
      },
      "execution_count": null,
      "outputs": []
    },
    {
      "cell_type": "code",
      "source": [
        "# 2.1 입력 매개변수가 없고 반환값도 없는 함수\n",
        "\n",
        "def simple_function():\n",
        "    print(\"hello world\")\n",
        "\n",
        "\n",
        "\n",
        "# 함수 호출\n",
        "\n",
        "print(simple_function()) # 함수는 return 값을 찾겠구나!, none.."
      ],
      "metadata": {
        "colab": {
          "base_uri": "https://localhost:8080/"
        },
        "id": "vqvNQDNN8tWO",
        "outputId": "0d4c4189-82a1-41e7-d2c2-42e15993c08b"
      },
      "execution_count": null,
      "outputs": [
        {
          "output_type": "stream",
          "name": "stdout",
          "text": [
            "hello world\n",
            "None\n"
          ]
        }
      ]
    },
    {
      "cell_type": "code",
      "source": [
        "# 2, 2 파라미터가 없고 반환값은 있는 함수\n",
        "\n",
        "def give_me_five():\n",
        "    return 5\n",
        "\n",
        "\n",
        "result = give_me_five()\n",
        "\n",
        "print(result)"
      ],
      "metadata": {
        "colab": {
          "base_uri": "https://localhost:8080/"
        },
        "id": "DB71FEh89uR-",
        "outputId": "58af037b-04d6-4a11-bbd6-3ac1d175566d"
      },
      "execution_count": null,
      "outputs": [
        {
          "output_type": "stream",
          "name": "stdout",
          "text": [
            "5\n"
          ]
        }
      ]
    },
    {
      "cell_type": "code",
      "source": [
        "# 2. 입력 매개변수가 있고, 반환 값이 없는 함수\n",
        "\n",
        "def greeting(name):\n",
        "    print(f'hello,{name}')\n",
        "\n",
        "\n",
        "greeting('licat')\n"
      ],
      "metadata": {
        "id": "TKl9jWBaCNzU"
      },
      "execution_count": null,
      "outputs": []
    },
    {
      "cell_type": "code",
      "source": [
        "# 2. 4 입력 매개변수가 있고, 반환 값이 있는 함수\n",
        "\n",
        "\n",
        "def add_numbers(x, y):\n",
        "    sum = x + y\n",
        "    return sum\n",
        "\n",
        "\n",
        "\n",
        "result = add_numbers(5, 3)\n",
        "\n",
        "print(result)\n",
        "\n",
        "\n"
      ],
      "metadata": {
        "colab": {
          "base_uri": "https://localhost:8080/"
        },
        "id": "oEPRsdXIE6UU",
        "outputId": "80a68164-a050-4978-bcf3-840a4312a14c"
      },
      "execution_count": null,
      "outputs": [
        {
          "output_type": "stream",
          "name": "stdout",
          "text": [
            "8\n"
          ]
        }
      ]
    },
    {
      "cell_type": "code",
      "source": [
        "## 3.1 print와 return의 구분\n",
        "\n",
        "# `print`는 함수\n",
        "# 아래 예제에서 `function(5, 7)`을 호출한 값을 출력해 보았더니\n",
        "#`None`이 출력 함수의 return 값이 없기 때문입니다."
      ],
      "metadata": {
        "id": "IS1YOz7pF8ED"
      },
      "execution_count": null,
      "outputs": []
    },
    {
      "cell_type": "code",
      "source": [
        "def f(a, b, c):\n",
        "    print(a, b, c)\n",
        "\n",
        "\n",
        "\n",
        "f(100, 200, 300)\n",
        "f(a=100, b=200, c=300)\n",
        "f(a=300, b=100, c=200)\n",
        "f(c=20,a=30, b=50)"
      ],
      "metadata": {
        "colab": {
          "base_uri": "https://localhost:8080/"
        },
        "id": "vKuIVsEVGGsz",
        "outputId": "55cf7591-9f61-4cfc-bc79-63bf7f7f8bcc"
      },
      "execution_count": null,
      "outputs": [
        {
          "output_type": "stream",
          "name": "stdout",
          "text": [
            "100 200 300\n",
            "100 200 300\n",
            "300 100 200\n",
            "30 50 20\n"
          ]
        }
      ]
    },
    {
      "cell_type": "code",
      "source": [
        "# 1.3.2 기본 값을 가지는 파라미터\n",
        "\n",
        "def f(a=10, b=20, c=30):\n",
        "    print(a, b, c)\n",
        "\n",
        "\n",
        "\n",
        "f()\n",
        "f(100) # 넣어주는 부분만 바뀌네, 아규먼트와 파라미터 숫자를 맞춰주지 않아도 기본값이 있으면 실행이 되네\n",
        "f(a=100, b=200, c=300)\n",
        "f(c=300, a=100, b=200)"
      ],
      "metadata": {
        "colab": {
          "base_uri": "https://localhost:8080/"
        },
        "id": "EtqSp1-CIibb",
        "outputId": "9ec7c488-7771-4fc1-8cc9-3f788ceb2b70"
      },
      "execution_count": null,
      "outputs": [
        {
          "output_type": "stream",
          "name": "stdout",
          "text": [
            "10 20 30\n",
            "100 20 30\n",
            "100 200 300\n",
            "100 200 300\n"
          ]
        }
      ]
    },
    {
      "cell_type": "code",
      "source": [
        "\n",
        "#파이썬에서는 기본값이 있는 매개변수들은 기본값이 없는 매개변수 뒤에 위치해야 함.\n",
        "\n",
        "# 잘못된 예\n",
        "\n",
        "def f(a=10, b=20, c):\n",
        "    print(a, b, c) # error\n",
        "\n",
        "# 올바른 예\n",
        "\n",
        "def f(a10, b=20, c=10):\n",
        "    print(a, b, c)\n",
        "\n",
        "\n"
      ],
      "metadata": {
        "id": "SZIk0_-DJddy"
      },
      "execution_count": null,
      "outputs": []
    },
    {
      "cell_type": "code",
      "source": [
        "# 컨밴션 자료형을 아규먼트로 넣었을 때\n",
        "\n",
        "def add_element(my_list):\n",
        "    my_list.append(1)\n",
        "\n",
        "a = [2, 3 ,4]\n",
        "add_element(a)\n",
        "\n",
        "print(a)"
      ],
      "metadata": {
        "colab": {
          "base_uri": "https://localhost:8080/"
        },
        "id": "P-srwdewKwlx",
        "outputId": "12bbdd2b-b017-432c-b6d5-19e37d35a2eb"
      },
      "execution_count": null,
      "outputs": [
        {
          "output_type": "stream",
          "name": "stdout",
          "text": [
            "[2, 3, 4, 1]\n"
          ]
        }
      ]
    }
  ]
}