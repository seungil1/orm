{
  "nbformat": 4,
  "nbformat_minor": 0,
  "metadata": {
    "colab": {
      "provenance": []
    },
    "kernelspec": {
      "name": "python3",
      "display_name": "Python 3"
    },
    "language_info": {
      "name": "python"
    }
  },
  "cells": [
    {
      "cell_type": "markdown",
      "source": [
        "# 함수와 인사하기"
      ],
      "metadata": {
        "id": "idvjsy0Aqwcd"
      }
    },
    {
      "cell_type": "code",
      "execution_count": null,
      "metadata": {
        "colab": {
          "base_uri": "https://localhost:8080/",
          "height": 35
        },
        "id": "DJ2gtQKUXUn1",
        "outputId": "1ec0df0d-b041-4fbc-ff75-9db411052c93"
      },
      "outputs": [
        {
          "output_type": "execute_result",
          "data": {
            "text/plain": [
              "'where are you from?'"
            ],
            "application/vnd.google.colaboratory.intrinsic+json": {
              "type": "string"
            }
          },
          "metadata": {},
          "execution_count": 16
        }
      ],
      "source": [
        "# 1. 함수 만들어보기\n",
        "\n",
        "def seungil():"
      ]
    },
    {
      "cell_type": "code",
      "source": [
        "#2. 들여쓰기\n",
        "def my_function():\n",
        "    print(\"1\")\n",
        "    print(\"2\")\n",
        "print(\"3\")\n",
        "\n",
        "\n",
        "my_function()"
      ],
      "metadata": {
        "colab": {
          "base_uri": "https://localhost:8080/"
        },
        "id": "NyYSZ-xOqdF9",
        "outputId": "638b2d7a-8b8d-47b9-c430-c02722223734"
      },
      "execution_count": null,
      "outputs": [
        {
          "output_type": "stream",
          "name": "stdout",
          "text": [
            "3\n",
            "1\n",
            "2\n"
          ]
        }
      ]
    },
    {
      "cell_type": "code",
      "source": [
        "import random\n",
        "\n",
        "x = random.randint(0,4)\n",
        "def hungry():\n",
        "    if x == 1:\n",
        "        return \"부대찌개\"\n",
        "\n",
        "    elif x == 0:\n",
        "        return \"컵라면\"\n",
        "\n",
        "    elif x == 2:\n",
        "        return \"국밥\"\n",
        "    elif x == 3:\n",
        "        return \"삼각김밥\"\n",
        "\n",
        "\n",
        "    else:\n",
        "        return \"내가 먹고 싶은거로\"\n",
        "\n",
        "\n",
        "lunch = hungry()\n",
        "print(f\"오늘 점심 메뉴는 {lunch} 입니다.\")"
      ],
      "metadata": {
        "colab": {
          "base_uri": "https://localhost:8080/"
        },
        "id": "-LNGAb9r1WDZ",
        "outputId": "9c8a89c7-a033-439a-92d2-d1dfcd29c6b3"
      },
      "execution_count": null,
      "outputs": [
        {
          "output_type": "stream",
          "name": "stdout",
          "text": [
            "오늘 점심 메뉴는 내가 먹고 싶은거로 입니다.\n"
          ]
        }
      ]
    },
    {
      "cell_type": "code",
      "source": [
        "# - **선언**: **`def`**\n",
        "\n",
        "#     함수는 **`def`** 키워드를 사용하여 선언됩니다.\n",
        "\n",
        "# - **이름**: **`function_name`**\n",
        "\n",
        "#     함수의 이름은 함수를 식별하는 데 사용되며, 일반 변수의 이름을 지정하는 규칙에 따릅니다. 이 이름을 사용하여 함수를 나중에 호출할 수 있습니다.\n",
        "\n",
        "# - **입력**:  **`x, y`**는 **`function_name`**에서 사용할 변수, 매개변수(파라미터, parameter)\n",
        "\n",
        "#     함수는 파라미터(parameter, 매개변수, 인자)를 통해 외부에서 들어온 아규먼트(argument, 인수)를 입력 받습니다.\n",
        "#     이 파라미터는 함수 호출 시에 함께 전달한 10, 9를 각각 x, y로 받아들입니다. 모든 함수가 파라미터를 필요로 하는 것은 아닙니다.\n",
        "#     파라미터가 없는 함수도 있으며, 이러한 함수는 괄호 안에 어떤 값도 받지 않습니다.\n",
        "\n",
        "#     이 책에서는 매개변수와 인수라는 용어 대신 파라미터와 아규먼트로 원문 그대로 읽도록 하겠습니다.\n",
        "\n",
        "# - **기능과 연산**: **`z = x + y`**는 **`function`**의 내부에서 수행되는 연산\n",
        "\n",
        "#     함수 본문에서는 다양한 연산과 처리 과정을 수행할 수 있습니다. 이 부분에서 변수에 값을 할당하거나, 데이터 구조를 조작하는 등의 작업을 수행합니다.\n",
        "\n",
        "#     함수의 범위는 4칸 들여쓰기 된 곳까지 입니다. 만약 4칸 들여쓰기가 되어있지 않다면 해당 코드는 함수 바깥에 있는 코드입니다.\n",
        "#     반드시 한 줄은 명시를 해야 합니다.\n",
        "#     아무 코드를 넣지 않은 경우에는 `pass` 키워드를 넣어 애러가 나지 않게 합니다.\n",
        "#     보통 함수의 골격을 잡을 때 `pass` 키워드를 사용합니다."
      ],
      "metadata": {
        "id": "jTBEgOrd2rRZ"
      },
      "execution_count": null,
      "outputs": []
    },
    {
      "cell_type": "code",
      "source": [
        "def function_name(num1, num2):\n",
        "    z = num1+ num2\n",
        "    return z\n",
        "print(f'function_name(10, 9) = {function_name(10, 9)}')"
      ],
      "metadata": {
        "colab": {
          "base_uri": "https://localhost:8080/"
        },
        "id": "VjmlDcgE2XH4",
        "outputId": "be602fe6-b831-413b-8e72-344d0f26a0d6"
      },
      "execution_count": null,
      "outputs": [
        {
          "output_type": "stream",
          "name": "stdout",
          "text": [
            "function_name(10, 9) = 19\n"
          ]
        }
      ]
    },
    {
      "cell_type": "code",
      "source": [
        "# 리턴이 없을때\n",
        "\n",
        "def function(x, y):\n",
        "    z = x * y\n",
        "\n",
        "\n",
        "\n",
        "\n",
        "print(f\"{function(1,2) = }\") # none이 출력 됌"
      ],
      "metadata": {
        "colab": {
          "base_uri": "https://localhost:8080/"
        },
        "id": "S-03WOWH7PRP",
        "outputId": "22d0fe9e-2b74-491c-8b30-c0c427abc7b0"
      },
      "execution_count": null,
      "outputs": [
        {
          "output_type": "stream",
          "name": "stdout",
          "text": [
            "function(1,2) = None\n"
          ]
        }
      ]
    },
    {
      "cell_type": "code",
      "source": [
        "def function(x, y):\n",
        "    z = x * y\n",
        "    return z  # 리턴이 중요하다!, 리턴이 없으면 반환값이 없다?\n",
        "\n",
        "\n",
        "\n",
        "print(f\"{function(1,2) = }\")"
      ],
      "metadata": {
        "colab": {
          "base_uri": "https://localhost:8080/"
        },
        "id": "fBAJ5Q5-3gwY",
        "outputId": "952a978f-fce9-492d-a886-d161058aaf8b"
      },
      "execution_count": null,
      "outputs": [
        {
          "output_type": "stream",
          "name": "stdout",
          "text": [
            "function(1,2) = 2\n"
          ]
        }
      ]
    },
    {
      "cell_type": "code",
      "source": [
        "def function(x, y):\n",
        "    z = x * y\n",
        "    return z  # 리턴이 중요하다!, 리턴이 없으면 반환값이 없다?\n",
        "\n",
        "\n",
        "\n",
        "print(f\"{function(1,2) = }\") # 아규먼트(1, 2) 를 함수의 파라미터로 전달"
      ],
      "metadata": {
        "id": "fN1e9KkV8KG3"
      },
      "execution_count": null,
      "outputs": []
    },
    {
      "cell_type": "code",
      "source": [
        "def test_bot():\n",
        "\n",
        "    pass # 임시로 값을 넣어두는 기능 !\n",
        "\n",
        "\n",
        "test_bot()"
      ],
      "metadata": {
        "id": "izWjJMDf41Eo"
      },
      "execution_count": null,
      "outputs": []
    },
    {
      "cell_type": "code",
      "source": [
        "# 2.1 입력 매개변수가 없고 반환값도 없는 함수\n",
        "\n",
        "def simple_function():\n",
        "    print(\"hello world\")\n",
        "\n",
        "\n",
        "\n",
        "# 함수 호출\n",
        "\n",
        "print(simple_function()) # 함수는 return 값을 찾겠구나!, none.."
      ],
      "metadata": {
        "colab": {
          "base_uri": "https://localhost:8080/"
        },
        "id": "vqvNQDNN8tWO",
        "outputId": "0d4c4189-82a1-41e7-d2c2-42e15993c08b"
      },
      "execution_count": null,
      "outputs": [
        {
          "output_type": "stream",
          "name": "stdout",
          "text": [
            "hello world\n",
            "None\n"
          ]
        }
      ]
    },
    {
      "cell_type": "code",
      "source": [
        "# 2, 2 파라미터가 없고 반환값은 있는 함수\n",
        "\n",
        "def give_me_five():\n",
        "    return 5\n",
        "\n",
        "\n",
        "result = give_me_five()\n",
        "\n",
        "print(result)"
      ],
      "metadata": {
        "colab": {
          "base_uri": "https://localhost:8080/"
        },
        "id": "DB71FEh89uR-",
        "outputId": "58af037b-04d6-4a11-bbd6-3ac1d175566d"
      },
      "execution_count": null,
      "outputs": [
        {
          "output_type": "stream",
          "name": "stdout",
          "text": [
            "5\n"
          ]
        }
      ]
    },
    {
      "cell_type": "code",
      "source": [
        "# 2. 입력 매개변수가 있고, 반환 값이 없는 함수\n",
        "\n",
        "def greeting(name):\n",
        "    print(f'hello,{name}')\n",
        "\n",
        "\n",
        "greeting('licat')\n"
      ],
      "metadata": {
        "id": "TKl9jWBaCNzU"
      },
      "execution_count": null,
      "outputs": []
    },
    {
      "cell_type": "code",
      "source": [
        "# 2. 4 입력 매개변수가 있고, 반환 값이 있는 함수\n",
        "\n",
        "\n",
        "def add_numbers(x, y):\n",
        "    sum = x + y\n",
        "    return sum\n",
        "\n",
        "\n",
        "\n",
        "result = add_numbers(5, 3)\n",
        "\n",
        "print(result)\n",
        "\n",
        "\n"
      ],
      "metadata": {
        "colab": {
          "base_uri": "https://localhost:8080/"
        },
        "id": "oEPRsdXIE6UU",
        "outputId": "80a68164-a050-4978-bcf3-840a4312a14c"
      },
      "execution_count": null,
      "outputs": [
        {
          "output_type": "stream",
          "name": "stdout",
          "text": [
            "8\n"
          ]
        }
      ]
    },
    {
      "cell_type": "code",
      "source": [
        "## 3.1 print와 return의 구분\n",
        "\n",
        "# `print`는 함수\n",
        "# 아래 예제에서 `function(5, 7)`을 호출한 값을 출력해 보았더니\n",
        "#`None`이 출력 함수의 return 값이 없기 때문입니다."
      ],
      "metadata": {
        "id": "IS1YOz7pF8ED"
      },
      "execution_count": null,
      "outputs": []
    },
    {
      "cell_type": "code",
      "source": [
        "def f(a, b, c):\n",
        "    print(a, b, c)\n",
        "\n",
        "\n",
        "\n",
        "f(100, 200, 300)\n",
        "f(a=100, b=200, c=300)\n",
        "f(a=300, b=100, c=200)\n",
        "f(c=20,a=30, b=50)"
      ],
      "metadata": {
        "colab": {
          "base_uri": "https://localhost:8080/"
        },
        "id": "vKuIVsEVGGsz",
        "outputId": "55cf7591-9f61-4cfc-bc79-63bf7f7f8bcc"
      },
      "execution_count": null,
      "outputs": [
        {
          "output_type": "stream",
          "name": "stdout",
          "text": [
            "100 200 300\n",
            "100 200 300\n",
            "300 100 200\n",
            "30 50 20\n"
          ]
        }
      ]
    },
    {
      "cell_type": "code",
      "source": [
        "# 1.3.2 기본 값을 가지는 파라미터\n",
        "\n",
        "def f(a=10, b=20, c=30):\n",
        "    print(a, b, c)\n",
        "\n",
        "\n",
        "\n",
        "f()\n",
        "f(100) # 넣어주는 부분만 바뀌네, 아규먼트와 파라미터 숫자를 맞춰주지 않아도 기본값이 있으면 실행이 되네\n",
        "f(a=100, b=200, c=300)\n",
        "f(c=300, a=100, b=200)"
      ],
      "metadata": {
        "colab": {
          "base_uri": "https://localhost:8080/"
        },
        "id": "EtqSp1-CIibb",
        "outputId": "9ec7c488-7771-4fc1-8cc9-3f788ceb2b70"
      },
      "execution_count": null,
      "outputs": [
        {
          "output_type": "stream",
          "name": "stdout",
          "text": [
            "10 20 30\n",
            "100 20 30\n",
            "100 200 300\n",
            "100 200 300\n"
          ]
        }
      ]
    },
    {
      "cell_type": "code",
      "source": [
        "\n",
        "#파이썬에서는 기본값이 있는 매개변수들은 기본값이 없는 매개변수 뒤에 위치해야 함.\n",
        "\n",
        "# 잘못된 예\n",
        "\n",
        "def f(a=10, b=20, c):\n",
        "    print(a, b, c) # error\n",
        "\n",
        "# 올바른 예\n",
        "\n",
        "def f(a10, b=20, c=10):\n",
        "    print(a, b, c)\n",
        "\n",
        "\n"
      ],
      "metadata": {
        "id": "SZIk0_-DJddy"
      },
      "execution_count": null,
      "outputs": []
    },
    {
      "cell_type": "code",
      "source": [
        "# 컨밴션 자료형을 아규먼트로 넣었을 때\n",
        "\n",
        "def add_element(my_list):\n",
        "    my_list.append(1)\n",
        "\n",
        "a = [2, 3 ,4]\n",
        "add_element(a)\n",
        "\n",
        "print(a)"
      ],
      "metadata": {
        "colab": {
          "base_uri": "https://localhost:8080/"
        },
        "id": "P-srwdewKwlx",
        "outputId": "12bbdd2b-b017-432c-b6d5-19e37d35a2eb"
      },
      "execution_count": null,
      "outputs": [
        {
          "output_type": "stream",
          "name": "stdout",
          "text": [
            "[2, 3, 4, 1]\n"
          ]
        }
      ]
    },
    {
      "cell_type": "code",
      "source": [
        "#1.4.2 권장되지 않는 기본값\n",
        "\n",
        "# 권장하지않는 방법\n",
        "\n",
        "def append_to_list(value, lst=[]):\n",
        "    lst.append(value)\n",
        "    return lst\n",
        "\n",
        "\n",
        "append_to_list(1)\n",
        "append_to_list(2)\n",
        "append_to_list(3)\n",
        "\n"
      ],
      "metadata": {
        "colab": {
          "base_uri": "https://localhost:8080/"
        },
        "id": "7GgzeUjzfJio",
        "outputId": "0c47bba1-785a-4805-a3da-410e03d10cc7"
      },
      "execution_count": 13,
      "outputs": [
        {
          "output_type": "execute_result",
          "data": {
            "text/plain": [
              "[1, 2, 3]"
            ]
          },
          "metadata": {},
          "execution_count": 13
        }
      ]
    },
    {
      "cell_type": "code",
      "source": [
        "append_to_list(4)# 업데이트한 값으로 출력이 나옴"
      ],
      "metadata": {
        "colab": {
          "base_uri": "https://localhost:8080/"
        },
        "id": "Z7hwshu5fvsv",
        "outputId": "afcb9c17-999a-447f-b2ba-6971f1f43627"
      },
      "execution_count": 14,
      "outputs": [
        {
          "output_type": "execute_result",
          "data": {
            "text/plain": [
              "[1, 2, 3, 4]"
            ]
          },
          "metadata": {},
          "execution_count": 14
        }
      ]
    },
    {
      "cell_type": "code",
      "source": [
        "# 권장 방법\n",
        "def append_to_list(value, lst=None):\n",
        "    if lst is None: # 아규먼트에 리스트가 비어있으면 새로운 리스트를 생성\n",
        "        lst = []\n",
        "    lst.append(value)\n",
        "    return lst\n",
        "\n",
        "\n",
        "append_to_list(1)\n",
        "append_to_list(2)"
      ],
      "metadata": {
        "colab": {
          "base_uri": "https://localhost:8080/"
        },
        "id": "F8vW1gH8gLYo",
        "outputId": "1fcb3088-abc8-4f44-e2c7-05bc8edfcc99"
      },
      "execution_count": 17,
      "outputs": [
        {
          "output_type": "execute_result",
          "data": {
            "text/plain": [
              "[2]"
            ]
          },
          "metadata": {},
          "execution_count": 17
        }
      ]
    },
    {
      "cell_type": "code",
      "source": [
        "# 지역 변수 사용 예시\n",
        "\n",
        "def f():\n",
        "    # 강원도 지역화폐는 => 경기도에서 사용불가\n",
        "    a = 1\n",
        "    print(a)\n",
        "\n",
        "f()\n",
        "print(a) # error : a 는 f 함수 내부에서만 정의되었습니다.\n",
        "\n",
        "\n",
        "# 지역 변수는 함수내부에만 정의되어 있다 이를 통해\n",
        "#다른 함수나 프로그램 전체에 영향을 주지않고\n",
        "#함수 내부에서만 데이터를 관리"
      ],
      "metadata": {
        "id": "wfCZs5-NhMQv"
      },
      "execution_count": null,
      "outputs": []
    },
    {
      "cell_type": "code",
      "source": [
        "def f():\n",
        "    # 강원도 지역화폐는 => 경기도에서 사용불가\n",
        "    a = 1 # 지역변수 함수 내에서만 사용가능\n",
        "\n",
        "    b = 100\n",
        "    c = 1000\n",
        "    def ff():\n",
        "        pass\n",
        "    print(locals()) # 출력 : {'a': 1} 지역변수가 어떤게 있는지 확인\n",
        "\n",
        "f()\n",
        "\n",
        "\n"
      ],
      "metadata": {
        "colab": {
          "base_uri": "https://localhost:8080/"
        },
        "id": "caKLilCaiabf",
        "outputId": "4658b1ac-cad7-4f2d-ca30-477fdc34ce24"
      },
      "execution_count": 34,
      "outputs": [
        {
          "output_type": "stream",
          "name": "stdout",
          "text": [
            "{'a': 1, 'b': 100, 'c': 1000, 'ff': <function f.<locals>.ff at 0x7c1ee86ac3a0>}\n"
          ]
        }
      ]
    },
    {
      "cell_type": "code",
      "source": [
        "# global 함수 전역변수 지정\n",
        "a = 100\n",
        "def f():\n",
        "    global a # 이 구문으로 a를 바깥에서도 사용\n",
        "    a = a + 1\n",
        "    return a\n",
        "\n",
        "\n",
        "\n",
        "print(f())\n",
        "\n",
        "print(a)"
      ],
      "metadata": {
        "colab": {
          "base_uri": "https://localhost:8080/"
        },
        "id": "3IFJ3m2xkgte",
        "outputId": "c452d733-0d6e-4740-d2d4-a85b5c1f6dfb"
      },
      "execution_count": 48,
      "outputs": [
        {
          "output_type": "stream",
          "name": "stdout",
          "text": [
            "101\n",
            "101\n"
          ]
        }
      ]
    },
    {
      "cell_type": "code",
      "source": [
        "# global 사용안하면 오류\n",
        "a = 100\n",
        "def f():\n",
        "\n",
        "    a = a + 1\n",
        "\n",
        "\n",
        "\n",
        "print(f())\n",
        "\n",
        "print(a)"
      ],
      "metadata": {
        "id": "mrHRQrxQlDc_"
      },
      "execution_count": null,
      "outputs": []
    },
    {
      "cell_type": "code",
      "source": [
        "a = 100\n",
        "\n",
        "def f():\n",
        "    a = 1000\n",
        "    print(a)\n",
        "\n",
        "\n",
        "f()"
      ],
      "metadata": {
        "colab": {
          "base_uri": "https://localhost:8080/"
        },
        "id": "zBsoII6OmCKN",
        "outputId": "f770b7e3-746c-4b8c-a8f9-93e4bb7523ce"
      },
      "execution_count": 52,
      "outputs": [
        {
          "output_type": "stream",
          "name": "stdout",
          "text": [
            "1000\n"
          ]
        }
      ]
    },
    {
      "cell_type": "code",
      "source": [
        "\n",
        "\n",
        "def f():\n",
        "    a = 100\n",
        "    a = a + 1\n",
        "    return a\n",
        "\n",
        "\n",
        "\n",
        "print(f())"
      ],
      "metadata": {
        "colab": {
          "base_uri": "https://localhost:8080/"
        },
        "id": "Zia2jHQkmdwP",
        "outputId": "2b3a4068-f8d0-47c6-bb51-f4a7d9d2305a"
      },
      "execution_count": 59,
      "outputs": [
        {
          "output_type": "stream",
          "name": "stdout",
          "text": [
            "101\n"
          ]
        }
      ]
    },
    {
      "cell_type": "markdown",
      "source": [
        "# Built in function"
      ],
      "metadata": {
        "id": "4JCmIFO1rF28"
      }
    },
    {
      "cell_type": "markdown",
      "source": [
        "all() 함수는 iterable(반복 가능한) 객체(예: 리스트, 튜플, 문자열 등)를 인수로 받아,\n",
        "그 안에 있는 모든 요소가 True로 평가되면 True를 반환하고,\n",
        " 그렇지 않으면 False를 반환합니다."
      ],
      "metadata": {
        "id": "O7Rs5ljKsMey"
      }
    },
    {
      "cell_type": "code",
      "source": [
        "# 모두 다 True여야 True 반환\n",
        "all([True, True, True]) # 출력: Ture\n",
        "all([True, True, False]) # 출력: False\n",
        "all([1, 1, 1, 0]) # 출력: False\n",
        "all([1, 0, 1, 1]) # 출력: False\n",
        "all([1, 100, 10, -1]) # 출력: True"
      ],
      "metadata": {
        "colab": {
          "base_uri": "https://localhost:8080/"
        },
        "id": "5-609-K4rLA7",
        "outputId": "2f328a9d-4583-483b-981f-31b044478d9d"
      },
      "execution_count": 61,
      "outputs": [
        {
          "output_type": "execute_result",
          "data": {
            "text/plain": [
              "True"
            ]
          },
          "metadata": {},
          "execution_count": 61
        }
      ]
    },
    {
      "cell_type": "code",
      "source": [
        "# 2.3 Map 함수"
      ],
      "metadata": {
        "id": "b-HnWSlSsVfz"
      },
      "execution_count": null,
      "outputs": []
    },
    {
      "cell_type": "code",
      "source": [
        "# 첫번째 방법\n",
        "\n",
        "l = [1,2,3,4]\n",
        "\n",
        "\n",
        "def 제곱(x):\n",
        "    result = x **2\n",
        "    return result\n",
        "list(map(제곱, l)) # 출력: [1, 4, 9, 16]"
      ],
      "metadata": {
        "colab": {
          "base_uri": "https://localhost:8080/"
        },
        "id": "wisI04GfspqL",
        "outputId": "5e42c1b9-e24a-48d4-ff05-5dcb987a6d30"
      },
      "execution_count": 65,
      "outputs": [
        {
          "output_type": "execute_result",
          "data": {
            "text/plain": [
              "[1, 4, 9, 16]"
            ]
          },
          "metadata": {},
          "execution_count": 65
        }
      ]
    },
    {
      "cell_type": "code",
      "source": [
        "# 두번째 방법\n",
        "list(map(lambda x : x ** 2, [1, 2, 3, 4])) # 출력: [1, 4, 9, 16]"
      ],
      "metadata": {
        "colab": {
          "base_uri": "https://localhost:8080/"
        },
        "id": "xQ4MNNOhszCj",
        "outputId": "421c1d1b-60f1-4875-a0a6-445edc377b60"
      },
      "execution_count": 63,
      "outputs": [
        {
          "output_type": "execute_result",
          "data": {
            "text/plain": [
              "[1, 4, 9, 16]"
            ]
          },
          "metadata": {},
          "execution_count": 63
        }
      ]
    },
    {
      "cell_type": "code",
      "source": [
        "# filter 함수\n",
        "# filter() 함수는 순회할 수 있는 객체의 요소 중\n",
        "#  특정 조건을 만족하는 요소만을 선택하여 반환합니다\n",
        "\n",
        "sum(list(filter(lambda x : x > 50, range(1,101))))\n"
      ],
      "metadata": {
        "colab": {
          "base_uri": "https://localhost:8080/"
        },
        "id": "bkAI4Nj2tjFj",
        "outputId": "6c49f08f-a18e-498a-cfb8-8375212eb100"
      },
      "execution_count": 68,
      "outputs": [
        {
          "output_type": "execute_result",
          "data": {
            "text/plain": [
              "3775"
            ]
          },
          "metadata": {},
          "execution_count": 68
        }
      ]
    },
    {
      "cell_type": "code",
      "source": [
        "#zip 함수\n",
        "\n",
        "list(zip('ab','12'))"
      ],
      "metadata": {
        "colab": {
          "base_uri": "https://localhost:8080/"
        },
        "id": "KdEY8ZeJt6Aq",
        "outputId": "5dc2036d-b460-470b-adb5-c3208bcc1896"
      },
      "execution_count": 70,
      "outputs": [
        {
          "output_type": "execute_result",
          "data": {
            "text/plain": [
              "[('a', '1'), ('b', '2')]"
            ]
          },
          "metadata": {},
          "execution_count": 70
        }
      ]
    },
    {
      "cell_type": "code",
      "source": [
        "list(zip('ab','12',[10,20]))"
      ],
      "metadata": {
        "colab": {
          "base_uri": "https://localhost:8080/"
        },
        "id": "0LwZztt8uZbC",
        "outputId": "e8ef6f2c-6a22-4d59-9507-45862ffea987"
      },
      "execution_count": 71,
      "outputs": [
        {
          "output_type": "execute_result",
          "data": {
            "text/plain": [
              "[('a', '1', 10), ('b', '2', 20)]"
            ]
          },
          "metadata": {},
          "execution_count": 71
        }
      ]
    },
    {
      "cell_type": "code",
      "source": [
        "list(zip('abc', '1234567', [10, 20, 30]))"
      ],
      "metadata": {
        "colab": {
          "base_uri": "https://localhost:8080/"
        },
        "id": "xTNVxjWfugbN",
        "outputId": "529694bd-ba18-4b97-c687-8b520ff6bb5f"
      },
      "execution_count": 72,
      "outputs": [
        {
          "output_type": "execute_result",
          "data": {
            "text/plain": [
              "[('a', '1', 10), ('b', '2', 20), ('c', '3', 30)]"
            ]
          },
          "metadata": {},
          "execution_count": 72
        }
      ]
    },
    {
      "cell_type": "code",
      "source": [
        "# 2.10.3\n",
        "l = [1, 2, 3 ,4]\n",
        "\n",
        "for idx, i in enumerate(l):\n",
        "    print(idx,i)"
      ],
      "metadata": {
        "colab": {
          "base_uri": "https://localhost:8080/"
        },
        "id": "Haudx6qowLxJ",
        "outputId": "3791ae24-78b2-45a5-d818-9756da92658b"
      },
      "execution_count": 75,
      "outputs": [
        {
          "output_type": "stream",
          "name": "stdout",
          "text": [
            "0 1\n",
            "1 2\n",
            "2 3\n",
            "3 4\n"
          ]
        }
      ]
    },
    {
      "cell_type": "code",
      "source": [
        "values = ['김진환', '이호준', '라이켓', '웅이']\n",
        "\n",
        "result = (list(enumerate(values)))\n",
        "# print(result, type(result))\n",
        "\n"
      ],
      "metadata": {
        "colab": {
          "base_uri": "https://localhost:8080/"
        },
        "id": "Xe9UPYmYwtaB",
        "outputId": "d5cd23a7-a40e-47e3-d3cd-d873a5d91679"
      },
      "execution_count": 89,
      "outputs": [
        {
          "output_type": "stream",
          "name": "stdout",
          "text": [
            "1\n"
          ]
        }
      ]
    },
    {
      "cell_type": "code",
      "source": [
        "a = 'pithon'\n",
        "\n",
        "def 함수1():\n",
        "    def 함수2():\n",
        "        print('love')\n",
        "\n",
        "    print('I')\n",
        "    함수2()\n",
        "    return \"python\"\n",
        "\n",
        "\n",
        "a = 함수1()\n",
        "print(a)"
      ],
      "metadata": {
        "colab": {
          "base_uri": "https://localhost:8080/"
        },
        "id": "naHryRJtyRma",
        "outputId": "85675758-bc81-4db4-fa93-9bda4636d6cd"
      },
      "execution_count": 90,
      "outputs": [
        {
          "output_type": "stream",
          "name": "stdout",
          "text": [
            "I\n",
            "love\n",
            "python\n"
          ]
        }
      ]
    },
    {
      "cell_type": "code",
      "source": [
        "def plus(num1, num2):\n",
        "\t#이곳을 채워주세요\n",
        "\n",
        "def minus(num1, num2):\n",
        "\t#이곳을 채워주세요\n",
        "\n",
        "def multiply(num1, num2):\n",
        "\t#이곳을 채워주세요\n",
        "\n",
        "def divide(num1, num2):\n",
        "\t#이곳을 채워주세요\n",
        "\n",
        "print(f'plus : {plus(10, 5)}')\n",
        "print(f'minus : {minus(10, 5)}')\n",
        "print(f'multiply : {multiply(10, 5)}')\n",
        "print(f'divide : {divide(10, 5)}')"
      ],
      "metadata": {
        "colab": {
          "base_uri": "https://localhost:8080/",
          "height": 147
        },
        "id": "gw4sa9_1yqaw",
        "outputId": "e935a2c2-fcf5-46f1-f9d0-7aca363753e7"
      },
      "execution_count": 91,
      "outputs": [
        {
          "output_type": "error",
          "ename": "IndentationError",
          "evalue": "expected an indented block after function definition on line 1 (<ipython-input-91-5506162f96b0>, line 4)",
          "traceback": [
            "\u001b[0;36m  File \u001b[0;32m\"<ipython-input-91-5506162f96b0>\"\u001b[0;36m, line \u001b[0;32m4\u001b[0m\n\u001b[0;31m    def minus(num1, num2):\u001b[0m\n\u001b[0m    ^\u001b[0m\n\u001b[0;31mIndentationError\u001b[0m\u001b[0;31m:\u001b[0m expected an indented block after function definition on line 1\n"
          ]
        }
      ]
    },
    {
      "cell_type": "code",
      "source": [
        "#문제.2\n",
        "\n",
        "def plus(num1, num2):\n",
        "    return num1 + num2\n",
        "\n",
        "def minus (num1, num2):\n",
        "    return num1 - num2\n",
        "\n",
        "def multiply(num1, num2):\n",
        "    return num1 * num2\n",
        "\n",
        "def divide(num1, num2):\n",
        "    return num1/ num2\n",
        "\n",
        "print(f'plus : {plus(10, 5)}')\n",
        "print(f'minus : {minus(10, 5)}')\n",
        "print(f'multiply : {multiply(10, 5)}')\n",
        "print(f'divide : {divide(10, 5)}')"
      ],
      "metadata": {
        "colab": {
          "base_uri": "https://localhost:8080/"
        },
        "id": "xexNFhjeyYj5",
        "outputId": "3473bda8-6fa6-4a3a-8850-76e6661ced17"
      },
      "execution_count": 92,
      "outputs": [
        {
          "output_type": "stream",
          "name": "stdout",
          "text": [
            "plus : 15\n",
            "minus : 5\n",
            "multiply : 50\n",
            "divide : 2.0\n"
          ]
        }
      ]
    },
    {
      "cell_type": "code",
      "source": [
        "a = 2\n",
        "b = 3\n",
        "def result(num1,num2):\n",
        "    return (num1+num2) * (num1-num2)\n",
        "\n",
        "result(a,b)"
      ],
      "metadata": {
        "colab": {
          "base_uri": "https://localhost:8080/"
        },
        "id": "R4riNTFy0DCQ",
        "outputId": "58272a19-cfa9-4380-f31f-ecad786b4957"
      },
      "execution_count": 94,
      "outputs": [
        {
          "output_type": "execute_result",
          "data": {
            "text/plain": [
              "-5"
            ]
          },
          "metadata": {},
          "execution_count": 94
        }
      ]
    },
    {
      "cell_type": "code",
      "source": [
        "def 제곱(x, n):\n",
        "    result = x**n\n",
        "    return result\n",
        "\n",
        "제곱(2,3)"
      ],
      "metadata": {
        "colab": {
          "base_uri": "https://localhost:8080/"
        },
        "id": "ZXN7P8LU1JHn",
        "outputId": "4615d62f-456a-470f-9687-3209f2848076"
      },
      "execution_count": 95,
      "outputs": [
        {
          "output_type": "execute_result",
          "data": {
            "text/plain": [
              "8"
            ]
          },
          "metadata": {},
          "execution_count": 95
        }
      ]
    },
    {
      "cell_type": "code",
      "source": [
        "data = [['weniv CTO binky', 2], ['weniv CEO licat', 1], ['weniv COO mura', 2]]\n",
        "\n",
        "result=list(filter(lambda x : 'CEO' in x[0], data))\n",
        "print(result)\n",
        "\n",
        "result =str(result).split()\n",
        "\n",
        "result[2][0:5]"
      ],
      "metadata": {
        "colab": {
          "base_uri": "https://localhost:8080/",
          "height": 54
        },
        "id": "zwamLlTz1sgJ",
        "outputId": "9e2f4f7c-0284-4445-b107-dbbb7c9d4ed3"
      },
      "execution_count": 131,
      "outputs": [
        {
          "output_type": "stream",
          "name": "stdout",
          "text": [
            "[['weniv CEO licat', 1]]\n"
          ]
        },
        {
          "output_type": "execute_result",
          "data": {
            "text/plain": [
              "'licat'"
            ],
            "application/vnd.google.colaboratory.intrinsic+json": {
              "type": "string"
            }
          },
          "metadata": {},
          "execution_count": 131
        }
      ]
    },
    {
      "cell_type": "code",
      "source": [
        "def is_palindrome(s):\n",
        "    if s == s[::-1]:\n",
        "        return True\n",
        "    else:\n",
        "        return False\n",
        "\n",
        "\n",
        "\n",
        "print(is_palindrome('kes'))\n",
        "print(is_palindrome('기러기'))\n",
        "print(is_palindrome('우영우'))\n"
      ],
      "metadata": {
        "colab": {
          "base_uri": "https://localhost:8080/"
        },
        "id": "S3-0O2la6lF1",
        "outputId": "abdcccce-870e-45ca-ebb6-e2a5c5defc39"
      },
      "execution_count": 141,
      "outputs": [
        {
          "output_type": "stream",
          "name": "stdout",
          "text": [
            "False\n",
            "True\n",
            "True\n"
          ]
        }
      ]
    },
    {
      "cell_type": "code",
      "source": [
        "numbers = [2, 3, 4, 5, 6, 7, 8, 9, 10]\n",
        "list(filter(lambda x : x % 2 !=0, numbers))"
      ],
      "metadata": {
        "colab": {
          "base_uri": "https://localhost:8080/"
        },
        "id": "ggYz7rqx7Py1",
        "outputId": "71e19b45-a743-4b72-b45c-d677a30ea138"
      },
      "execution_count": 144,
      "outputs": [
        {
          "output_type": "execute_result",
          "data": {
            "text/plain": [
              "[3, 5, 7, 9]"
            ]
          },
          "metadata": {},
          "execution_count": 144
        }
      ]
    },
    {
      "cell_type": "code",
      "source": [
        "data = [\n",
        "    [2, 'hello world', 30],\n",
        "    [3, 'hworl', 33],\n",
        "    [5, 'hello wo', 35],\n",
        "    [4, 'hello w', 31],\n",
        "    [6, 'hello w', 39]\n",
        "]\n",
        "\n",
        "# 1번째 문제: 첫 번째 요소의 값을 정렬하세요.\n",
        "sorted(data)"
      ],
      "metadata": {
        "colab": {
          "base_uri": "https://localhost:8080/"
        },
        "id": "iDmNYNw_8qwO",
        "outputId": "c82cecb0-05ba-4505-e0f0-0245a12b2c6d"
      },
      "execution_count": 168,
      "outputs": [
        {
          "output_type": "execute_result",
          "data": {
            "text/plain": [
              "[[2, 'hello world', 30],\n",
              " [3, 'hworl', 33],\n",
              " [4, 'hello w', 31],\n",
              " [5, 'hello wo', 35],\n",
              " [6, 'hello w', 39]]"
            ]
          },
          "metadata": {},
          "execution_count": 168
        }
      ]
    },
    {
      "cell_type": "code",
      "source": [
        "sorted(data,key=lambda x:len(x[1]))"
      ],
      "metadata": {
        "colab": {
          "base_uri": "https://localhost:8080/"
        },
        "id": "95j5AoeA8001",
        "outputId": "7cfe613e-d15f-4bd7-d72a-509c90cccea4"
      },
      "execution_count": 158,
      "outputs": [
        {
          "output_type": "execute_result",
          "data": {
            "text/plain": [
              "[[3, 'hworl', 33],\n",
              " [4, 'hello w', 31],\n",
              " [6, 'hello w', 39],\n",
              " [5, 'hello wo', 35],\n",
              " [2, 'hello world', 30]]"
            ]
          },
          "metadata": {},
          "execution_count": 158
        }
      ]
    },
    {
      "cell_type": "code",
      "source": [
        "# 3번째 문제: 세 번째 요소 기준으로 정렬하세요.\n",
        "\n",
        "sorted(data, key=lambda x : (x[2]))"
      ],
      "metadata": {
        "colab": {
          "base_uri": "https://localhost:8080/"
        },
        "id": "oFYnhqXY8w61",
        "outputId": "cdd227e2-a99d-4307-b856-20af7090b171"
      },
      "execution_count": 165,
      "outputs": [
        {
          "output_type": "execute_result",
          "data": {
            "text/plain": [
              "[[2, 'hello world', 30],\n",
              " [4, 'hello w', 31],\n",
              " [3, 'hworl', 33],\n",
              " [5, 'hello wo', 35],\n",
              " [6, 'hello w', 39]]"
            ]
          },
          "metadata": {},
          "execution_count": 165
        }
      ]
    },
    {
      "cell_type": "code",
      "source": [
        "# 4번째 문제: 첫번째 요소와 세 번째 요소의 차가 큰 순으로 출력해주세요.\n",
        "# 예를 들어 [2, 'hello world', 30]의 경우 30 - 2 == 28입니다. 이런 차 순서대로 출력하시면 됩니다.\n",
        "\n",
        "sorted(data, key=lambda x : (x[2]-x[0]),reverse=True)"
      ],
      "metadata": {
        "colab": {
          "base_uri": "https://localhost:8080/"
        },
        "id": "x76u7xR18yYm",
        "outputId": "74500953-f0cc-4df8-8e59-10dc732bbf5f"
      },
      "execution_count": 169,
      "outputs": [
        {
          "output_type": "execute_result",
          "data": {
            "text/plain": [
              "[[6, 'hello w', 39],\n",
              " [3, 'hworl', 33],\n",
              " [5, 'hello wo', 35],\n",
              " [2, 'hello world', 30],\n",
              " [4, 'hello w', 31]]"
            ]
          },
          "metadata": {},
          "execution_count": 169
        }
      ]
    },
    {
      "cell_type": "code",
      "source": [
        "숫자 = [1, 2, 3, 4, 5]\n",
        "승수 = [2, 2, 2, 3, 3]\n",
        "\n",
        "num_list = list(zip(숫자,승수))\n",
        "result = []\n",
        "for idx, i in num_list:\n",
        "    result.append(idx**i)\n",
        "\n",
        "\n",
        "print(result)\n",
        "\n",
        "print(list((filter(lambda x : x > 100, result))))"
      ],
      "metadata": {
        "colab": {
          "base_uri": "https://localhost:8080/"
        },
        "id": "hfTEeZnBBsv0",
        "outputId": "2c5fadd6-edf3-437a-8e1e-0d4e2ea8a76f"
      },
      "execution_count": 195,
      "outputs": [
        {
          "output_type": "stream",
          "name": "stdout",
          "text": [
            "[1, 4, 9, 64, 125]\n",
            "[125]\n"
          ]
        }
      ]
    },
    {
      "cell_type": "code",
      "source": [
        "list(map(lambda x : x[0]**x[1], zip(숫자,승수)))"
      ],
      "metadata": {
        "colab": {
          "base_uri": "https://localhost:8080/"
        },
        "id": "1SbViVKQEzJk",
        "outputId": "c717d171-ad8a-4dbf-bfa7-b257cb1166f0"
      },
      "execution_count": 194,
      "outputs": [
        {
          "output_type": "execute_result",
          "data": {
            "text/plain": [
              "[1, 4, 9, 64, 125]"
            ]
          },
          "metadata": {},
          "execution_count": 194
        }
      ]
    },
    {
      "cell_type": "code",
      "source": [
        "sum(result)"
      ],
      "metadata": {
        "colab": {
          "base_uri": "https://localhost:8080/"
        },
        "id": "nq7r5iDeElGy",
        "outputId": "a9654685-747e-4734-fbb6-a546a6c79462"
      },
      "execution_count": 192,
      "outputs": [
        {
          "output_type": "execute_result",
          "data": {
            "text/plain": [
              "203"
            ]
          },
          "metadata": {},
          "execution_count": 192
        }
      ]
    }
  ]
}