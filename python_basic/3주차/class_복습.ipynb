{
  "nbformat": 4,
  "nbformat_minor": 0,
  "metadata": {
    "colab": {
      "provenance": []
    },
    "kernelspec": {
      "name": "python3",
      "display_name": "Python 3"
    },
    "language_info": {
      "name": "python"
    }
  },
  "cells": [
    {
      "cell_type": "code",
      "execution_count": 20,
      "metadata": {
        "colab": {
          "base_uri": "https://localhost:8080/"
        },
        "id": "9n3YGkroRf99",
        "outputId": "b9bb6740-ccd0-4006-bf89-8c7f70978a24"
      },
      "outputs": [
        {
          "output_type": "stream",
          "name": "stdout",
          "text": [
            "[3, 6, 9]\n"
          ]
        }
      ],
      "source": [
        "class Matrix:\n",
        "    def __init__(self, value):\n",
        "        self.value = value\n",
        "\n",
        "\n",
        "    def __add__(self, next):\n",
        "\n",
        "        result = []\n",
        "\n",
        "        for i, _ in enumerate(self.value):\n",
        "            result.append(self.value[i] +next.value[i])\n",
        "\n",
        "        return result\n",
        "\n",
        "\n",
        "    def __mul__(self, next):\n",
        "\n",
        "        for i,_ in enumerate(self.value):\n",
        "            self.value[i] *= next\n",
        "\n",
        "        return self.value # return 위치에 주의 할것\n",
        "\n",
        "\n",
        "    def __str__(self):\n",
        "        return str(self.value)\n",
        "\n",
        "\n",
        "    def __repr__(self):\n",
        "\n",
        "        return str(self.value)\n",
        "\n",
        "\n",
        "\n",
        "\n",
        "\n",
        "\n",
        "\n",
        "\n",
        "num1 = Matrix([1, 2, 3])\n",
        "\n",
        "num2 = Matrix([1, 2, 3])\n",
        "\n",
        "num1 + num2\n",
        "\n",
        "num1* 3\n",
        "\n",
        "print(num1)"
      ]
    },
    {
      "cell_type": "code",
      "source": [
        "a, b, c = range(3)"
      ],
      "metadata": {
        "id": "rSzjFFReR0nm"
      },
      "execution_count": 23,
      "outputs": []
    },
    {
      "cell_type": "code",
      "source": [
        "a\n"
      ],
      "metadata": {
        "colab": {
          "base_uri": "https://localhost:8080/"
        },
        "id": "SeoNXZxZstjj",
        "outputId": "96ba679c-1830-483e-8136-c5eb333965fe"
      },
      "execution_count": 24,
      "outputs": [
        {
          "output_type": "execute_result",
          "data": {
            "text/plain": [
              "0"
            ]
          },
          "metadata": {},
          "execution_count": 24
        }
      ]
    },
    {
      "cell_type": "code",
      "source": [
        "class Character:\n",
        "    def __init__(self, name, skill, hp, mp, power, defence):\n",
        "        self.name = name\n",
        "        self.skill = skill\n",
        "        self.hp = hp\n",
        "        self.mp = mp\n",
        "        self.power = power\n",
        "        self.defence = defence\n",
        "\n",
        "    def attack(self, next):\n",
        "        next.hp -= self.power\n",
        "\n",
        "class Item:\n",
        "    엑스칼리버 = {'power': 1000}\n",
        "    가죽갑옷 = {'defence': 10}\n",
        "    철갑옷 = {'defence': 100}\n",
        "    HP물약 = {'hp': 10}\n",
        "    MP물약 = {'mp': 10}\n",
        "\n",
        "class Hero(Character, Item):\n",
        "    def __init__(self, name, skill, hp, mp, power, defence, level=1):\n",
        "        super().__init__( name, skill, hp, mp, power, defence)\n",
        "        self.level = level\n",
        "        self.item = []\n",
        "\n",
        "\n",
        "    def add_item(self, item):\n",
        "        self.item.append(item)\n",
        "        self.power +=item.get('power', 0)\n",
        "        self.defence +=item.get('defence', 0)\n",
        "        self.hp +=item.get('hp', 0)\n",
        "        self.mp +=item.get('mp', 0)\n",
        "\n",
        "\n",
        "    def repair(self):\n",
        "\n",
        "        print('수리합니다!')\n",
        "\n",
        "    def show_item(self):\n",
        "        print(self.item)\n",
        "\n",
        "\n",
        "\n",
        "\n",
        "\n",
        "# class Mob(Character, DropItem):\n",
        "\n",
        "\n",
        "# 주인공은 아이템이 있는데!?, 몹은 아이템이 없어요.\n",
        "# 주인공은 Lv이 있는데!?, 몹은 Lv이 없어요.\n",
        "# 몹은 Drop하는 아이템이 있는데!?, 주인공은 없어요.\n",
        "\n",
        "주인공1 = Hero('licat', '질풍검', 100, 100, 10, 0)\n",
        "몹1 = Character('licat', '질풍검', 100, 100, 10, 0)\n",
        "\n",
        "주인공1.attack(몹1)\n",
        "몹1.hp\n",
        "\n",
        "# 몹1.character_count\n",
        "\n",
        "\n",
        "주인공1.add_item(Item.엑스칼리버)\n",
        "\n",
        "주인공1.repair()"
      ],
      "metadata": {
        "colab": {
          "base_uri": "https://localhost:8080/"
        },
        "id": "i3JXzpFuxObJ",
        "outputId": "b1136315-be8b-438e-fccb-7cd40a8cc2af"
      },
      "execution_count": 48,
      "outputs": [
        {
          "output_type": "stream",
          "name": "stdout",
          "text": [
            "수리합니다!\n"
          ]
        }
      ]
    },
    {
      "cell_type": "code",
      "source": [
        "class Character:\n",
        "    def __init__(self, name, skill, hp, mp, power, defence):\n",
        "        self.name = name\n",
        "        self.skill = skill\n",
        "        self.hp = hp\n",
        "        self.mp = mp\n",
        "        self.power = power\n",
        "        self.defence = defence\n",
        "\n",
        "    def attack(self, next):\n",
        "        next.hp -= self.power\n",
        "\n",
        "class Item:\n",
        "    엑스칼리버 = {'name': '엑스칼리버', 'power': 1000}\n",
        "    가죽갑옷 = {'name': '가죽갑옷', 'defence': 10}\n",
        "    철갑옷 = {'name': '철갑옷', 'defence': 100}\n",
        "    HP물약 = {'name': 'HP물약', 'hp': 10}\n",
        "    MP물약 = {'name': 'MP물약', 'mp': 10}\n",
        "\n",
        "    def repair(self):\n",
        "        print('수리합니다!')\n",
        "\n",
        "class Hero(Character, Item):\n",
        "    def __init__(self, name, skill, hp, mp, power, defence, level=1):\n",
        "        # self.name = name # 이렇게 일일이 하지 않고, 아래와 같이 하면 됩니다.\n",
        "        super().__init__(name, skill, hp, mp, power, defence)\n",
        "        self.level = level\n",
        "        self.item = []\n",
        "\n",
        "    def add_item(self, item):\n",
        "        self.item.append(item)\n",
        "        self.power += item.get('power', 0)\n",
        "        self.defence += item.get('defence', 0)\n",
        "        self.hp += item.get('hp', 0)\n",
        "        self.mp += item.get('mp', 0)\n",
        "\n",
        "    def show_item(self):\n",
        "        print(self.item)\n",
        "\n",
        "class Mob(Character):\n",
        "    pass\n",
        "\n",
        "\n",
        "# 주인공은 아이템이 있는데!?, 몹은 아이템이 없어요.\n",
        "# 주인공은 Lv이 있는데!?, 몹은 Lv이 없어요.\n",
        "# 몹은 Drop하는 아이템이 있는데!?, 주인공은 없어요.\n",
        "주인공1 = Hero('licat', '질풍검', 100, 100, 10, 0, 1)\n",
        "몹1 = Mob('licat', '질풍검', 100, 100, 10, 0)\n",
        "\n",
        "주인공1.attack(몹1)\n",
        "몹1.hp\n",
        "\n",
        "주인공1.add_item(Item.엑스칼리버)\n",
        "# 주인공1.repair()\n",
        "주인공1.show_item()"
      ],
      "metadata": {
        "colab": {
          "base_uri": "https://localhost:8080/"
        },
        "id": "1OA3oXy23aZA",
        "outputId": "65d21561-aeb0-4ea6-8339-1fbf0790ec58"
      },
      "execution_count": 49,
      "outputs": [
        {
          "output_type": "stream",
          "name": "stdout",
          "text": [
            "[{'name': '엑스칼리버', 'power': 1000}]\n"
          ]
        }
      ]
    },
    {
      "cell_type": "code",
      "source": [
        "class Car(object):\n",
        "    maxspeed = 300\n",
        "    maxpeople = 5\n",
        "\n",
        "    def move(self):\n",
        "        print(\"출발\")\n",
        "\n",
        "    def stop(self):\n",
        "        print(\"멈춤\")\n",
        "\n",
        "\n",
        "class HybridCar(Car):\n",
        "    battery = 100\n",
        "    batteryKM = 300\n",
        "\n",
        "\n",
        "\n",
        "class ElectricCar(HybridCar):\n",
        "    battery = 2000\n",
        "    batteryKM = 6300\n",
        "\n",
        "\n",
        "modelx = HybridCar()\n",
        "ElectricCarModely =ElectricCar()\n",
        "\n",
        "modelx.maxspeed\n",
        "\n",
        "ElectricCarModely.battery"
      ],
      "metadata": {
        "colab": {
          "base_uri": "https://localhost:8080/"
        },
        "id": "oauiTqM_BvwT",
        "outputId": "c12359bb-998c-46fd-80e3-9d76742bb5b2"
      },
      "execution_count": 53,
      "outputs": [
        {
          "output_type": "execute_result",
          "data": {
            "text/plain": [
              "2000"
            ]
          },
          "metadata": {},
          "execution_count": 53
        }
      ]
    },
    {
      "cell_type": "code",
      "source": [
        "class Rectangle:\n",
        "    def __init__(self, width, height):\n",
        "        self.width = width\n",
        "        self.height =height\n",
        "\n",
        "\n",
        "    def calculate_area(self):\n",
        "\n",
        "\n",
        "\n",
        "        return self.width *self.height\n",
        "\n",
        "\n",
        "    def __str__(self):\n",
        "\n",
        "        return f\"Rectangle(width={self.width}, height={self.height} {self.width *self.height})\"\n",
        "\n",
        "    def __repr__(self):\n",
        "\n",
        "        return f\"Rectangle(width={self.width}, height={self.height} {self.width *self.height})\"\n",
        ""
      ],
      "metadata": {
        "id": "5JdmpFLtFqxi"
      },
      "execution_count": 71,
      "outputs": []
    },
    {
      "cell_type": "code",
      "source": [
        "rect = Rectangle(5, 10)\n",
        "# area = rect.calculate_area()\n",
        "\n",
        "rect"
      ],
      "metadata": {
        "colab": {
          "base_uri": "https://localhost:8080/"
        },
        "id": "Uk1hUoHBGtJi",
        "outputId": "4ca257fc-c7b0-4397-c3de-451fb177fc71"
      },
      "execution_count": 72,
      "outputs": [
        {
          "output_type": "execute_result",
          "data": {
            "text/plain": [
              "Rectangle(width=5, height=10 50)"
            ]
          },
          "metadata": {},
          "execution_count": 72
        }
      ]
    },
    {
      "cell_type": "code",
      "source": [
        "class Person:\n",
        "    def __init__(self, name, age, occupation):\n",
        "        self. name = name\n",
        "        self. age = age\n",
        "        self. occupation = occupation\n",
        "    # 속성을 출력하는 메서드(display_info)를 구현하세요.\n",
        "\n",
        "    def display_info(self):\n",
        "\n",
        "        return f\" {self.name=},  {self.age=}, {self.occupation=}\""
      ],
      "metadata": {
        "id": "RCL9apcSJQhx"
      },
      "execution_count": 108,
      "outputs": []
    },
    {
      "cell_type": "code",
      "source": [
        "person1 = Person(name=\"Alice\", age=30, occupation=\"Engineer\")\n",
        "person1.display_info()  # 출력 예: \"Name: Alice, Age: 30, Occupation: Engineer\""
      ],
      "metadata": {
        "colab": {
          "base_uri": "https://localhost:8080/",
          "height": 35
        },
        "id": "pzmHifhDJzZh",
        "outputId": "dbe7f1cb-bcd6-4059-aace-88db95dc810f"
      },
      "execution_count": 109,
      "outputs": [
        {
          "output_type": "execute_result",
          "data": {
            "text/plain": [
              "\" self.name='Alice',  self.age=30, self.occupation='Engineer'\""
            ],
            "application/vnd.google.colaboratory.intrinsic+json": {
              "type": "string"
            }
          },
          "metadata": {},
          "execution_count": 109
        }
      ]
    },
    {
      "cell_type": "code",
      "source": [
        "class BankAccount:\n",
        "\n",
        "\n",
        "    # 클래스 초기화 메서드(__init__)를 구현하세요.\n",
        "    def __init__(self, owner, account_number, initial_balance):\n",
        "        self. owner = owner\n",
        "        self. account_number = account_number\n",
        "        self. initial_balance = initial_balance\n",
        "\n",
        "\n",
        "    # 입금 메서드(deposit)를 구현하세요.\n",
        "\n",
        "    def deposit(self,money):\n",
        "\n",
        "        self.initial_balance += money\n",
        "\n",
        "    # 출금 메서드(withdraw)를 구현하세요.\n",
        "    def withdraw(self, money):\n",
        "\n",
        "        if self.initial_balance < 0 :\n",
        "            print(\"잔액이 부족합니다\")\n",
        "        else:\n",
        "             self.initial_balance -= money\n",
        "\n",
        "    # 현재 잔액을 확인하는 메서드(get_balance)를 구현하세요.\n",
        "    def get_balance(self):\n",
        "        print(self.initial_balance)\n",
        "    # 계좌 정보를 출력하는 메서드(display_info)를 구현하세요.\n",
        "    def display_info(self):\n",
        "         if self.initial_balance < 0:\n",
        "            print(\"잔액이 부족합니다\")\n",
        "         else:\n",
        "            print(f\"{self.owner} {self.account_number} {self.initial_balance}\")\n",
        ""
      ],
      "metadata": {
        "id": "qOWkRQ4DStOl"
      },
      "execution_count": 166,
      "outputs": []
    },
    {
      "cell_type": "code",
      "source": [
        "account3 = BankAccount(owner=\"Alice\", account_number=\"123456\", initial_balance=1000)\n",
        "# account3.display_info()\n",
        "# account3.deposit(500)\n",
        "# account3.display_info()\n",
        "account3.withdraw(200)\n",
        "account3.display_info()  # 출력 예: \"Owner: Alice, Account Number: 123456, Balance: 1300\""
      ],
      "metadata": {
        "colab": {
          "base_uri": "https://localhost:8080/"
        },
        "id": "VM777dxQT4YG",
        "outputId": "48ca66db-c32c-410b-d085-5d1067cc8fdf"
      },
      "execution_count": 168,
      "outputs": [
        {
          "output_type": "stream",
          "name": "stdout",
          "text": [
            "Alice 123456 800\n"
          ]
        }
      ]
    },
    {
      "cell_type": "code",
      "source": [
        "account3.withdraw(200)\n",
        "account3.display_info()"
      ],
      "metadata": {
        "colab": {
          "base_uri": "https://localhost:8080/"
        },
        "id": "7Ij7Xun2Wl4E",
        "outputId": "4a7a08f6-5ea9-4edc-9cc2-e5b6c3874ae3"
      },
      "execution_count": 174,
      "outputs": [
        {
          "output_type": "stream",
          "name": "stdout",
          "text": [
            "잔액이 부족합니다\n",
            "잔액이 부족합니다\n"
          ]
        }
      ]
    },
    {
      "cell_type": "code",
      "source": [
        "account3.get_balance()"
      ],
      "metadata": {
        "colab": {
          "base_uri": "https://localhost:8080/"
        },
        "id": "NSFn8AK8WUE9",
        "outputId": "3e52447b-cdc1-49d9-d0be-b0ffe80d3483"
      },
      "execution_count": 150,
      "outputs": [
        {
          "output_type": "stream",
          "name": "stdout",
          "text": [
            "1000\n"
          ]
        }
      ]
    },
    {
      "cell_type": "code",
      "source": [
        "account1 = BankAccount(owner=\"Alice\", account_number=\"123456\", initial_balance=1000)\n",
        "account1.display_info()  # 출력 예: \"Owner: Alice, Account Number: 123456, Balance: 1000\"\n",
        "\n",
        "account1.deposit(500)\n",
        "account1.display_info()  # 출력 예: \"Owner: Alice, Account Number: 123456, Balance: 1500\"\n",
        "\n",
        "account1.withdraw(200)\n",
        "account1.display_info()  # 출력 예: \"Owner: Alice, Account Number: 123456, Balance: 1300\""
      ],
      "metadata": {
        "id": "mZN6gcvRSxh9"
      },
      "execution_count": null,
      "outputs": []
    },
    {
      "cell_type": "code",
      "source": [
        "# gpt 솔루션\n",
        "\n",
        "\n",
        "class BankAccount:\n",
        "    def __init__(self, owner, account_number, initial_balance):\n",
        "        self._owner = owner\n",
        "        self._account_number = account_number\n",
        "        self._initial_balance = initial_balance\n",
        "\n",
        "    def deposit(self, money):\n",
        "        self._initial_balance += money\n",
        "\n",
        "    def withdraw(self, money):\n",
        "        try:\n",
        "            if money <= 0:\n",
        "                raise ValueError(\"출금 금액은 0보다 커야 합니다.\")\n",
        "            if money > self._initial_balance:\n",
        "                raise ValueError(\"잔액이 부족합니다.\")\n",
        "            self._initial_balance -= money\n",
        "        except ValueError as e:\n",
        "            print(e)\n",
        "\n",
        "    def get_balance(self):\n",
        "        return self._initial_balance\n",
        "\n",
        "    def display_info(self):\n",
        "        if self._initial_balance < 0:\n",
        "            print(\"잔액이 부족합니다.\")\n",
        "        else:\n",
        "            print(f\"{self._owner} {self._account_number} {self._initial_balance}\")\n",
        "\n",
        "# 예시 코드\n",
        "account1 = BankAccount(owner=\"Alice\", account_number=\"123456\", initial_balance=1000)\n",
        "account1.display_info()\n",
        "\n",
        "account1.deposit(500)\n",
        "account1.display_info()\n",
        "\n",
        "account1.withdraw(200)\n",
        "account1.display_info()\n",
        "\n",
        "account1.withdraw(1500)  # 잔액 부족 에러 출력"
      ],
      "metadata": {
        "id": "1K49uMriXfCc"
      },
      "execution_count": null,
      "outputs": []
    }
  ]
}