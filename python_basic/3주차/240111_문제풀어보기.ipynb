{
  "nbformat": 4,
  "nbformat_minor": 0,
  "metadata": {
    "colab": {
      "provenance": []
    },
    "kernelspec": {
      "name": "python3",
      "display_name": "Python 3"
    },
    "language_info": {
      "name": "python"
    }
  },
  "cells": [
    {
      "cell_type": "code",
      "execution_count": null,
      "metadata": {
        "colab": {
          "base_uri": "https://localhost:8080/"
        },
        "id": "oklxHNnCcbWS",
        "outputId": "d862b289-9e61-42d4-c381-688321a228c0"
      },
      "outputs": [
        {
          "output_type": "execute_result",
          "data": {
            "text/plain": [
              "[]"
            ]
          },
          "metadata": {},
          "execution_count": 33
        }
      ],
      "source": [
        "# 1번\n",
        "\n",
        "number = [1, 5, 7, 4, 3, 22, 23, 15, 26, 17, 3]\n",
        "def solution(data):\n",
        "    return list(filter(lambda x :  20 > x > 5 and x % 2 == 0, number))\n",
        "\n",
        "solution(number)"
      ]
    },
    {
      "cell_type": "code",
      "source": [
        "# 2번\n",
        "\n",
        "class Book:\n",
        "\n",
        "    def __init__(self, title, content , author, date, price):\n",
        "        self.title = title\n",
        "        self.content = content\n",
        "        self.author = author\n",
        "        self.date = date\n",
        "        self.price = price\n",
        "\n",
        "\n",
        "    def discount(self,discount):\n",
        "        return int(self.price - self.price*(discount/100))\n",
        "\n",
        "\n",
        "book1 = Book('hello world python',\n",
        "            'welcome to python..',\n",
        "            '이호준',\n",
        "            '2024-01-11',\n",
        "            5000)\n",
        "\n",
        "book1.discount(10)\n"
      ],
      "metadata": {
        "colab": {
          "base_uri": "https://localhost:8080/"
        },
        "id": "1aocqZfrdkxR",
        "outputId": "a8a98254-4815-421f-ecf4-8b908583d53f"
      },
      "execution_count": null,
      "outputs": [
        {
          "output_type": "execute_result",
          "data": {
            "text/plain": [
              "4500"
            ]
          },
          "metadata": {},
          "execution_count": 144
        }
      ]
    },
    {
      "cell_type": "code",
      "source": [
        "# 3번\n",
        "\n",
        "def solution(data):\n",
        "\n",
        "    return sorted(map(lambda x : x[0],filter(lambda x : sum(x[1:]) > 350 ,data)))"
      ],
      "metadata": {
        "id": "e9gkf5ERlG7l"
      },
      "execution_count": null,
      "outputs": []
    },
    {
      "cell_type": "code",
      "source": [
        "solution([['Licat', 98, 92, 85, 97], ['Mura', 95, 32, 51, 30], ['Binky', 98, 98, 51, 32]])"
      ],
      "metadata": {
        "colab": {
          "base_uri": "https://localhost:8080/"
        },
        "id": "Y6yUJihwlhLl",
        "outputId": "ae9a225b-0ca5-4025-e925-ec5e713ccdb7"
      },
      "execution_count": null,
      "outputs": [
        {
          "output_type": "execute_result",
          "data": {
            "text/plain": [
              "['Licat']"
            ]
          },
          "metadata": {},
          "execution_count": 99
        }
      ]
    },
    {
      "cell_type": "code",
      "source": [
        "solution([['Gray', 98, 92, 85, 97], ['Gom', 98, 30, 21, 60], ['Allosa', 98, 90, 99, 98]])"
      ],
      "metadata": {
        "colab": {
          "base_uri": "https://localhost:8080/"
        },
        "id": "5fus_JrWnQQd",
        "outputId": "1b422e0d-b7a3-494a-82e4-164d773e2aec"
      },
      "execution_count": null,
      "outputs": [
        {
          "output_type": "execute_result",
          "data": {
            "text/plain": [
              "['Gray', 'Allosa']"
            ]
          },
          "metadata": {},
          "execution_count": 98
        }
      ]
    },
    {
      "cell_type": "code",
      "source": [
        "# 4번\n",
        "\n",
        "def solution(data):\n",
        "\n",
        "    pre = sorted(data.items(), key=lambda x : x[1],reverse=True)[:3]\n",
        "    result = [f'{date[2:]}: {temp}' for date, temp in pre]\n",
        "\n",
        "    return result\n",
        "\n",
        "\n",
        "\n",
        "\n",
        "\n"
      ],
      "metadata": {
        "id": "HEMdDx-HnuaE"
      },
      "execution_count": null,
      "outputs": []
    },
    {
      "cell_type": "code",
      "source": [
        "solution({'2024-01-01': 15, '2024-01-02': 17, '2024-01-03': 16, '2024-01-04': 20, '2024-01-05': 19, '2024-01-06': 21, '2024-01-07': 18})"
      ],
      "metadata": {
        "colab": {
          "base_uri": "https://localhost:8080/"
        },
        "id": "ZAvAboFdn_I3",
        "outputId": "fb0b6ba3-28b7-49af-b1d4-3b26b62c74c2"
      },
      "execution_count": null,
      "outputs": [
        {
          "output_type": "execute_result",
          "data": {
            "text/plain": [
              "['24-01-06: 21', '24-01-04: 20', '24-01-05: 19']"
            ]
          },
          "metadata": {},
          "execution_count": 143
        }
      ]
    }
  ]
}