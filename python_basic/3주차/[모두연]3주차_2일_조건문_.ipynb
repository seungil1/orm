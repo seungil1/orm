{
  "nbformat": 4,
  "nbformat_minor": 0,
  "metadata": {
    "colab": {
      "provenance": []
    },
    "kernelspec": {
      "name": "python3",
      "display_name": "Python 3"
    },
    "language_info": {
      "name": "python"
    }
  },
  "cells": [
    {
      "cell_type": "markdown",
      "source": [
        "#1. 조건문"
      ],
      "metadata": {
        "id": "tb0FcIUbpBHT"
      }
    },
    {
      "cell_type": "code",
      "execution_count": 10,
      "metadata": {
        "colab": {
          "base_uri": "https://localhost:8080/"
        },
        "id": "JiNIPXqbhizE",
        "outputId": "9d7f6922-3d6d-4032-e2e9-ba66473d1d9d"
      },
      "outputs": [
        {
          "output_type": "stream",
          "name": "stdout",
          "text": [
            "True\n"
          ]
        }
      ],
      "source": [
        "# 1.1 if 문의 기본 구조\n",
        "\n",
        "# if 다음에 조건이 참인 경우에만 코드 블록이 실행된다.\n",
        "\n",
        "x = 2\n",
        "\n",
        "if x > 1:\n",
        "    print('True')\n",
        "\n",
        "# 참이 아닌 경우 조건문이 실행되지 않음"
      ]
    },
    {
      "cell_type": "code",
      "source": [
        "# 결국 x = 2 일대 if x > 1 은 > True\n",
        "\n",
        "if True:\n",
        "    print('True')"
      ],
      "metadata": {
        "colab": {
          "base_uri": "https://localhost:8080/"
        },
        "id": "yiIyPpvOqPEh",
        "outputId": "15f2d730-4146-4a97-ac05-b215ec27f77f"
      },
      "execution_count": 11,
      "outputs": [
        {
          "output_type": "stream",
          "name": "stdout",
          "text": [
            "True\n"
          ]
        }
      ]
    },
    {
      "cell_type": "code",
      "source": [
        "if -1:     # 0 이 아닌 정수는 True로 반환\n",
        "    print('hello')\n",
        "\n",
        "print('end')"
      ],
      "metadata": {
        "colab": {
          "base_uri": "https://localhost:8080/"
        },
        "id": "7drmfwYxrFlY",
        "outputId": "468b1975-0960-4254-86a9-3a9e15b4c4e1"
      },
      "execution_count": 15,
      "outputs": [
        {
          "output_type": "stream",
          "name": "stdout",
          "text": [
            "hello\n",
            "end\n"
          ]
        }
      ]
    },
    {
      "cell_type": "code",
      "source": [
        "# 공백이 있는 문자열\n",
        "if ' ':\n",
        "    print('hello')\n",
        "print('end')\n",
        "\n",
        "# 공백이 없는 문자열\n",
        "if '':\n",
        "    print('hello')\n",
        "print('end')"
      ],
      "metadata": {
        "colab": {
          "base_uri": "https://localhost:8080/"
        },
        "id": "F1-FXoeZsP1P",
        "outputId": "26c86d5f-8bd7-4d30-d297-3d4b792c0648"
      },
      "execution_count": 19,
      "outputs": [
        {
          "output_type": "stream",
          "name": "stdout",
          "text": [
            "hello\n",
            "end\n",
            "end\n"
          ]
        }
      ]
    },
    {
      "cell_type": "code",
      "source": [
        "# none인 경우에도 거짓으로 평가\n",
        "\n",
        "if not '':\n",
        "    print('hello')\n",
        "print('end')\n",
        "\n",
        "if None: # None은 False로 처리됩니다.\n",
        "    print('hello')\n",
        "print('end')\n",
        "\n",
        "if not None:\n",
        "    print('hello')\n",
        "print('end')"
      ],
      "metadata": {
        "colab": {
          "base_uri": "https://localhost:8080/"
        },
        "id": "wMCMMn6Ir-dI",
        "outputId": "0221ea7a-2133-4bab-a7d5-2beb980a8f92"
      },
      "execution_count": 18,
      "outputs": [
        {
          "output_type": "stream",
          "name": "stdout",
          "text": [
            "hello\n",
            "end\n"
          ]
        }
      ]
    },
    {
      "cell_type": "markdown",
      "source": [
        "## **`if`**문의 조건에는 불리언(boolean) 표현식이 사용됩니다. 이 표현식은 **`True`** 또는 **`False`** 값을 결과로 반환해야 합니다. 여기 몇 가지 예시가 있습니다:\n",
        "\n",
        "- 비교 연산자: **`==`**, **`!=`**, **`<`**, **`<=`**, **`>`**, **`>=`**\n",
        "- 논리 연산자: **`and`**, **`or`**, **`not`**\n",
        "- 멤버십 연산자: **`in`**, **`not in`**\n",
        "- 식별 연산자: **`is`**, **`is not`**\n",
        "- 다른 함수의 반환 값이나 변수의 값 (이 값들이 결국 불리언으로 평가됨)"
      ],
      "metadata": {
        "id": "2soZUbKpxIp4"
      }
    },
    {
      "cell_type": "code",
      "source": [
        "# 단락평가\n",
        "\n",
        "\n",
        "def f():\n",
        "    return True\n",
        "\n",
        "\n",
        "def ff():\n",
        "\n",
        "    x = 100 / 0 # error\n",
        "    return 'hello'\n",
        "\n",
        "if f() or ff():\n",
        "    print('hello')"
      ],
      "metadata": {
        "colab": {
          "base_uri": "https://localhost:8080/"
        },
        "id": "UEhjdq1pxgDH",
        "outputId": "e37def7c-7a05-415f-cc99-bff153b580d4"
      },
      "execution_count": 32,
      "outputs": [
        {
          "output_type": "stream",
          "name": "stdout",
          "text": [
            "hello\n"
          ]
        }
      ]
    },
    {
      "cell_type": "code",
      "source": [
        "x = 5\n",
        "y = 10\n",
        "\n",
        "result = 'x가 더큽니다' if x > y else 'y와 같거나 y가 더 큽니다'\n",
        "\n",
        "print(result)"
      ],
      "metadata": {
        "colab": {
          "base_uri": "https://localhost:8080/"
        },
        "id": "WiETo-wjx1Z2",
        "outputId": "d671221f-4d47-4744-c11b-2b594aa3fac3"
      },
      "execution_count": 34,
      "outputs": [
        {
          "output_type": "stream",
          "name": "stdout",
          "text": [
            "y와 같거나 y가 더 큽니다\n"
          ]
        }
      ]
    },
    {
      "cell_type": "code",
      "source": [
        "def f(x, y):\n",
        "    return x if x > y else y"
      ],
      "metadata": {
        "id": "JtbWzbZLzNGl"
      },
      "execution_count": 35,
      "outputs": []
    },
    {
      "cell_type": "code",
      "source": [
        "f(5,10)"
      ],
      "metadata": {
        "colab": {
          "base_uri": "https://localhost:8080/"
        },
        "id": "eZIOc6tTzOUm",
        "outputId": "49e1f1df-5865-4332-b851-cd793fa182ab"
      },
      "execution_count": 36,
      "outputs": [
        {
          "output_type": "execute_result",
          "data": {
            "text/plain": [
              "10"
            ]
          },
          "metadata": {},
          "execution_count": 36
        }
      ]
    },
    {
      "cell_type": "code",
      "source": [
        "x =10\n",
        "my_function = lambda x : 'Even' if x % 2 == 0 else 'odd'\n",
        "print(type(my_function))"
      ],
      "metadata": {
        "colab": {
          "base_uri": "https://localhost:8080/"
        },
        "id": "wnJVkvj9zWAB",
        "outputId": "1f9ffb2e-d13c-4e1e-c9a3-d2b73b88e88c"
      },
      "execution_count": 50,
      "outputs": [
        {
          "output_type": "stream",
          "name": "stdout",
          "text": [
            "<class 'function'>\n"
          ]
        }
      ]
    },
    {
      "cell_type": "code",
      "source": [],
      "metadata": {
        "colab": {
          "base_uri": "https://localhost:8080/"
        },
        "id": "bbH1Tbqt0VHs",
        "outputId": "cf3fa340-28cd-4daf-8511-b1877a886f4c"
      },
      "execution_count": 59,
      "outputs": [
        {
          "output_type": "stream",
          "name": "stdout",
          "text": [
            "odd\n"
          ]
        }
      ]
    },
    {
      "cell_type": "code",
      "source": [
        "def my_func(x):\n",
        "    return 'Even' if x % 2 == 0 else 'Odd'\n",
        "\n",
        "print(my_func(10))"
      ],
      "metadata": {
        "colab": {
          "base_uri": "https://localhost:8080/"
        },
        "id": "YCu-370K05t9",
        "outputId": "8326fde9-b655-4f14-acee-c280677accf5"
      },
      "execution_count": 60,
      "outputs": [
        {
          "output_type": "stream",
          "name": "stdout",
          "text": [
            "Even\n"
          ]
        }
      ]
    },
    {
      "cell_type": "markdown",
      "source": [
        "# 2. if, elif, else 와 중첩 조건문\n"
      ],
      "metadata": {
        "id": "2FgypjA_1cUk"
      }
    },
    {
      "cell_type": "code",
      "source": [
        "# if, else문의 기본구조\n",
        "if 조건문: # 조건문을 확인해서 만약 '참'이면 if 문 다음에 문장들은 수행합니다.\n",
        "    pass\n",
        "\t  # 참일경우 수행할 문장 1\n",
        "else: # if문의 조건이 거짓이면 else 문이 실행됩니다.\n",
        "    pass\n",
        "\t  # 수행할 문장 2"
      ],
      "metadata": {
        "id": "Hn6i2iHd1gUM"
      },
      "execution_count": null,
      "outputs": []
    },
    {
      "cell_type": "code",
      "source": [
        "x = 3\n",
        "y = 5\n",
        "\n",
        "if x > y:\n",
        "    print('x가 더 큽니다')\n",
        "\n",
        "else:\n",
        "    print('두번째 값이 더크거나 같습니다')"
      ],
      "metadata": {
        "colab": {
          "base_uri": "https://localhost:8080/"
        },
        "id": "KgzXC0442oBX",
        "outputId": "d563e43f-520a-4744-af04-a86fb04ab8b8"
      },
      "execution_count": 64,
      "outputs": [
        {
          "output_type": "stream",
          "name": "stdout",
          "text": [
            "두번째 값이 더크거나 같습니다\n"
          ]
        }
      ]
    },
    {
      "cell_type": "code",
      "source": [
        "# if, elif, else문의 기본구조\n",
        "\n",
        "if 조건문: # 조건문을 확인해서 만약 '참'이면 if 문 다음에 문장들은 수행합니다.\n",
        "\t  # 수행할 문장 1\n",
        "    pass\n",
        "elif: # if문의 조건이 '참'이 아니라면 elif 문의 조건문이 참이라면 수행한다.\n",
        "\t  # 수행할 문장 2\n",
        "    pass\n",
        "else: # 위 모든 if문, elif문의 조건이 '참'이 아니라면 수행합니다.\n",
        "\t  # 수행할 문장 3\n",
        "    pass"
      ],
      "metadata": {
        "id": "zLk9ytwh3IK8"
      },
      "execution_count": null,
      "outputs": []
    },
    {
      "cell_type": "code",
      "source": [
        "score = int(input(\"성적을 입력하세요 (0-100): \"))\n",
        "\n",
        "if score >= 90:\n",
        "    print(\"A\")\n",
        "elif score >= 80:\n",
        "    print(\"B\")\n",
        "elif score >= 70:\n",
        "    print(\"C\")\n",
        "elif score >= 60:\n",
        "    print(\"D\")\n",
        "else:\n",
        "    print(\"F\")"
      ],
      "metadata": {
        "colab": {
          "base_uri": "https://localhost:8080/"
        },
        "id": "NuBUVNuP3_PE",
        "outputId": "3719c837-ca76-4876-d726-8da6eab59145"
      },
      "execution_count": 65,
      "outputs": [
        {
          "output_type": "stream",
          "name": "stdout",
          "text": [
            "성적을 입력하세요 (0-100): 90\n",
            "A\n"
          ]
        }
      ]
    },
    {
      "cell_type": "code",
      "source": [
        "score = 81\n",
        "money = 0\n",
        "\n",
        "if score >= 90:\n",
        "    money += 1000000\n",
        "elif score >= 80:\n",
        "    money += 100000\n",
        "elif score >= 70:\n",
        "    money += 10000\n",
        "elif score >= 60:\n",
        "    money += 1000\n",
        "else:\n",
        "    money = 0\n",
        "print(money) # 출력: 100000"
      ],
      "metadata": {
        "id": "jOPKFhFF---S"
      },
      "execution_count": null,
      "outputs": []
    },
    {
      "cell_type": "code",
      "source": [
        "score = 81\n",
        "money = 0\n",
        "\n",
        "if score >= 90:\n",
        "    money += 1000000\n",
        "if score >= 80:\n",
        "    money += 100000\n",
        "if score >= 70:\n",
        "    money += 10000\n",
        "if score >= 60:\n",
        "    money += 1000\n",
        "else:\n",
        "    money = 0\n",
        "print(money) # 출력: 111000"
      ],
      "metadata": {
        "colab": {
          "base_uri": "https://localhost:8080/"
        },
        "id": "gsqQaEze-_Yb",
        "outputId": "0d6ed143-d1f3-4938-8c15-15b4d9676e4d"
      },
      "execution_count": 69,
      "outputs": [
        {
          "output_type": "stream",
          "name": "stdout",
          "text": [
            "111000\n"
          ]
        }
      ]
    },
    {
      "cell_type": "code",
      "source": [
        "# if를 중첩해서 사용하기\n",
        "movie = {\n",
        "    '영화': '레미제라블',\n",
        "    '장르': '드라마',\n",
        "    '서비스': '디즈니',\n",
        "    '비용': 15000,\n",
        "    '평점': 4.9\n",
        "}\n",
        "\n",
        "if movie['장르'] == '드라마':\n",
        "    if movie['서비스'] == '디즈니' or movie['서비스'] == '넷플릭스':\n",
        "        if movie['평점'] >= 4.5:\n",
        "            if movie['비용'] <= 20000:\n",
        "                print('영화시청') # 출력: 영화시청"
      ],
      "metadata": {
        "colab": {
          "base_uri": "https://localhost:8080/"
        },
        "id": "piiZCfMEA1_I",
        "outputId": "6edfc7a0-0326-4d54-9fde-3977b90f2d05"
      },
      "execution_count": 78,
      "outputs": [
        {
          "output_type": "stream",
          "name": "stdout",
          "text": [
            "영화시청\n"
          ]
        }
      ]
    },
    {
      "cell_type": "code",
      "source": [
        "movie = {\n",
        "    '영화': '레미제라블',\n",
        "    '장르': '드라마',\n",
        "    '서비스': '디즈니',\n",
        "    '비용': 19000,\n",
        "    '평점': 4.9\n",
        "}\n",
        "\n",
        "\n",
        "if movie['장르'] == '드라마':\n",
        "    if movie['서비스'] =='디즈니':\n",
        "        if movie['평점'] > 4.8:\n",
        "            if movie['비용'] <= 18000:\n",
        "                print(\"가성비가 괜찮습니다\")\n",
        "            else:\n",
        "                    print(\"가성비가 나쁩니다\")"
      ],
      "metadata": {
        "colab": {
          "base_uri": "https://localhost:8080/"
        },
        "id": "yiRTmEZ7B2JQ",
        "outputId": "4c945a5f-fd1f-454b-ef4e-90df08a1131b"
      },
      "execution_count": 85,
      "outputs": [
        {
          "output_type": "stream",
          "name": "stdout",
          "text": [
            "가성비가 나쁩니다\n"
          ]
        }
      ]
    },
    {
      "cell_type": "code",
      "source": [
        "if movie['장르'] == 'SF' and (movie['서비스'] == '디즈니' or movie['서비스'] == '넷플릭스') and movie['평점'] >= 4.5 and movie['비용'] <= 20000:\n",
        "    print('영화시청') # 출력: 영화시청"
      ],
      "metadata": {
        "id": "wZ2MATjwCuyH"
      },
      "execution_count": null,
      "outputs": []
    },
    {
      "cell_type": "code",
      "source": [
        "movie = {\n",
        "    '영화': '레미제라블',\n",
        "    '장르': '드라마',\n",
        "    '서비스': '디즈니',\n",
        "    '비용': 23000,\n",
        "    '평점': 4.9\n",
        "}\n",
        "\n",
        "\n",
        "if movie['장르'] == '드라마' and (movie['서비스'] == '디즈니' or movie['서비스'] == '웨이브') and movie['평점'] >= 4.5 and movie['비용'] <=20000:\n",
        "    print('봐도 괜찮을거 같습니다')\n",
        "else:\n",
        "    print(\"티빙으로 옮기세요\")"
      ],
      "metadata": {
        "colab": {
          "base_uri": "https://localhost:8080/"
        },
        "id": "QHbwxKq_Cwk_",
        "outputId": "13b1789f-e4d2-4fd1-d643-9fd7387b228d"
      },
      "execution_count": 95,
      "outputs": [
        {
          "output_type": "stream",
          "name": "stdout",
          "text": [
            "티빙으로 옮기세요\n"
          ]
        }
      ]
    },
    {
      "cell_type": "markdown",
      "source": [
        "# 반복문"
      ],
      "metadata": {
        "id": "b1ihXpClER7f"
      }
    },
    {
      "cell_type": "code",
      "source": [
        "for x in 'hello':\n",
        "    print(f'현재 값은 {x} 입니다')"
      ],
      "metadata": {
        "colab": {
          "base_uri": "https://localhost:8080/"
        },
        "id": "SA9PzCg9C8zW",
        "outputId": "738cbae9-82f6-4a74-cfbd-510698d4de3e"
      },
      "execution_count": 97,
      "outputs": [
        {
          "output_type": "stream",
          "name": "stdout",
          "text": [
            "현재 값은 h 입니다\n",
            "현재 값은 e 입니다\n",
            "현재 값은 l 입니다\n",
            "현재 값은 l 입니다\n",
            "현재 값은 o 입니다\n"
          ]
        }
      ]
    },
    {
      "cell_type": "code",
      "source": [
        "for i in (1, 2, 3, 4, 5):\n",
        "    print(f'현재 값은 {i} 입니다')"
      ],
      "metadata": {
        "colab": {
          "base_uri": "https://localhost:8080/"
        },
        "id": "GaT6xGwOGkdO",
        "outputId": "e2c153f2-3b22-4455-ea0d-df4dd800251e"
      },
      "execution_count": 98,
      "outputs": [
        {
          "output_type": "stream",
          "name": "stdout",
          "text": [
            "현재 값은 1 입니다\n",
            "현재 값은 2 입니다\n",
            "현재 값은 3 입니다\n",
            "현재 값은 4 입니다\n",
            "현재 값은 5 입니다\n"
          ]
        }
      ]
    },
    {
      "cell_type": "code",
      "source": [
        "s = 'hello world'\n",
        "\n",
        "for i in s:\n",
        "    print(i) # 공백도 하나의 자료로 출력"
      ],
      "metadata": {
        "colab": {
          "base_uri": "https://localhost:8080/"
        },
        "id": "Yrmb3b66GuFW",
        "outputId": "14ce2eaa-d845-4e89-87c9-55a65b30c087"
      },
      "execution_count": 99,
      "outputs": [
        {
          "output_type": "stream",
          "name": "stdout",
          "text": [
            "h\n",
            "e\n",
            "l\n",
            "l\n",
            "o\n",
            " \n",
            "w\n",
            "o\n",
            "r\n",
            "l\n",
            "d\n"
          ]
        }
      ]
    },
    {
      "cell_type": "code",
      "source": [
        "s = '123'\n",
        "\n",
        "result = 0\n",
        "\n",
        "for i in s:\n",
        "    result += int(i)\n",
        "\n",
        "\n",
        "print(result)"
      ],
      "metadata": {
        "colab": {
          "base_uri": "https://localhost:8080/"
        },
        "id": "baTRk4q5He11",
        "outputId": "9c5493c2-f04c-414d-f19c-c8448ba5ef89"
      },
      "execution_count": 102,
      "outputs": [
        {
          "output_type": "stream",
          "name": "stdout",
          "text": [
            "6\n"
          ]
        }
      ]
    },
    {
      "cell_type": "code",
      "source": [
        "단어_사전 = {\n",
        "    '하나' : 'one',\n",
        "    '둘' : 'two',\n",
        "    '셋' : 'three',\n",
        "}\n",
        "\n",
        "for i in 단어_사전:\n",
        "    print(i)"
      ],
      "metadata": {
        "colab": {
          "base_uri": "https://localhost:8080/"
        },
        "id": "NMHHUFQ1H3xF",
        "outputId": "7981bd38-32ed-4db9-9144-93b8afeac5d4"
      },
      "execution_count": 104,
      "outputs": [
        {
          "output_type": "stream",
          "name": "stdout",
          "text": [
            "('하나', 'one')\n",
            "('둘', 'two')\n",
            "('셋', 'three')\n"
          ]
        }
      ]
    },
    {
      "cell_type": "code",
      "source": [
        "for i in 단어_사전.items():\n",
        "    print(i)"
      ],
      "metadata": {
        "colab": {
          "base_uri": "https://localhost:8080/"
        },
        "id": "YYKypAzpIHmF",
        "outputId": "b43e94eb-ba79-4efc-cf22-5880d3fab49f"
      },
      "execution_count": 105,
      "outputs": [
        {
          "output_type": "stream",
          "name": "stdout",
          "text": [
            "('하나', 'one')\n",
            "('둘', 'two')\n",
            "('셋', 'three')\n"
          ]
        }
      ]
    },
    {
      "cell_type": "code",
      "source": [
        "for idx, i in 단어_사전:\n",
        "    print(idx, i)"
      ],
      "metadata": {
        "colab": {
          "base_uri": "https://localhost:8080/",
          "height": 221
        },
        "id": "2Nj2dbmjILP1",
        "outputId": "931eff1e-03df-4c4b-a782-e4e190655104"
      },
      "execution_count": 107,
      "outputs": [
        {
          "output_type": "stream",
          "name": "stdout",
          "text": [
            "하 나\n"
          ]
        },
        {
          "output_type": "error",
          "ename": "ValueError",
          "evalue": "not enough values to unpack (expected 2, got 1)",
          "traceback": [
            "\u001b[0;31m---------------------------------------------------------------------------\u001b[0m",
            "\u001b[0;31mValueError\u001b[0m                                Traceback (most recent call last)",
            "\u001b[0;32m<ipython-input-107-8530c98ef3b6>\u001b[0m in \u001b[0;36m<cell line: 1>\u001b[0;34m()\u001b[0m\n\u001b[0;32m----> 1\u001b[0;31m \u001b[0;32mfor\u001b[0m \u001b[0midx\u001b[0m\u001b[0;34m,\u001b[0m \u001b[0mi\u001b[0m \u001b[0;32min\u001b[0m \u001b[0m단어_사전\u001b[0m\u001b[0;34m:\u001b[0m\u001b[0;34m\u001b[0m\u001b[0;34m\u001b[0m\u001b[0m\n\u001b[0m\u001b[1;32m      2\u001b[0m     \u001b[0mprint\u001b[0m\u001b[0;34m(\u001b[0m\u001b[0midx\u001b[0m\u001b[0;34m,\u001b[0m \u001b[0mi\u001b[0m\u001b[0;34m)\u001b[0m\u001b[0;34m\u001b[0m\u001b[0;34m\u001b[0m\u001b[0m\n",
            "\u001b[0;31mValueError\u001b[0m: not enough values to unpack (expected 2, got 1)"
          ]
        }
      ]
    },
    {
      "cell_type": "code",
      "source": [
        "result = sum(filter(lambda x : x % 2 == 0, range(101)))\n",
        "\n",
        "print(result)\n"
      ],
      "metadata": {
        "colab": {
          "base_uri": "https://localhost:8080/"
        },
        "id": "H6n_ceYWK6ow",
        "outputId": "2edd7738-1f2b-4d77-f7e1-2aa93fad5010"
      },
      "execution_count": 127,
      "outputs": [
        {
          "output_type": "stream",
          "name": "stdout",
          "text": [
            "2550\n"
          ]
        }
      ]
    },
    {
      "cell_type": "code",
      "source": [
        "\n",
        "result = 0\n",
        "for i in range(1,101):\n",
        "    if i % 2 == 0 :\n",
        "        result += i\n",
        "\n",
        "print(result)\n"
      ],
      "metadata": {
        "colab": {
          "base_uri": "https://localhost:8080/"
        },
        "id": "FgxqkzaXMVON",
        "outputId": "5dc0def5-a74e-4b9b-cdde-70eada921e40"
      },
      "execution_count": 128,
      "outputs": [
        {
          "output_type": "stream",
          "name": "stdout",
          "text": [
            "2550\n"
          ]
        }
      ]
    },
    {
      "cell_type": "markdown",
      "source": [
        "# 2. 중첩 for 문"
      ],
      "metadata": {
        "id": "xVRdHrJCNmSU"
      }
    },
    {
      "cell_type": "code",
      "source": [
        "# code1\n",
        "for i in [[1, 2], [10, 20], [100, 200]]:\n",
        "    for j in i:\n",
        "        print(i)\n",
        "        print(j)\n",
        ""
      ],
      "metadata": {
        "id": "iduGZWiGNrJt"
      },
      "execution_count": null,
      "outputs": []
    },
    {
      "cell_type": "code",
      "source": [
        "#1. 구조를 정한다\n",
        "#2. 최소한의 반복문만 수행한다.\n",
        "#3. 각 반복문을 print 해본다"
      ],
      "metadata": {
        "id": "KMUej_Q9PUKO"
      },
      "execution_count": null,
      "outputs": []
    },
    {
      "cell_type": "code",
      "source": [
        "for i in range(2, 10):\n",
        "    print()\n",
        "    print(f'--{i}--단')\n",
        "    print()\n",
        "    for j in range(1, 10):\n",
        "        print(f\" {i} X {j} = {i*j}\")"
      ],
      "metadata": {
        "colab": {
          "base_uri": "https://localhost:8080/"
        },
        "id": "jml7peELQplE",
        "outputId": "c2e47454-909e-4f33-b655-d0a025e18ccb"
      },
      "execution_count": 149,
      "outputs": [
        {
          "output_type": "stream",
          "name": "stdout",
          "text": [
            "\n",
            "--2--단\n",
            "\n",
            " 2 X 1 = 2\n",
            " 2 X 2 = 4\n",
            " 2 X 3 = 6\n",
            " 2 X 4 = 8\n",
            " 2 X 5 = 10\n",
            " 2 X 6 = 12\n",
            " 2 X 7 = 14\n",
            " 2 X 8 = 16\n",
            " 2 X 9 = 18\n",
            "\n",
            "--3--단\n",
            "\n",
            " 3 X 1 = 3\n",
            " 3 X 2 = 6\n",
            " 3 X 3 = 9\n",
            " 3 X 4 = 12\n",
            " 3 X 5 = 15\n",
            " 3 X 6 = 18\n",
            " 3 X 7 = 21\n",
            " 3 X 8 = 24\n",
            " 3 X 9 = 27\n",
            "\n",
            "--4--단\n",
            "\n",
            " 4 X 1 = 4\n",
            " 4 X 2 = 8\n",
            " 4 X 3 = 12\n",
            " 4 X 4 = 16\n",
            " 4 X 5 = 20\n",
            " 4 X 6 = 24\n",
            " 4 X 7 = 28\n",
            " 4 X 8 = 32\n",
            " 4 X 9 = 36\n",
            "\n",
            "--5--단\n",
            "\n",
            " 5 X 1 = 5\n",
            " 5 X 2 = 10\n",
            " 5 X 3 = 15\n",
            " 5 X 4 = 20\n",
            " 5 X 5 = 25\n",
            " 5 X 6 = 30\n",
            " 5 X 7 = 35\n",
            " 5 X 8 = 40\n",
            " 5 X 9 = 45\n",
            "\n",
            "--6--단\n",
            "\n",
            " 6 X 1 = 6\n",
            " 6 X 2 = 12\n",
            " 6 X 3 = 18\n",
            " 6 X 4 = 24\n",
            " 6 X 5 = 30\n",
            " 6 X 6 = 36\n",
            " 6 X 7 = 42\n",
            " 6 X 8 = 48\n",
            " 6 X 9 = 54\n",
            "\n",
            "--7--단\n",
            "\n",
            " 7 X 1 = 7\n",
            " 7 X 2 = 14\n",
            " 7 X 3 = 21\n",
            " 7 X 4 = 28\n",
            " 7 X 5 = 35\n",
            " 7 X 6 = 42\n",
            " 7 X 7 = 49\n",
            " 7 X 8 = 56\n",
            " 7 X 9 = 63\n",
            "\n",
            "--8--단\n",
            "\n",
            " 8 X 1 = 8\n",
            " 8 X 2 = 16\n",
            " 8 X 3 = 24\n",
            " 8 X 4 = 32\n",
            " 8 X 5 = 40\n",
            " 8 X 6 = 48\n",
            " 8 X 7 = 56\n",
            " 8 X 8 = 64\n",
            " 8 X 9 = 72\n",
            "\n",
            "--9--단\n",
            "\n",
            " 9 X 1 = 9\n",
            " 9 X 2 = 18\n",
            " 9 X 3 = 27\n",
            " 9 X 4 = 36\n",
            " 9 X 5 = 45\n",
            " 9 X 6 = 54\n",
            " 9 X 7 = 63\n",
            " 9 X 8 = 72\n",
            " 9 X 9 = 81\n"
          ]
        }
      ]
    },
    {
      "cell_type": "code",
      "source": [
        "[i**2 for i in range(5)]"
      ],
      "metadata": {
        "colab": {
          "base_uri": "https://localhost:8080/"
        },
        "id": "TvKpfM9YSaEx",
        "outputId": "3a17a15d-17a8-4a07-d448-441138703cf9"
      },
      "execution_count": 150,
      "outputs": [
        {
          "output_type": "execute_result",
          "data": {
            "text/plain": [
              "[0, 1, 4, 9, 16]"
            ]
          },
          "metadata": {},
          "execution_count": 150
        }
      ]
    },
    {
      "cell_type": "code",
      "source": [
        "# step1 list안에 for문을 가져옵니다.\n",
        "# [for i in range(1, 10)]\n",
        "\n",
        "# step2 append 항목을 앞으로 가져옵니다.\n",
        "a = [i for i in range(1, 10)] # 출력: [1, 2, 3, 4, 5, 6, 7, 8, 9]\n",
        "b = [i*2 for i in range(1, 10)] # 출력: [1, 2, 3, 4, 5, 6, 7, 8, 9]\n",
        "\n",
        "# [추가할변수_또는_표현식 for 변수 in 특정범위]"
      ],
      "metadata": {
        "id": "1MyZVxhSUWfI"
      },
      "execution_count": null,
      "outputs": []
    },
    {
      "cell_type": "code",
      "source": [
        "# 컴프리헨션 + 조건문\n",
        "\n",
        "l = [i for i in range(1,10) if i % 2 ==0]\n",
        "\n",
        "print(l)"
      ],
      "metadata": {
        "colab": {
          "base_uri": "https://localhost:8080/"
        },
        "id": "vk1lF8qUUdc9",
        "outputId": "20e3da9f-4466-4325-fb0d-a0c0c59d4a58"
      },
      "execution_count": 154,
      "outputs": [
        {
          "output_type": "stream",
          "name": "stdout",
          "text": [
            "[2, 4, 6, 8]\n"
          ]
        }
      ]
    },
    {
      "cell_type": "code",
      "source": [
        "c = [f'{i} x {j} = {i*j}'for i in range(2,10)for j in range(1,10)]\n",
        "\n",
        "print(c)"
      ],
      "metadata": {
        "colab": {
          "base_uri": "https://localhost:8080/"
        },
        "id": "fsuKFNKTn7b6",
        "outputId": "95637d3d-afee-4857-bee7-021d50ff6914"
      },
      "execution_count": 156,
      "outputs": [
        {
          "output_type": "stream",
          "name": "stdout",
          "text": [
            "['2 x 1 = 2', '2 x 2 = 4', '2 x 3 = 6', '2 x 4 = 8', '2 x 5 = 10', '2 x 6 = 12', '2 x 7 = 14', '2 x 8 = 16', '2 x 9 = 18', '3 x 1 = 3', '3 x 2 = 6', '3 x 3 = 9', '3 x 4 = 12', '3 x 5 = 15', '3 x 6 = 18', '3 x 7 = 21', '3 x 8 = 24', '3 x 9 = 27', '4 x 1 = 4', '4 x 2 = 8', '4 x 3 = 12', '4 x 4 = 16', '4 x 5 = 20', '4 x 6 = 24', '4 x 7 = 28', '4 x 8 = 32', '4 x 9 = 36', '5 x 1 = 5', '5 x 2 = 10', '5 x 3 = 15', '5 x 4 = 20', '5 x 5 = 25', '5 x 6 = 30', '5 x 7 = 35', '5 x 8 = 40', '5 x 9 = 45', '6 x 1 = 6', '6 x 2 = 12', '6 x 3 = 18', '6 x 4 = 24', '6 x 5 = 30', '6 x 6 = 36', '6 x 7 = 42', '6 x 8 = 48', '6 x 9 = 54', '7 x 1 = 7', '7 x 2 = 14', '7 x 3 = 21', '7 x 4 = 28', '7 x 5 = 35', '7 x 6 = 42', '7 x 7 = 49', '7 x 8 = 56', '7 x 9 = 63', '8 x 1 = 8', '8 x 2 = 16', '8 x 3 = 24', '8 x 4 = 32', '8 x 5 = 40', '8 x 6 = 48', '8 x 7 = 56', '8 x 8 = 64', '8 x 9 = 72', '9 x 1 = 9', '9 x 2 = 18', '9 x 3 = 27', '9 x 4 = 36', '9 x 5 = 45', '9 x 6 = 54', '9 x 7 = 63', '9 x 8 = 72', '9 x 9 = 81']\n"
          ]
        }
      ]
    },
    {
      "cell_type": "code",
      "source": [
        "# 리스트 컴프리헨션: 중첩된 반복문\n",
        "c = [f'{i} × {j} = {i*j}' for i in range(2, 10) for j in range(1, 10)]\n",
        "\n",
        "# 리스트 컴프리헨션: 중첩된 컴프리헨션\n",
        "cc = [[f'{i} × {j} = {i*j}' for j in range(1, 10)] for i in range(2, 10)]\n",
        "\n",
        "# 전통적인 방법\n",
        "c_list = []\n",
        "for i in range(2, 10):\n",
        "    for j in range(1, 10):\n",
        "        c_list.append(f'{i} × {j} = {i*j}')"
      ],
      "metadata": {
        "id": "wGj_PDp7oRSh"
      },
      "execution_count": 158,
      "outputs": []
    },
    {
      "cell_type": "code",
      "source": [
        "print(cc)"
      ],
      "metadata": {
        "colab": {
          "base_uri": "https://localhost:8080/"
        },
        "id": "0Zn6E_hjoX8y",
        "outputId": "7bbd675a-9e24-4fdd-f7c6-0b4eba447323"
      },
      "execution_count": 160,
      "outputs": [
        {
          "output_type": "stream",
          "name": "stdout",
          "text": [
            "[['2 × 1 = 2', '2 × 2 = 4', '2 × 3 = 6', '2 × 4 = 8', '2 × 5 = 10', '2 × 6 = 12', '2 × 7 = 14', '2 × 8 = 16', '2 × 9 = 18'], ['3 × 1 = 3', '3 × 2 = 6', '3 × 3 = 9', '3 × 4 = 12', '3 × 5 = 15', '3 × 6 = 18', '3 × 7 = 21', '3 × 8 = 24', '3 × 9 = 27'], ['4 × 1 = 4', '4 × 2 = 8', '4 × 3 = 12', '4 × 4 = 16', '4 × 5 = 20', '4 × 6 = 24', '4 × 7 = 28', '4 × 8 = 32', '4 × 9 = 36'], ['5 × 1 = 5', '5 × 2 = 10', '5 × 3 = 15', '5 × 4 = 20', '5 × 5 = 25', '5 × 6 = 30', '5 × 7 = 35', '5 × 8 = 40', '5 × 9 = 45'], ['6 × 1 = 6', '6 × 2 = 12', '6 × 3 = 18', '6 × 4 = 24', '6 × 5 = 30', '6 × 6 = 36', '6 × 7 = 42', '6 × 8 = 48', '6 × 9 = 54'], ['7 × 1 = 7', '7 × 2 = 14', '7 × 3 = 21', '7 × 4 = 28', '7 × 5 = 35', '7 × 6 = 42', '7 × 7 = 49', '7 × 8 = 56', '7 × 9 = 63'], ['8 × 1 = 8', '8 × 2 = 16', '8 × 3 = 24', '8 × 4 = 32', '8 × 5 = 40', '8 × 6 = 48', '8 × 7 = 56', '8 × 8 = 64', '8 × 9 = 72'], ['9 × 1 = 9', '9 × 2 = 18', '9 × 3 = 27', '9 × 4 = 36', '9 × 5 = 45', '9 × 6 = 54', '9 × 7 = 63', '9 × 8 = 72', '9 × 9 = 81']]\n"
          ]
        }
      ]
    },
    {
      "cell_type": "code",
      "source": [
        "def sumthingFunction(i):\n",
        "    if i % 100 == 0:\n",
        "        return i\n",
        "    else:\n",
        "        return 0\n",
        "\n",
        "\n",
        "l = [100, 200, 300, 101, 202, 303]\n",
        "l = [sumthingFunction(i) for i in l]\n",
        "\n",
        "l"
      ],
      "metadata": {
        "colab": {
          "base_uri": "https://localhost:8080/"
        },
        "id": "7xIUyF6ipLTx",
        "outputId": "2ce35313-101c-4840-a35a-fb2ba1872e25"
      },
      "execution_count": 162,
      "outputs": [
        {
          "output_type": "execute_result",
          "data": {
            "text/plain": [
              "[100, 200, 300, 0, 0, 0]"
            ]
          },
          "metadata": {},
          "execution_count": 162
        }
      ]
    },
    {
      "cell_type": "code",
      "source": [
        "# 딕셔너리 컴프리헨션\n",
        "\n",
        "# 전통적인 방법\n",
        "d = {}\n",
        "for i in range(5):\n",
        "    d[i] = i**2\n",
        "\n",
        "# 딕셔너리 컴프리헨션 사용\n",
        "dd = {i: i**2 for i in range(5)}"
      ],
      "metadata": {
        "colab": {
          "base_uri": "https://localhost:8080/"
        },
        "id": "WX_cTU1jqBVC",
        "outputId": "84c58536-aa96-453a-ee62-c48ebad08a2f"
      },
      "execution_count": 171,
      "outputs": [
        {
          "output_type": "stream",
          "name": "stdout",
          "text": [
            "{0: 0, 1: 1, 2: 4, 3: 9, 4: 16}\n"
          ]
        }
      ]
    },
    {
      "cell_type": "code",
      "source": [
        "for i, j, k in ['abc', 'def', 'ghi']:\n",
        "    print(type(i), j, k)"
      ],
      "metadata": {
        "colab": {
          "base_uri": "https://localhost:8080/"
        },
        "id": "8s0ZmHYfsjqn",
        "outputId": "19232af2-c974-49ee-dd98-7ccbbd2ad353"
      },
      "execution_count": 173,
      "outputs": [
        {
          "output_type": "stream",
          "name": "stdout",
          "text": [
            "<class 'str'> b c\n",
            "<class 'str'> e f\n",
            "<class 'str'> h i\n"
          ]
        }
      ]
    },
    {
      "cell_type": "code",
      "source": [
        "skill = [\n",
        "        ('고기잡이', 100),\n",
        "        ('고기팔기', 120),\n",
        "        ('낚시', 5),\n",
        "        ('통발', 5),\n",
        "        ('큰그물', 5)\n",
        "]\n",
        "\n",
        "for i, j in skill: # 튜플을 언패킹\n",
        "    print(i, j)"
      ],
      "metadata": {
        "colab": {
          "base_uri": "https://localhost:8080/"
        },
        "id": "a-OMT_qRssMH",
        "outputId": "e4ee9449-6e09-4f4f-8931-dd55e5f57f15"
      },
      "execution_count": 174,
      "outputs": [
        {
          "output_type": "stream",
          "name": "stdout",
          "text": [
            "고기잡이 100\n",
            "고기팔기 120\n",
            "낚시 5\n",
            "통발 5\n",
            "큰그물 5\n"
          ]
        }
      ]
    },
    {
      "cell_type": "code",
      "source": [
        "skill = [\n",
        "        ('고기잡이', 100,\"클릭\"),\n",
        "        ('고기팔기', 120,\"클릭\"),\n",
        "        ('낚시', 5,\"클릭\"),\n",
        "        ('통발', 5,\"클릭\"),\n",
        "        ('큰그물', 5,\"클릭\")\n",
        "]\n",
        "\n",
        "\n",
        "for skillName, skilLevel, skilGuide in skill:\n",
        "    print(skillName,skilLevel,skilGuide)"
      ],
      "metadata": {
        "colab": {
          "base_uri": "https://localhost:8080/"
        },
        "id": "4qEI5B27s1co",
        "outputId": "2d8dc21d-6c8b-4c7e-b151-555f0c1cb5ed"
      },
      "execution_count": 176,
      "outputs": [
        {
          "output_type": "stream",
          "name": "stdout",
          "text": [
            "고기잡이 100 클릭\n",
            "고기팔기 120 클릭\n",
            "낚시 5 클릭\n",
            "통발 5 클릭\n",
            "큰그물 5 클릭\n"
          ]
        }
      ]
    },
    {
      "cell_type": "code",
      "source": [
        "# 인덱스 번호를 생성해주고 요소를 튜플로 묶음\n",
        "\n",
        "영화누적관객수 = ['레미제라블', '뷰티인사이트', '매트릭스', '인셉션', '어거스트 러쉬']\n",
        "for i in enumerate(영화누적관객수):\n",
        "    print(i)\n",
        "\n"
      ],
      "metadata": {
        "colab": {
          "base_uri": "https://localhost:8080/"
        },
        "id": "knRQYq1ltnjO",
        "outputId": "d65a358b-a8a2-4f58-f9dd-88d6104446ed"
      },
      "execution_count": 177,
      "outputs": [
        {
          "output_type": "stream",
          "name": "stdout",
          "text": [
            "(0, '레미제라블')\n",
            "(1, '뷰티인사이트')\n",
            "(2, '매트릭스')\n",
            "(3, '인셉션')\n",
            "(4, '어거스트 러쉬')\n",
            "누적관객수 1위! 레미제라블!\n",
            "누적관객수 2위! 뷰티인사이트!\n",
            "누적관객수 3위! 매트릭스!\n",
            "누적관객수 4위! 인셉션!\n",
            "누적관객수 5위! 어거스트 러쉬!\n"
          ]
        }
      ]
    },
    {
      "cell_type": "code",
      "source": [
        "for i, j in enumerate(영화누적관객수, 1): # 1을 써주면 인덱스 1번호부터 시작하는듯\n",
        "    print(f'누적관객수 {i}위! {j}!')"
      ],
      "metadata": {
        "colab": {
          "base_uri": "https://localhost:8080/"
        },
        "id": "AfoHdj6HuHdP",
        "outputId": "34fb5599-1f23-4d48-f11f-b80b8f748678"
      },
      "execution_count": 182,
      "outputs": [
        {
          "output_type": "stream",
          "name": "stdout",
          "text": [
            "누적관객수 1위! 레미제라블!\n",
            "누적관객수 2위! 뷰티인사이트!\n",
            "누적관객수 3위! 매트릭스!\n",
            "누적관객수 4위! 인셉션!\n",
            "누적관객수 5위! 어거스트 러쉬!\n"
          ]
        }
      ]
    },
    {
      "cell_type": "markdown",
      "source": [
        "# 3. While 문"
      ],
      "metadata": {
        "id": "MHzT9S37v67S"
      }
    },
    {
      "cell_type": "code",
      "source": [
        "while 구문:\n",
        "    pass # 수행할 문장"
      ],
      "metadata": {
        "id": "TE-uH7yPvqmA"
      },
      "execution_count": null,
      "outputs": []
    },
    {
      "cell_type": "code",
      "source": [
        "a = 1\n",
        "\n",
        "while a < 10:\n",
        "    print(a)\n",
        "    a += 1\n",
        "\n",
        "# for 문 기초\n",
        "\n",
        "for i in range(1,10):\n",
        "    print(i)"
      ],
      "metadata": {
        "colab": {
          "base_uri": "https://localhost:8080/"
        },
        "id": "eU9053EOwHs6",
        "outputId": "547d298b-4c3a-4857-ebd1-4f7f1067b6d6"
      },
      "execution_count": 189,
      "outputs": [
        {
          "output_type": "stream",
          "name": "stdout",
          "text": [
            "1\n",
            "2\n",
            "3\n",
            "4\n",
            "5\n",
            "6\n",
            "7\n",
            "8\n",
            "9\n"
          ]
        }
      ]
    },
    {
      "cell_type": "markdown",
      "source": [
        "## 스무고개 숫자 맞추기"
      ],
      "metadata": {
        "id": "IbgX_VMJ0MrG"
      }
    },
    {
      "cell_type": "code",
      "source": [
        "import random\n",
        "\n",
        "user_num = int(input(\"임의의 숫자를 넣어주세요\"))\n",
        "\n",
        "ran_num = random.randrange(1, 101)\n",
        "print(ran_num)\n",
        "\n",
        "if ran_num > user_num:\n",
        "    print(\"숫자가 작습니다\")\n",
        "\n",
        "elif user_num > ran_num:\n",
        "    print(\"숫자가 큽니다\")\n",
        "\n",
        "elif user_num == ran_num:\n",
        "    print(\"정답입니다\")\n",
        "\n",
        "else:\n",
        "    print(\"잘못된 입력입니다\")"
      ],
      "metadata": {
        "colab": {
          "base_uri": "https://localhost:8080/"
        },
        "id": "umB06e7M0Xh9",
        "outputId": "95ce5fb0-33ef-43b8-9128-5ba2827d2229"
      },
      "execution_count": 200,
      "outputs": [
        {
          "output_type": "stream",
          "name": "stdout",
          "text": [
            "48\n"
          ]
        }
      ]
    },
    {
      "cell_type": "code",
      "source": [
        "import random\n",
        "\n",
        "ran_num = random.randrange(1, 101)\n",
        "print(ran_num)\n",
        "\n",
        "while True:\n",
        "    user_num = int(input(\"임의의 숫자를 넣어주세요: \"))\n",
        "\n",
        "    if ran_num > user_num:\n",
        "        print(\"숫자가 작습니다\")\n",
        "\n",
        "    elif user_num > ran_num:\n",
        "        print(\"숫자가 큽니다\")\n",
        "\n",
        "    else:\n",
        "        print(\"정답입니다\")\n",
        "        break  # 정답을 맞추면 루프를 종료\n",
        "\n",
        "# 루프를 빠져나왔을 때 실행되는 코드\n",
        "print(\"게임 종료\")"
      ],
      "metadata": {
        "colab": {
          "base_uri": "https://localhost:8080/"
        },
        "id": "dkfVtJSC2mLw",
        "outputId": "1fa98bf3-5881-434e-8461-7c2a6d3ebbe2"
      },
      "execution_count": 217,
      "outputs": [
        {
          "output_type": "stream",
          "name": "stdout",
          "text": [
            "9\n",
            "임의의 숫자를 넣어주세요: 2\n",
            "숫자가 작습니다\n",
            "임의의 숫자를 넣어주세요: 9\n",
            "정답입니다\n",
            "게임 종료\n"
          ]
        }
      ]
    },
    {
      "cell_type": "code",
      "source": [
        "ran_num = random.randrange(1, 101)\n",
        "print(ran_num)\n",
        "\n",
        "for i in range(3):\n",
        "    num = int(input(\"숫자를 넣어라\"))\n",
        "\n",
        "    if ran_num > num:\n",
        "        print(\"숫자가 작습니다 \")\n",
        "\n",
        "    elif num > ran_num:\n",
        "        print(\"숫자가 큽니다\")\n",
        "\n",
        "    else:\n",
        "\n",
        "        print(f\"{i+1}번 만에 맞췄습니다.\")\n",
        "        break\n",
        "\n",
        "\n",
        ""
      ],
      "metadata": {
        "colab": {
          "base_uri": "https://localhost:8080/"
        },
        "id": "Bp7bQc6_3sCW",
        "outputId": "26176550-18c9-480d-e680-91091bd66dfc"
      },
      "execution_count": 220,
      "outputs": [
        {
          "output_type": "stream",
          "name": "stdout",
          "text": [
            "23\n",
            "숫자를 넣어라23\n",
            "1번 만에 맞췄습니다.\n",
            "기회를 모두 사용 하셨습니다 답은 23이었습니다\n"
          ]
        }
      ]
    },
    {
      "cell_type": "code",
      "source": [
        "l = ['가위','바위','보']\n",
        "\n",
        "\n",
        "for _ in range(5):\n",
        "    com_choice = random.choice(l)\n",
        "\n",
        "    user_choice = input(\"가위, 바위, 보 중에 하나를 입력해주세요: \")\n",
        "\n",
        "    print(f\"컴퓨터: {com_choice}, 사용자: {user_choice}\")\n",
        "\n",
        "    if user_choice == com_choice:\n",
        "        print(\"비겼습니다!\")\n",
        "    elif (\n",
        "        (user_choice == '가위' and com_choice == '보') or\n",
        "        (user_choice == '바위' and com_choice == '가위') or\n",
        "        (user_choice == '보' and com_choice == '바위')\n",
        "    ):\n",
        "        print(\"이겼습니다!\")\n",
        "    else:\n",
        "        print(\"졌습니다!\")\n",
        ""
      ],
      "metadata": {
        "colab": {
          "base_uri": "https://localhost:8080/"
        },
        "id": "vPuYVY1n7e1A",
        "outputId": "b080dc5b-96fe-4928-f83f-1ed8b549adea"
      },
      "execution_count": 235,
      "outputs": [
        {
          "output_type": "stream",
          "name": "stdout",
          "text": [
            "가위, 바위, 보 중에 하나를 입력해주세요: 보\n",
            "컴퓨터: 보, 사용자: 보\n",
            "비겼습니다!\n",
            "가위, 바위, 보 중에 하나를 입력해주세요: 가위\n",
            "컴퓨터: 보, 사용자: 가위\n",
            "이겼습니다!\n",
            "가위, 바위, 보 중에 하나를 입력해주세요: 가위\n",
            "컴퓨터: 바위, 사용자: 가위\n",
            "졌습니다!\n",
            "가위, 바위, 보 중에 하나를 입력해주세요: 가위\n",
            "컴퓨터: 보, 사용자: 가위\n",
            "이겼습니다!\n",
            "가위, 바위, 보 중에 하나를 입력해주세요: 가위\n",
            "컴퓨터: 보, 사용자: 가위\n",
            "이겼습니다!\n"
          ]
        }
      ]
    }
  ]
}