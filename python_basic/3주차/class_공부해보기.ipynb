{
  "nbformat": 4,
  "nbformat_minor": 0,
  "metadata": {
    "colab": {
      "provenance": []
    },
    "kernelspec": {
      "name": "python3",
      "display_name": "Python 3"
    },
    "language_info": {
      "name": "python"
    }
  },
  "cells": [
    {
      "cell_type": "markdown",
      "source": [
        "# 클래스 개념\n",
        "\n",
        "## 붕어빵 틀이라고 생각하면 쉽다\n",
        "* 클래스, 인스턴스\n",
        "* self 개념\n",
        "* 인서턴스 메소드\n",
        "* 클래스, 인스턴스 변수\n"
      ],
      "metadata": {
        "id": "euxJhHFkz91I"
      }
    },
    {
      "cell_type": "code",
      "source": [
        "# 클래스(붕어빵틀) 와 인스턴스(코드에서 사용하는 객체)의 차이를 이해하는게 중요하다"
      ],
      "metadata": {
        "id": "nooEFxQn0Fko"
      },
      "execution_count": null,
      "outputs": []
    },
    {
      "cell_type": "code",
      "source": [
        "# 예제 1\n",
        "\n",
        "# 클래스변수 : 직접 접근가능, 공유\n",
        "# 인스턴스 변수 : 객체마다 별도 존재\n",
        "\n",
        "class Dog(): # object상속\n",
        "    # 클래스 속성\n",
        "    species = 'firstdog'    # 클래스변수\n",
        "\n",
        "    # 초기화/인스턴스 속성\n",
        "    def __init__(self, name, age):\n",
        "        self.name = name\n",
        "        self.age = age\n",
        "\n",
        "\n",
        "# 클래스 정보\n",
        "# print(Dog)\n",
        "\n",
        "\n",
        "# 인스턴스화\n",
        "\n",
        "a = Dog('쎗빠트','2')\n",
        "b = Dog('탐지견','3')\n",
        "c = Dog('쎗빠트','2')\n",
        "# 비교\n",
        "\n",
        "# print(a == b,id(a), id(b), id(c))   # 값이 같아도 주소가 다름\n",
        "\n",
        "# 네임스페이스\n",
        "\n",
        "# print('dog1', a.__dict__)\n",
        "# print('dog2', b.__dict__)\n",
        "\n",
        "\n",
        "# 인스턴스 속성 확인\n",
        "\n",
        "# print(f'이름은{a.name}이고 나이는 {a.age} 입니다 {b.name}{b.age}')\n",
        "\n",
        "if a.species == 'firstdog':\n",
        "    print(f\"{a.name} {a.age}\")\n",
        "\n",
        "\n",
        "# print(Dog.species) # 클래스로도 접근가능, self가 붙은건 별도 존재\n",
        "# print(a.species)\n",
        "# print(b.species)\n",
        "\n",
        "\n",
        "\n",
        "# 예제 2\n",
        "# self의 이해 self은 나만의 공간\n",
        "\n",
        "class SelfTest():\n",
        "\n",
        "    def func1():\n",
        "        print('func1 called')\n",
        "\n",
        "    def func2(self):\n",
        "        print(id(self))\n",
        "        print('func2 called')\n",
        "\n",
        "f = SelfTest()\n",
        "\n",
        "# print(dir(f))\n",
        "print(id(f))\n",
        "# f.func1() # 예외\n",
        "\n",
        "# f.func2()\n",
        "SelfTest.func1()\n",
        "# SelfTest.func() # self가 있어 class 메소드 이므로 호출에러\n",
        "SelfTest.func2(f)"
      ],
      "metadata": {
        "id": "Mb_-iz2K1EEI"
      },
      "execution_count": null,
      "outputs": []
    },
    {
      "cell_type": "code",
      "source": [
        "# 예제3\n",
        "# 클래스 변수, 인스턴스 변수\n",
        "\n",
        "\n",
        "class Warehouse():\n",
        "\n",
        "    # 클래스 변수 모두 공유함\n",
        "    stock_num = 0 # 재고\n",
        "\n",
        "    def __init__(self, name):\n",
        "        # 인스턴스 변수\n",
        "        self.name = name\n",
        "        Warehouse.stock_num += 1\n",
        "\n",
        "    def __del__(self):\n",
        "        Warehouse.stock_num -= 1\n",
        "\n",
        "\n",
        "\n",
        "user1 = Warehouse('Lee')\n",
        "user2 = Warehouse('Cho')\n",
        "\n",
        "\n",
        "# print(stock_num) # 이런식으로는 불가\n",
        "print(Warehouse.stock_num)\n",
        "\n",
        "print(user1.name)\n",
        "print(user2.name)\n",
        "print(user1.__dict__)\n",
        "print(user2.__dict__)\n",
        "print(Warehouse.__dict__)"
      ],
      "metadata": {
        "id": "nTn0T33s8El9"
      },
      "execution_count": null,
      "outputs": []
    },
    {
      "cell_type": "code",
      "source": [
        "class Dog(): # object상속\n",
        "    # 클래스 속성\n",
        "    species = 'firstdog'    # 클래스변수\n",
        "\n",
        "    # 초기화/인스턴스 속성\n",
        "    def __init__(self, name, age):\n",
        "        self.name = name\n",
        "        self.age = age\n",
        "\n",
        "\n",
        "    def info(self):\n",
        "\n",
        "        return f\"{self.name}는 {self.age}살 입니다\"\n",
        "\n",
        "\n",
        "    def speak(self,sound):\n",
        "\n",
        "        return f\"{self.name}는  {sound}라고 짖습니다\"\n",
        "\n",
        "\n",
        "\n",
        "# c = Dog('july', 4)\n",
        "\n",
        "# d = Dog('탬스', 10)\n",
        "\n",
        "c.info()\n",
        "\n",
        "# c.speak('walwal')\n",
        "\n",
        "# d.speak(\"으르르\")"
      ],
      "metadata": {
        "colab": {
          "base_uri": "https://localhost:8080/",
          "height": 35
        },
        "id": "sRhhnPqw-xV8",
        "outputId": "f47da27f-ff5d-471a-bf20-42323ee82e57"
      },
      "execution_count": 82,
      "outputs": [
        {
          "output_type": "execute_result",
          "data": {
            "text/plain": [
              "'july는 4살 입니다'"
            ],
            "application/vnd.google.colaboratory.intrinsic+json": {
              "type": "string"
            }
          },
          "metadata": {},
          "execution_count": 82
        }
      ]
    },
    {
      "cell_type": "code",
      "source": [
        "class Car: # 차에 설계 도면 또는 차 공장, 클래스\n",
        "    max_speed = 300 # 멤버 또는 애트리뷰트\n",
        "    max_people = 5\n",
        "    car_gear = ['P', 'D', 'R', 'N']\n",
        "\n",
        "    def start(self,sound): # 메서드\n",
        "        print(f'{sound} 차가 출발합니다!')\n",
        "\n",
        "    def stop(self,sound):\n",
        "        print(f'{sound} 차가 멈췄습니다!')\n",
        "\n",
        "    def info(self):\n",
        "        print(f\"차량의 최고 속도는 {self.max_speed}km 이며 최대 탑승인원은 {self.max_people}명 입니다\")\n",
        "\n",
        "\n",
        "# 공장에서 생산된 자동차 modelx, y, s, 인스턴스\n",
        "modelx = Car() # 인스턴스 = 클래스()\n",
        "modely = Car()\n",
        "models = Car()\n",
        "\n",
        "\n",
        "modelx.start(\"부릉부릉\")\n",
        "modelx.stop(\"끼이익\")\n",
        "modelx.info()"
      ],
      "metadata": {
        "colab": {
          "base_uri": "https://localhost:8080/"
        },
        "id": "RQRv7N7jFJD5",
        "outputId": "d5d6ef0b-8b2d-460d-caaf-b0966546a2f8"
      },
      "execution_count": 97,
      "outputs": [
        {
          "output_type": "stream",
          "name": "stdout",
          "text": [
            "부릉부릉 차가 출발합니다!\n",
            "끼이익 차가 멈췄습니다!\n",
            "차량의 최고 속도는 300km 이며 최대 탑승인원은 5명 입니다\n"
          ]
        }
      ]
    },
    {
      "cell_type": "code",
      "source": [
        "x = int(3)\n",
        "print(type(x))"
      ],
      "metadata": {
        "colab": {
          "base_uri": "https://localhost:8080/"
        },
        "id": "wc60pE9FHiZB",
        "outputId": "39444896-18ec-4d43-ea40-750747b19599"
      },
      "execution_count": 98,
      "outputs": [
        {
          "output_type": "stream",
          "name": "stdout",
          "text": [
            "<class 'int'>\n"
          ]
        }
      ]
    },
    {
      "cell_type": "code",
      "source": [
        "isinstance(x, int)"
      ],
      "metadata": {
        "colab": {
          "base_uri": "https://localhost:8080/"
        },
        "id": "v75o6nKgHqF4",
        "outputId": "b68c3032-e861-4397-db9e-c9525b5b843d"
      },
      "execution_count": 99,
      "outputs": [
        {
          "output_type": "execute_result",
          "data": {
            "text/plain": [
              "True"
            ]
          },
          "metadata": {},
          "execution_count": 99
        }
      ]
    },
    {
      "cell_type": "code",
      "source": [
        "dir(x)"
      ],
      "metadata": {
        "colab": {
          "base_uri": "https://localhost:8080/"
        },
        "id": "MaZvZHNOH9sr",
        "outputId": "bbc252ac-e1f0-4602-f3d6-b53813f4b67f"
      },
      "execution_count": 101,
      "outputs": [
        {
          "output_type": "execute_result",
          "data": {
            "text/plain": [
              "['__abs__',\n",
              " '__add__',\n",
              " '__and__',\n",
              " '__bool__',\n",
              " '__ceil__',\n",
              " '__class__',\n",
              " '__delattr__',\n",
              " '__dir__',\n",
              " '__divmod__',\n",
              " '__doc__',\n",
              " '__eq__',\n",
              " '__float__',\n",
              " '__floor__',\n",
              " '__floordiv__',\n",
              " '__format__',\n",
              " '__ge__',\n",
              " '__getattribute__',\n",
              " '__getnewargs__',\n",
              " '__gt__',\n",
              " '__hash__',\n",
              " '__index__',\n",
              " '__init__',\n",
              " '__init_subclass__',\n",
              " '__int__',\n",
              " '__invert__',\n",
              " '__le__',\n",
              " '__lshift__',\n",
              " '__lt__',\n",
              " '__mod__',\n",
              " '__mul__',\n",
              " '__ne__',\n",
              " '__neg__',\n",
              " '__new__',\n",
              " '__or__',\n",
              " '__pos__',\n",
              " '__pow__',\n",
              " '__radd__',\n",
              " '__rand__',\n",
              " '__rdivmod__',\n",
              " '__reduce__',\n",
              " '__reduce_ex__',\n",
              " '__repr__',\n",
              " '__rfloordiv__',\n",
              " '__rlshift__',\n",
              " '__rmod__',\n",
              " '__rmul__',\n",
              " '__ror__',\n",
              " '__round__',\n",
              " '__rpow__',\n",
              " '__rrshift__',\n",
              " '__rshift__',\n",
              " '__rsub__',\n",
              " '__rtruediv__',\n",
              " '__rxor__',\n",
              " '__setattr__',\n",
              " '__sizeof__',\n",
              " '__str__',\n",
              " '__sub__',\n",
              " '__subclasshook__',\n",
              " '__truediv__',\n",
              " '__trunc__',\n",
              " '__xor__',\n",
              " 'as_integer_ratio',\n",
              " 'bit_count',\n",
              " 'bit_length',\n",
              " 'conjugate',\n",
              " 'denominator',\n",
              " 'from_bytes',\n",
              " 'imag',\n",
              " 'numerator',\n",
              " 'real',\n",
              " 'to_bytes']"
            ]
          },
          "metadata": {},
          "execution_count": 101
        }
      ]
    },
    {
      "cell_type": "code",
      "source": [
        "# x = int(3) 여기서 넣었던 3이라는 값이 어떻게 처리되는지 확인\n",
        "class Car:\n",
        "    max_speed = 300\n",
        "    max_people = 5\n",
        "    car_gear = ['P', 'D', 'R', 'N']\n",
        "\n",
        "    def __init__(self, name, CEO): # 클래스로 인스턴스를 만들 때 호출!\n",
        "        self.name = name\n",
        "        self.CEO = CEO\n",
        "\n",
        "    def start(self):\n",
        "        print('차가 출발합니다!')\n",
        "\n",
        "    def stop(self):\n",
        "        print('차가 멈췄습니다!')\n",
        "\n",
        "modelx = Car('Tesla Model X', '일론 머스크') # x = int(3) 여기서 넣었던 3이 __init__ 메직메서드에서 처리!\n",
        "modelx.name"
      ],
      "metadata": {
        "colab": {
          "base_uri": "https://localhost:8080/",
          "height": 35
        },
        "id": "kbsU7FUjH0lQ",
        "outputId": "aba7c2fa-5d89-4786-834f-ad8635080431"
      },
      "execution_count": 100,
      "outputs": [
        {
          "output_type": "execute_result",
          "data": {
            "text/plain": [
              "'Tesla Model X'"
            ],
            "application/vnd.google.colaboratory.intrinsic+json": {
              "type": "string"
            }
          },
          "metadata": {},
          "execution_count": 100
        }
      ]
    },
    {
      "cell_type": "markdown",
      "source": [
        "#1. 클래스 변수\n",
        "\n",
        "* 클래스 변수는 클래스 바로 하위에 자리하고 있는 변수들 입니다.   \n",
        "  이 클래스 변수는 아래의 예시와 같이 클래스 이름, 인스턴스 이름을   통해서\n",
        "  접근할 수 있습니다.\n",
        "    \n",
        "          \n",
        "* 마크다운 줄바꿈 스페이스바 두번"
      ],
      "metadata": {
        "id": "Wz9MuJX_IMHw"
      }
    },
    {
      "cell_type": "code",
      "source": [
        "class Car:\n",
        "    # 클래스 변수의 위치\n",
        "    max_speed = 300\n",
        "    max_people = 5\n",
        "    car_gear = ['P', 'D', 'R', 'N']\n",
        "\n",
        "modelx = Car()\n",
        "modely = Car()\n",
        "\n",
        "modely.max_speed = 500\n",
        "\n",
        "print(Car.max_speed)\n",
        "print(modelx.max_speed)\n",
        "print(modely.max_speed)"
      ],
      "metadata": {
        "colab": {
          "base_uri": "https://localhost:8080/"
        },
        "id": "RLr0Wb5NIKy4",
        "outputId": "214fe3ff-7d1e-4d93-a576-bc34f2c48fa8"
      },
      "execution_count": 103,
      "outputs": [
        {
          "output_type": "stream",
          "name": "stdout",
          "text": [
            "300\n",
            "300\n",
            "500\n"
          ]
        }
      ]
    },
    {
      "cell_type": "code",
      "source": [
        "class Car:\n",
        "    kinds = []\n",
        "    speed = 300\n",
        "\n",
        "    def add_kinds(self, name):\n",
        "        self.kinds.append(name)\n",
        "\n",
        "    def change_speed(self, speed):\n",
        "        self.speed = speed\n",
        "\n",
        "modelx = Car()\n",
        "modely = Car()\n",
        "\n",
        "modelx.add_kinds('x')\n",
        "modely.add_kinds('y')\n",
        "\n",
        "Car.speed = 100\n",
        "\n",
        "# modelx.change_speed(500)\n",
        "# modely.change_speed(250)\n",
        "\n",
        "print(f'modelx.kinds: {modelx.kinds}')\n",
        "print(f'modely.kinds: {modely.kinds}')\n",
        "print(f'modelx.speed: {modelx.speed}')\n",
        "print(f'modely.speed: {modely.speed}')"
      ],
      "metadata": {
        "colab": {
          "base_uri": "https://localhost:8080/"
        },
        "id": "LF4BcySGJVAw",
        "outputId": "a220e1a8-2fff-48c8-9534-24f58f5a9de7"
      },
      "execution_count": 105,
      "outputs": [
        {
          "output_type": "stream",
          "name": "stdout",
          "text": [
            "modelx.kinds: ['x', 'y']\n",
            "modely.kinds: ['x', 'y']\n",
            "modelx.speed: 500\n",
            "modely.speed: 250\n"
          ]
        }
      ]
    },
    {
      "cell_type": "code",
      "source": [
        "class Car:\n",
        "    kinds = []\n",
        "    speed = 300\n",
        "\n",
        "    def add_kinds(self, name):\n",
        "        self.kinds.append(name)\n",
        "\n",
        "    def change_speed(self, speed):\n",
        "        self.speed = speed\n",
        "\n",
        "modelx = Car()\n",
        "modely = Car()\n",
        "\n",
        "# Car.speed = 100\n",
        "\n",
        "modelx.change_speed(500)\n",
        "modely.change_speed(250)\n",
        "\n",
        "print(f'modelx.speed: {modelx.speed}')\n",
        "print(f'modely.speed: {modely.speed}')"
      ],
      "metadata": {
        "colab": {
          "base_uri": "https://localhost:8080/"
        },
        "id": "JmBV_QIGJkDo",
        "outputId": "764a3b69-98d3-40a1-ff42-9fbc39cc7f0c"
      },
      "execution_count": 106,
      "outputs": [
        {
          "output_type": "stream",
          "name": "stdout",
          "text": [
            "modelx.speed: 500\n",
            "modely.speed: 250\n"
          ]
        }
      ]
    }
  ]
}